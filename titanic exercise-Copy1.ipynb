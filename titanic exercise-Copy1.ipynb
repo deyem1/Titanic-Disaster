{
 "cells": [
  {
   "cell_type": "code",
   "execution_count": 227,
   "id": "997a9f55-e295-40b8-b503-83144a079cbf",
   "metadata": {},
   "outputs": [],
   "source": [
    "\n",
    "import pandas as pd\n",
    "import numpy as np\n",
    "import matplotlib.pyplot as plt\n",
    "import seaborn as sns\n",
    "from sklearn.linear_model import LogisticRegression\n",
    "from sklearn.metrics import classification_report, confusion_matrix, accuracy_score, mean_absolute_error,mean_squared_error\n",
    "from sklearn.model_selection import train_test_split, GridSearchCV\n",
    "from sklearn.ensemble import RandomForestClassifier, GradientBoostingClassifier\n",
    "import xgboost as gb\n",
    "from sklearn.svm import SVC\n",
    "# from sklearn.metrics import classification_report, confusion_matrix\n",
    "from sklearn.neighbors import KNeighborsClassifier"
   ]
  },
  {
   "cell_type": "code",
   "execution_count": 133,
   "id": "7f8e87f3-5e65-4b2e-aece-d45a73e13645",
   "metadata": {},
   "outputs": [],
   "source": [
    "# reading data from csv\n",
    "train = pd.read_csv(\"titanic_train.csv\")\n",
    "test = pd.read_csv(\"titanic_test.csv\")"
   ]
  },
  {
   "cell_type": "code",
   "execution_count": 3,
   "id": "95eca116-5d2b-45cc-b520-07dc7b59ced0",
   "metadata": {},
   "outputs": [
    {
     "data": {
      "text/html": [
       "<div>\n",
       "<style scoped>\n",
       "    .dataframe tbody tr th:only-of-type {\n",
       "        vertical-align: middle;\n",
       "    }\n",
       "\n",
       "    .dataframe tbody tr th {\n",
       "        vertical-align: top;\n",
       "    }\n",
       "\n",
       "    .dataframe thead th {\n",
       "        text-align: right;\n",
       "    }\n",
       "</style>\n",
       "<table border=\"1\" class=\"dataframe\">\n",
       "  <thead>\n",
       "    <tr style=\"text-align: right;\">\n",
       "      <th></th>\n",
       "      <th>PassengerId</th>\n",
       "      <th>Survived</th>\n",
       "      <th>Pclass</th>\n",
       "      <th>Name</th>\n",
       "      <th>Sex</th>\n",
       "      <th>Age</th>\n",
       "      <th>SibSp</th>\n",
       "      <th>Parch</th>\n",
       "      <th>Ticket</th>\n",
       "      <th>Fare</th>\n",
       "      <th>Cabin</th>\n",
       "      <th>Embarked</th>\n",
       "    </tr>\n",
       "  </thead>\n",
       "  <tbody>\n",
       "    <tr>\n",
       "      <th>0</th>\n",
       "      <td>1</td>\n",
       "      <td>0</td>\n",
       "      <td>3</td>\n",
       "      <td>Braund, Mr. Owen Harris</td>\n",
       "      <td>male</td>\n",
       "      <td>22.0</td>\n",
       "      <td>1</td>\n",
       "      <td>0</td>\n",
       "      <td>A/5 21171</td>\n",
       "      <td>7.2500</td>\n",
       "      <td>NaN</td>\n",
       "      <td>S</td>\n",
       "    </tr>\n",
       "    <tr>\n",
       "      <th>1</th>\n",
       "      <td>2</td>\n",
       "      <td>1</td>\n",
       "      <td>1</td>\n",
       "      <td>Cumings, Mrs. John Bradley (Florence Briggs Th...</td>\n",
       "      <td>female</td>\n",
       "      <td>38.0</td>\n",
       "      <td>1</td>\n",
       "      <td>0</td>\n",
       "      <td>PC 17599</td>\n",
       "      <td>71.2833</td>\n",
       "      <td>C85</td>\n",
       "      <td>C</td>\n",
       "    </tr>\n",
       "    <tr>\n",
       "      <th>2</th>\n",
       "      <td>3</td>\n",
       "      <td>1</td>\n",
       "      <td>3</td>\n",
       "      <td>Heikkinen, Miss. Laina</td>\n",
       "      <td>female</td>\n",
       "      <td>26.0</td>\n",
       "      <td>0</td>\n",
       "      <td>0</td>\n",
       "      <td>STON/O2. 3101282</td>\n",
       "      <td>7.9250</td>\n",
       "      <td>NaN</td>\n",
       "      <td>S</td>\n",
       "    </tr>\n",
       "    <tr>\n",
       "      <th>3</th>\n",
       "      <td>4</td>\n",
       "      <td>1</td>\n",
       "      <td>1</td>\n",
       "      <td>Futrelle, Mrs. Jacques Heath (Lily May Peel)</td>\n",
       "      <td>female</td>\n",
       "      <td>35.0</td>\n",
       "      <td>1</td>\n",
       "      <td>0</td>\n",
       "      <td>113803</td>\n",
       "      <td>53.1000</td>\n",
       "      <td>C123</td>\n",
       "      <td>S</td>\n",
       "    </tr>\n",
       "    <tr>\n",
       "      <th>4</th>\n",
       "      <td>5</td>\n",
       "      <td>0</td>\n",
       "      <td>3</td>\n",
       "      <td>Allen, Mr. William Henry</td>\n",
       "      <td>male</td>\n",
       "      <td>35.0</td>\n",
       "      <td>0</td>\n",
       "      <td>0</td>\n",
       "      <td>373450</td>\n",
       "      <td>8.0500</td>\n",
       "      <td>NaN</td>\n",
       "      <td>S</td>\n",
       "    </tr>\n",
       "  </tbody>\n",
       "</table>\n",
       "</div>"
      ],
      "text/plain": [
       "   PassengerId  Survived  Pclass  \\\n",
       "0            1         0       3   \n",
       "1            2         1       1   \n",
       "2            3         1       3   \n",
       "3            4         1       1   \n",
       "4            5         0       3   \n",
       "\n",
       "                                                Name     Sex   Age  SibSp  \\\n",
       "0                            Braund, Mr. Owen Harris    male  22.0      1   \n",
       "1  Cumings, Mrs. John Bradley (Florence Briggs Th...  female  38.0      1   \n",
       "2                             Heikkinen, Miss. Laina  female  26.0      0   \n",
       "3       Futrelle, Mrs. Jacques Heath (Lily May Peel)  female  35.0      1   \n",
       "4                           Allen, Mr. William Henry    male  35.0      0   \n",
       "\n",
       "   Parch            Ticket     Fare Cabin Embarked  \n",
       "0      0         A/5 21171   7.2500   NaN        S  \n",
       "1      0          PC 17599  71.2833   C85        C  \n",
       "2      0  STON/O2. 3101282   7.9250   NaN        S  \n",
       "3      0            113803  53.1000  C123        S  \n",
       "4      0            373450   8.0500   NaN        S  "
      ]
     },
     "execution_count": 3,
     "metadata": {},
     "output_type": "execute_result"
    }
   ],
   "source": [
    "train.head()"
   ]
  },
  {
   "cell_type": "code",
   "execution_count": 4,
   "id": "58987809-c900-4d2e-93a1-be0d354c3c61",
   "metadata": {},
   "outputs": [],
   "source": [
    "data = train.copy()"
   ]
  },
  {
   "cell_type": "code",
   "execution_count": 172,
   "id": "caa9c0fa-d5c9-470f-910c-40988522d46b",
   "metadata": {},
   "outputs": [
    {
     "data": {
      "text/plain": [
       "233"
      ]
     },
     "execution_count": 172,
     "metadata": {},
     "output_type": "execute_result"
    }
   ],
   "source": [
    "# data[[\"Survived\"]].sum()\n",
    "women  = data[data[\"Sex\"] == \"female\"][\"Survived\"]\n",
    "women.sum()"
   ]
  },
  {
   "cell_type": "code",
   "execution_count": null,
   "id": "90d70849-9339-48bf-9d8c-95048d00efd7",
   "metadata": {},
   "outputs": [],
   "source": []
  },
  {
   "cell_type": "code",
   "execution_count": 5,
   "id": "bda4eb0e-3047-4e32-902b-8028980cfaad",
   "metadata": {},
   "outputs": [
    {
     "name": "stdout",
     "output_type": "stream",
     "text": [
      "<class 'pandas.core.frame.DataFrame'>\n",
      "RangeIndex: 891 entries, 0 to 890\n",
      "Data columns (total 12 columns):\n",
      " #   Column       Non-Null Count  Dtype  \n",
      "---  ------       --------------  -----  \n",
      " 0   PassengerId  891 non-null    int64  \n",
      " 1   Survived     891 non-null    int64  \n",
      " 2   Pclass       891 non-null    int64  \n",
      " 3   Name         891 non-null    object \n",
      " 4   Sex          891 non-null    object \n",
      " 5   Age          714 non-null    float64\n",
      " 6   SibSp        891 non-null    int64  \n",
      " 7   Parch        891 non-null    int64  \n",
      " 8   Ticket       891 non-null    object \n",
      " 9   Fare         891 non-null    float64\n",
      " 10  Cabin        204 non-null    object \n",
      " 11  Embarked     889 non-null    object \n",
      "dtypes: float64(2), int64(5), object(5)\n",
      "memory usage: 83.7+ KB\n"
     ]
    }
   ],
   "source": [
    "train.info()"
   ]
  },
  {
   "cell_type": "code",
   "execution_count": 6,
   "id": "b70e2d36-8b69-4492-a8a9-e97a8c1b6485",
   "metadata": {},
   "outputs": [
    {
     "name": "stdout",
     "output_type": "stream",
     "text": [
      "<class 'pandas.core.frame.DataFrame'>\n",
      "RangeIndex: 418 entries, 0 to 417\n",
      "Data columns (total 11 columns):\n",
      " #   Column       Non-Null Count  Dtype  \n",
      "---  ------       --------------  -----  \n",
      " 0   PassengerId  418 non-null    int64  \n",
      " 1   Pclass       418 non-null    int64  \n",
      " 2   Name         418 non-null    object \n",
      " 3   Sex          418 non-null    object \n",
      " 4   Age          332 non-null    float64\n",
      " 5   SibSp        418 non-null    int64  \n",
      " 6   Parch        418 non-null    int64  \n",
      " 7   Ticket       418 non-null    object \n",
      " 8   Fare         417 non-null    float64\n",
      " 9   Cabin        91 non-null     object \n",
      " 10  Embarked     418 non-null    object \n",
      "dtypes: float64(2), int64(4), object(5)\n",
      "memory usage: 36.0+ KB\n"
     ]
    }
   ],
   "source": [
    "test.info()"
   ]
  },
  {
   "cell_type": "code",
   "execution_count": 7,
   "id": "0d953700-5cce-4fec-a2dd-5152fce8c09b",
   "metadata": {},
   "outputs": [
    {
     "data": {
      "text/plain": [
       "3    491\n",
       "1    216\n",
       "2    184\n",
       "Name: Pclass, dtype: int64"
      ]
     },
     "execution_count": 7,
     "metadata": {},
     "output_type": "execute_result"
    }
   ],
   "source": [
    "train.Pclass.value_counts()"
   ]
  },
  {
   "cell_type": "code",
   "execution_count": 8,
   "id": "ff4b0a63-1c20-4d1a-ace7-be24b6591d64",
   "metadata": {},
   "outputs": [
    {
     "data": {
      "text/plain": [
       "PassengerId     0.00\n",
       "Survived        0.00\n",
       "Pclass          0.00\n",
       "Name            0.00\n",
       "Sex             0.00\n",
       "Age            19.87\n",
       "SibSp           0.00\n",
       "Parch           0.00\n",
       "Ticket          0.00\n",
       "Fare            0.00\n",
       "Cabin          77.10\n",
       "Embarked        0.22\n",
       "dtype: float64"
      ]
     },
     "execution_count": 8,
     "metadata": {},
     "output_type": "execute_result"
    }
   ],
   "source": [
    "# checking the percentage of missing data\n",
    "round(((train.isnull().sum())/train.shape[0]) * 100, 2)\n",
    "# len(train)"
   ]
  },
  {
   "cell_type": "code",
   "execution_count": 9,
   "id": "bc968912-325b-4994-965c-f9c1cf363a0b",
   "metadata": {},
   "outputs": [
    {
     "data": {
      "text/plain": [
       "<AxesSubplot:>"
      ]
     },
     "execution_count": 9,
     "metadata": {},
     "output_type": "execute_result"
    },
    {
     "data": {
      "image/png": "[encoded data removed]",
      "text/plain": [
       "<Figure size 864x360 with 2 Axes>"
      ]
     },
     "metadata": {
      "needs_background": "light"
     },
     "output_type": "display_data"
    }
   ],
   "source": [
    "# visualizing missing data\n",
    "plt.figure(figsize=(12,5))\n",
    "sns.heatmap(train.isnull())"
   ]
  },
  {
   "cell_type": "code",
   "execution_count": 10,
   "id": "9daaf0b5-6ec8-4bff-b429-6b474f082a4c",
   "metadata": {},
   "outputs": [
    {
     "data": {
      "text/plain": [
       "0    0.616162\n",
       "1    0.383838\n",
       "Name: Survived, dtype: float64"
      ]
     },
     "execution_count": 10,
     "metadata": {},
     "output_type": "execute_result"
    }
   ],
   "source": [
    "# checking the distribution of survival in percentage\n",
    "train.Survived.value_counts(normalize=True)"
   ]
  },
  {
   "cell_type": "code",
   "execution_count": 11,
   "id": "83610b19-0302-4f2d-a8b0-de06d779619e",
   "metadata": {},
   "outputs": [
    {
     "data": {
      "text/html": [
       "<div>\n",
       "<style scoped>\n",
       "    .dataframe tbody tr th:only-of-type {\n",
       "        vertical-align: middle;\n",
       "    }\n",
       "\n",
       "    .dataframe tbody tr th {\n",
       "        vertical-align: top;\n",
       "    }\n",
       "\n",
       "    .dataframe thead th {\n",
       "        text-align: right;\n",
       "    }\n",
       "</style>\n",
       "<table border=\"1\" class=\"dataframe\">\n",
       "  <thead>\n",
       "    <tr style=\"text-align: right;\">\n",
       "      <th></th>\n",
       "      <th>PassengerId</th>\n",
       "      <th>Survived</th>\n",
       "      <th>Pclass</th>\n",
       "      <th>Age</th>\n",
       "      <th>SibSp</th>\n",
       "      <th>Parch</th>\n",
       "      <th>Fare</th>\n",
       "    </tr>\n",
       "  </thead>\n",
       "  <tbody>\n",
       "    <tr>\n",
       "      <th>count</th>\n",
       "      <td>891.000000</td>\n",
       "      <td>891.000000</td>\n",
       "      <td>891.000000</td>\n",
       "      <td>714.000000</td>\n",
       "      <td>891.000000</td>\n",
       "      <td>891.000000</td>\n",
       "      <td>891.000000</td>\n",
       "    </tr>\n",
       "    <tr>\n",
       "      <th>mean</th>\n",
       "      <td>446.000000</td>\n",
       "      <td>0.383838</td>\n",
       "      <td>2.308642</td>\n",
       "      <td>29.699118</td>\n",
       "      <td>0.523008</td>\n",
       "      <td>0.381594</td>\n",
       "      <td>32.204208</td>\n",
       "    </tr>\n",
       "    <tr>\n",
       "      <th>std</th>\n",
       "      <td>257.353842</td>\n",
       "      <td>0.486592</td>\n",
       "      <td>0.836071</td>\n",
       "      <td>14.526497</td>\n",
       "      <td>1.102743</td>\n",
       "      <td>0.806057</td>\n",
       "      <td>49.693429</td>\n",
       "    </tr>\n",
       "    <tr>\n",
       "      <th>min</th>\n",
       "      <td>1.000000</td>\n",
       "      <td>0.000000</td>\n",
       "      <td>1.000000</td>\n",
       "      <td>0.420000</td>\n",
       "      <td>0.000000</td>\n",
       "      <td>0.000000</td>\n",
       "      <td>0.000000</td>\n",
       "    </tr>\n",
       "    <tr>\n",
       "      <th>25%</th>\n",
       "      <td>223.500000</td>\n",
       "      <td>0.000000</td>\n",
       "      <td>2.000000</td>\n",
       "      <td>20.125000</td>\n",
       "      <td>0.000000</td>\n",
       "      <td>0.000000</td>\n",
       "      <td>7.910400</td>\n",
       "    </tr>\n",
       "    <tr>\n",
       "      <th>50%</th>\n",
       "      <td>446.000000</td>\n",
       "      <td>0.000000</td>\n",
       "      <td>3.000000</td>\n",
       "      <td>28.000000</td>\n",
       "      <td>0.000000</td>\n",
       "      <td>0.000000</td>\n",
       "      <td>14.454200</td>\n",
       "    </tr>\n",
       "    <tr>\n",
       "      <th>75%</th>\n",
       "      <td>668.500000</td>\n",
       "      <td>1.000000</td>\n",
       "      <td>3.000000</td>\n",
       "      <td>38.000000</td>\n",
       "      <td>1.000000</td>\n",
       "      <td>0.000000</td>\n",
       "      <td>31.000000</td>\n",
       "    </tr>\n",
       "    <tr>\n",
       "      <th>max</th>\n",
       "      <td>891.000000</td>\n",
       "      <td>1.000000</td>\n",
       "      <td>3.000000</td>\n",
       "      <td>80.000000</td>\n",
       "      <td>8.000000</td>\n",
       "      <td>6.000000</td>\n",
       "      <td>512.329200</td>\n",
       "    </tr>\n",
       "  </tbody>\n",
       "</table>\n",
       "</div>"
      ],
      "text/plain": [
       "       PassengerId    Survived      Pclass         Age       SibSp  \\\n",
       "count   891.000000  891.000000  891.000000  714.000000  891.000000   \n",
       "mean    446.000000    0.383838    2.308642   29.699118    0.523008   \n",
       "std     257.353842    0.486592    0.836071   14.526497    1.102743   \n",
       "min       1.000000    0.000000    1.000000    0.420000    0.000000   \n",
       "25%     223.500000    0.000000    2.000000   20.125000    0.000000   \n",
       "50%     446.000000    0.000000    3.000000   28.000000    0.000000   \n",
       "75%     668.500000    1.000000    3.000000   38.000000    1.000000   \n",
       "max     891.000000    1.000000    3.000000   80.000000    8.000000   \n",
       "\n",
       "            Parch        Fare  \n",
       "count  891.000000  891.000000  \n",
       "mean     0.381594   32.204208  \n",
       "std      0.806057   49.693429  \n",
       "min      0.000000    0.000000  \n",
       "25%      0.000000    7.910400  \n",
       "50%      0.000000   14.454200  \n",
       "75%      0.000000   31.000000  \n",
       "max      6.000000  512.329200  "
      ]
     },
     "execution_count": 11,
     "metadata": {},
     "output_type": "execute_result"
    }
   ],
   "source": [
    "train.describe()"
   ]
  },
  {
   "cell_type": "markdown",
   "id": "4e3387ee-b6b2-4bee-baa2-e4f542404f82",
   "metadata": {},
   "source": [
    "><li> Analyse age column - fill outliers, fill missing values</li>\n",
    "><li> Analyse fare column - outliers, </li>"
   ]
  },
  {
   "cell_type": "code",
   "execution_count": 12,
   "id": "529a5606-bf34-46bb-86cb-53487db28985",
   "metadata": {},
   "outputs": [
    {
     "data": {
      "text/plain": [
       "<AxesSubplot:xlabel='Age'>"
      ]
     },
     "execution_count": 12,
     "metadata": {},
     "output_type": "execute_result"
    },
    {
     "data": {
      "image/png": "[encoded data removed]",
      "text/plain": [
       "<Figure size 864x360 with 1 Axes>"
      ]
     },
     "metadata": {
      "needs_background": "light"
     },
     "output_type": "display_data"
    }
   ],
   "source": [
    "# visualisation without fillna\n",
    "plt.figure(figsize=(12,5))\n",
    "sns.boxplot(data=train , x=\"Age\", )"
   ]
  },
  {
   "cell_type": "code",
   "execution_count": 13,
   "id": "766f9cfd-e752-4db9-89e1-ede9bb7e8289",
   "metadata": {},
   "outputs": [
    {
     "data": {
      "text/plain": [
       "Pclass\n",
       "1    38.233441\n",
       "2    29.877630\n",
       "3    25.140620\n",
       "Name: Age, dtype: float64"
      ]
     },
     "execution_count": 13,
     "metadata": {},
     "output_type": "execute_result"
    }
   ],
   "source": [
    "train.groupby(\"Pclass\").mean()[\"Age\"]"
   ]
  },
  {
   "cell_type": "code",
   "execution_count": 14,
   "id": "d8629a92-9b4b-4641-9d1f-8bb375b1c51d",
   "metadata": {},
   "outputs": [
    {
     "data": {
      "text/plain": [
       "30"
      ]
     },
     "execution_count": 14,
     "metadata": {},
     "output_type": "execute_result"
    }
   ],
   "source": [
    "age_mean = round(data[\"Age\"].mean())\n",
    "age_mean"
   ]
  },
  {
   "cell_type": "code",
   "execution_count": 15,
   "id": "3ca76501-9bc2-40a6-80ed-3b900c9b8b01",
   "metadata": {},
   "outputs": [],
   "source": [
    "data[\"Age\"]= data[\"Age\"].fillna(age_mean)"
   ]
  },
  {
   "cell_type": "code",
   "execution_count": 16,
   "id": "170c4f1a-3c8f-4a4a-a6f8-4b0a3d7f7fac",
   "metadata": {},
   "outputs": [
    {
     "data": {
      "text/plain": [
       "29.758888888888887"
      ]
     },
     "execution_count": 16,
     "metadata": {},
     "output_type": "execute_result"
    }
   ],
   "source": [
    "(data[\"Age\"].mean())"
   ]
  },
  {
   "cell_type": "code",
   "execution_count": 17,
   "id": "3f028262-7b2e-4ed2-be66-e6127040f1f2",
   "metadata": {},
   "outputs": [
    {
     "data": {
      "text/plain": [
       "<AxesSubplot:xlabel='Age'>"
      ]
     },
     "execution_count": 17,
     "metadata": {},
     "output_type": "execute_result"
    },
    {
     "data": {
      "image/png": "[encoded data removed]",
      "text/plain": [
       "<Figure size 864x360 with 1 Axes>"
      ]
     },
     "metadata": {
      "needs_background": "light"
     },
     "output_type": "display_data"
    }
   ],
   "source": [
    "# visualisation with fillna\n",
    "plt.figure(figsize=(12,5))\n",
    "sns.boxplot(data=train , x=\"Age\", )"
   ]
  },
  {
   "cell_type": "code",
   "execution_count": 18,
   "id": "0ba7d12d-ac4a-4c03-8b21-22ace1496bed",
   "metadata": {},
   "outputs": [
    {
     "data": {
      "text/plain": [
       "<AxesSubplot:xlabel='Age', ylabel='Count'>"
      ]
     },
     "execution_count": 18,
     "metadata": {},
     "output_type": "execute_result"
    },
    {
     "data": {
      "image/png": "[encoded data removed]",
      "text/plain": [
       "<Figure size 864x360 with 1 Axes>"
      ]
     },
     "metadata": {
      "needs_background": "light"
     },
     "output_type": "display_data"
    }
   ],
   "source": [
    "plt.figure(figsize=(12,5))\n",
    "sns.histplot(data=train , x=\"Age\",kde=True )"
   ]
  },
  {
   "cell_type": "code",
   "execution_count": 19,
   "id": "348eabe8-d4f7-4da4-945c-22aca5d7dae1",
   "metadata": {},
   "outputs": [],
   "source": [
    "# removing outliers with interquatile range"
   ]
  },
  {
   "cell_type": "code",
   "execution_count": 20,
   "id": "99f6f231-2d7a-4b60-84ce-7f23be637a18",
   "metadata": {},
   "outputs": [],
   "source": [
    "Q1 = np.percentile(data[\"Age\"], 25)\n",
    "Q3 = np.percentile(data[\"Age\"], 75)"
   ]
  },
  {
   "cell_type": "code",
   "execution_count": 21,
   "id": "cbcd1dc8-ade5-4af3-adef-f0dbf9677344",
   "metadata": {},
   "outputs": [
    {
     "data": {
      "text/plain": [
       "22.0"
      ]
     },
     "execution_count": 21,
     "metadata": {},
     "output_type": "execute_result"
    }
   ],
   "source": [
    "Q1"
   ]
  },
  {
   "cell_type": "code",
   "execution_count": 22,
   "id": "9c672aae-3f8c-4cbc-8333-bdc2dead3e4c",
   "metadata": {},
   "outputs": [],
   "source": [
    "IQR = Q3-Q1\n",
    "\n",
    "step = 1.5*IQR\n",
    "\n",
    "ul = Q3 + step\n",
    "l = Q1 - step"
   ]
  },
  {
   "cell_type": "code",
   "execution_count": 23,
   "id": "388c61cf-1a3f-4953-9813-9354a44ebda4",
   "metadata": {},
   "outputs": [
    {
     "name": "stdout",
     "output_type": "stream",
     "text": [
      "54.5 2.5\n"
     ]
    }
   ],
   "source": [
    "print(ul,l\n",
    ")"
   ]
  },
  {
   "cell_type": "code",
   "execution_count": 24,
   "id": "9aa8e8c8-c68c-4640-853d-4772564e6c26",
   "metadata": {},
   "outputs": [
    {
     "data": {
      "text/html": [
       "<div>\n",
       "<style scoped>\n",
       "    .dataframe tbody tr th:only-of-type {\n",
       "        vertical-align: middle;\n",
       "    }\n",
       "\n",
       "    .dataframe tbody tr th {\n",
       "        vertical-align: top;\n",
       "    }\n",
       "\n",
       "    .dataframe thead th {\n",
       "        text-align: right;\n",
       "    }\n",
       "</style>\n",
       "<table border=\"1\" class=\"dataframe\">\n",
       "  <thead>\n",
       "    <tr style=\"text-align: right;\">\n",
       "      <th></th>\n",
       "      <th>PassengerId</th>\n",
       "      <th>Survived</th>\n",
       "      <th>Pclass</th>\n",
       "      <th>Name</th>\n",
       "      <th>Sex</th>\n",
       "      <th>Age</th>\n",
       "      <th>SibSp</th>\n",
       "      <th>Parch</th>\n",
       "      <th>Ticket</th>\n",
       "      <th>Fare</th>\n",
       "      <th>Cabin</th>\n",
       "      <th>Embarked</th>\n",
       "    </tr>\n",
       "  </thead>\n",
       "  <tbody>\n",
       "    <tr>\n",
       "      <th>7</th>\n",
       "      <td>8</td>\n",
       "      <td>0</td>\n",
       "      <td>3</td>\n",
       "      <td>Palsson, Master. Gosta Leonard</td>\n",
       "      <td>male</td>\n",
       "      <td>2.00</td>\n",
       "      <td>3</td>\n",
       "      <td>1</td>\n",
       "      <td>349909</td>\n",
       "      <td>21.0750</td>\n",
       "      <td>NaN</td>\n",
       "      <td>S</td>\n",
       "    </tr>\n",
       "    <tr>\n",
       "      <th>16</th>\n",
       "      <td>17</td>\n",
       "      <td>0</td>\n",
       "      <td>3</td>\n",
       "      <td>Rice, Master. Eugene</td>\n",
       "      <td>male</td>\n",
       "      <td>2.00</td>\n",
       "      <td>4</td>\n",
       "      <td>1</td>\n",
       "      <td>382652</td>\n",
       "      <td>29.1250</td>\n",
       "      <td>NaN</td>\n",
       "      <td>Q</td>\n",
       "    </tr>\n",
       "    <tr>\n",
       "      <th>78</th>\n",
       "      <td>79</td>\n",
       "      <td>1</td>\n",
       "      <td>2</td>\n",
       "      <td>Caldwell, Master. Alden Gates</td>\n",
       "      <td>male</td>\n",
       "      <td>0.83</td>\n",
       "      <td>0</td>\n",
       "      <td>2</td>\n",
       "      <td>248738</td>\n",
       "      <td>29.0000</td>\n",
       "      <td>NaN</td>\n",
       "      <td>S</td>\n",
       "    </tr>\n",
       "    <tr>\n",
       "      <th>119</th>\n",
       "      <td>120</td>\n",
       "      <td>0</td>\n",
       "      <td>3</td>\n",
       "      <td>Andersson, Miss. Ellis Anna Maria</td>\n",
       "      <td>female</td>\n",
       "      <td>2.00</td>\n",
       "      <td>4</td>\n",
       "      <td>2</td>\n",
       "      <td>347082</td>\n",
       "      <td>31.2750</td>\n",
       "      <td>NaN</td>\n",
       "      <td>S</td>\n",
       "    </tr>\n",
       "    <tr>\n",
       "      <th>164</th>\n",
       "      <td>165</td>\n",
       "      <td>0</td>\n",
       "      <td>3</td>\n",
       "      <td>Panula, Master. Eino Viljami</td>\n",
       "      <td>male</td>\n",
       "      <td>1.00</td>\n",
       "      <td>4</td>\n",
       "      <td>1</td>\n",
       "      <td>3101295</td>\n",
       "      <td>39.6875</td>\n",
       "      <td>NaN</td>\n",
       "      <td>S</td>\n",
       "    </tr>\n",
       "    <tr>\n",
       "      <th>172</th>\n",
       "      <td>173</td>\n",
       "      <td>1</td>\n",
       "      <td>3</td>\n",
       "      <td>Johnson, Miss. Eleanor Ileen</td>\n",
       "      <td>female</td>\n",
       "      <td>1.00</td>\n",
       "      <td>1</td>\n",
       "      <td>1</td>\n",
       "      <td>347742</td>\n",
       "      <td>11.1333</td>\n",
       "      <td>NaN</td>\n",
       "      <td>S</td>\n",
       "    </tr>\n",
       "    <tr>\n",
       "      <th>183</th>\n",
       "      <td>184</td>\n",
       "      <td>1</td>\n",
       "      <td>2</td>\n",
       "      <td>Becker, Master. Richard F</td>\n",
       "      <td>male</td>\n",
       "      <td>1.00</td>\n",
       "      <td>2</td>\n",
       "      <td>1</td>\n",
       "      <td>230136</td>\n",
       "      <td>39.0000</td>\n",
       "      <td>F4</td>\n",
       "      <td>S</td>\n",
       "    </tr>\n",
       "    <tr>\n",
       "      <th>205</th>\n",
       "      <td>206</td>\n",
       "      <td>0</td>\n",
       "      <td>3</td>\n",
       "      <td>Strom, Miss. Telma Matilda</td>\n",
       "      <td>female</td>\n",
       "      <td>2.00</td>\n",
       "      <td>0</td>\n",
       "      <td>1</td>\n",
       "      <td>347054</td>\n",
       "      <td>10.4625</td>\n",
       "      <td>G6</td>\n",
       "      <td>S</td>\n",
       "    </tr>\n",
       "    <tr>\n",
       "      <th>297</th>\n",
       "      <td>298</td>\n",
       "      <td>0</td>\n",
       "      <td>1</td>\n",
       "      <td>Allison, Miss. Helen Loraine</td>\n",
       "      <td>female</td>\n",
       "      <td>2.00</td>\n",
       "      <td>1</td>\n",
       "      <td>2</td>\n",
       "      <td>113781</td>\n",
       "      <td>151.5500</td>\n",
       "      <td>C22 C26</td>\n",
       "      <td>S</td>\n",
       "    </tr>\n",
       "    <tr>\n",
       "      <th>305</th>\n",
       "      <td>306</td>\n",
       "      <td>1</td>\n",
       "      <td>1</td>\n",
       "      <td>Allison, Master. Hudson Trevor</td>\n",
       "      <td>male</td>\n",
       "      <td>0.92</td>\n",
       "      <td>1</td>\n",
       "      <td>2</td>\n",
       "      <td>113781</td>\n",
       "      <td>151.5500</td>\n",
       "      <td>C22 C26</td>\n",
       "      <td>S</td>\n",
       "    </tr>\n",
       "    <tr>\n",
       "      <th>340</th>\n",
       "      <td>341</td>\n",
       "      <td>1</td>\n",
       "      <td>2</td>\n",
       "      <td>Navratil, Master. Edmond Roger</td>\n",
       "      <td>male</td>\n",
       "      <td>2.00</td>\n",
       "      <td>1</td>\n",
       "      <td>1</td>\n",
       "      <td>230080</td>\n",
       "      <td>26.0000</td>\n",
       "      <td>F2</td>\n",
       "      <td>S</td>\n",
       "    </tr>\n",
       "    <tr>\n",
       "      <th>381</th>\n",
       "      <td>382</td>\n",
       "      <td>1</td>\n",
       "      <td>3</td>\n",
       "      <td>Nakid, Miss. Maria (\"Mary\")</td>\n",
       "      <td>female</td>\n",
       "      <td>1.00</td>\n",
       "      <td>0</td>\n",
       "      <td>2</td>\n",
       "      <td>2653</td>\n",
       "      <td>15.7417</td>\n",
       "      <td>NaN</td>\n",
       "      <td>C</td>\n",
       "    </tr>\n",
       "    <tr>\n",
       "      <th>386</th>\n",
       "      <td>387</td>\n",
       "      <td>0</td>\n",
       "      <td>3</td>\n",
       "      <td>Goodwin, Master. Sidney Leonard</td>\n",
       "      <td>male</td>\n",
       "      <td>1.00</td>\n",
       "      <td>5</td>\n",
       "      <td>2</td>\n",
       "      <td>CA 2144</td>\n",
       "      <td>46.9000</td>\n",
       "      <td>NaN</td>\n",
       "      <td>S</td>\n",
       "    </tr>\n",
       "    <tr>\n",
       "      <th>469</th>\n",
       "      <td>470</td>\n",
       "      <td>1</td>\n",
       "      <td>3</td>\n",
       "      <td>Baclini, Miss. Helene Barbara</td>\n",
       "      <td>female</td>\n",
       "      <td>0.75</td>\n",
       "      <td>2</td>\n",
       "      <td>1</td>\n",
       "      <td>2666</td>\n",
       "      <td>19.2583</td>\n",
       "      <td>NaN</td>\n",
       "      <td>C</td>\n",
       "    </tr>\n",
       "    <tr>\n",
       "      <th>479</th>\n",
       "      <td>480</td>\n",
       "      <td>1</td>\n",
       "      <td>3</td>\n",
       "      <td>Hirvonen, Miss. Hildur E</td>\n",
       "      <td>female</td>\n",
       "      <td>2.00</td>\n",
       "      <td>0</td>\n",
       "      <td>1</td>\n",
       "      <td>3101298</td>\n",
       "      <td>12.2875</td>\n",
       "      <td>NaN</td>\n",
       "      <td>S</td>\n",
       "    </tr>\n",
       "    <tr>\n",
       "      <th>530</th>\n",
       "      <td>531</td>\n",
       "      <td>1</td>\n",
       "      <td>2</td>\n",
       "      <td>Quick, Miss. Phyllis May</td>\n",
       "      <td>female</td>\n",
       "      <td>2.00</td>\n",
       "      <td>1</td>\n",
       "      <td>1</td>\n",
       "      <td>26360</td>\n",
       "      <td>26.0000</td>\n",
       "      <td>NaN</td>\n",
       "      <td>S</td>\n",
       "    </tr>\n",
       "    <tr>\n",
       "      <th>642</th>\n",
       "      <td>643</td>\n",
       "      <td>0</td>\n",
       "      <td>3</td>\n",
       "      <td>Skoog, Miss. Margit Elizabeth</td>\n",
       "      <td>female</td>\n",
       "      <td>2.00</td>\n",
       "      <td>3</td>\n",
       "      <td>2</td>\n",
       "      <td>347088</td>\n",
       "      <td>27.9000</td>\n",
       "      <td>NaN</td>\n",
       "      <td>S</td>\n",
       "    </tr>\n",
       "    <tr>\n",
       "      <th>644</th>\n",
       "      <td>645</td>\n",
       "      <td>1</td>\n",
       "      <td>3</td>\n",
       "      <td>Baclini, Miss. Eugenie</td>\n",
       "      <td>female</td>\n",
       "      <td>0.75</td>\n",
       "      <td>2</td>\n",
       "      <td>1</td>\n",
       "      <td>2666</td>\n",
       "      <td>19.2583</td>\n",
       "      <td>NaN</td>\n",
       "      <td>C</td>\n",
       "    </tr>\n",
       "    <tr>\n",
       "      <th>755</th>\n",
       "      <td>756</td>\n",
       "      <td>1</td>\n",
       "      <td>2</td>\n",
       "      <td>Hamalainen, Master. Viljo</td>\n",
       "      <td>male</td>\n",
       "      <td>0.67</td>\n",
       "      <td>1</td>\n",
       "      <td>1</td>\n",
       "      <td>250649</td>\n",
       "      <td>14.5000</td>\n",
       "      <td>NaN</td>\n",
       "      <td>S</td>\n",
       "    </tr>\n",
       "    <tr>\n",
       "      <th>788</th>\n",
       "      <td>789</td>\n",
       "      <td>1</td>\n",
       "      <td>3</td>\n",
       "      <td>Dean, Master. Bertram Vere</td>\n",
       "      <td>male</td>\n",
       "      <td>1.00</td>\n",
       "      <td>1</td>\n",
       "      <td>2</td>\n",
       "      <td>C.A. 2315</td>\n",
       "      <td>20.5750</td>\n",
       "      <td>NaN</td>\n",
       "      <td>S</td>\n",
       "    </tr>\n",
       "    <tr>\n",
       "      <th>803</th>\n",
       "      <td>804</td>\n",
       "      <td>1</td>\n",
       "      <td>3</td>\n",
       "      <td>Thomas, Master. Assad Alexander</td>\n",
       "      <td>male</td>\n",
       "      <td>0.42</td>\n",
       "      <td>0</td>\n",
       "      <td>1</td>\n",
       "      <td>2625</td>\n",
       "      <td>8.5167</td>\n",
       "      <td>NaN</td>\n",
       "      <td>C</td>\n",
       "    </tr>\n",
       "    <tr>\n",
       "      <th>824</th>\n",
       "      <td>825</td>\n",
       "      <td>0</td>\n",
       "      <td>3</td>\n",
       "      <td>Panula, Master. Urho Abraham</td>\n",
       "      <td>male</td>\n",
       "      <td>2.00</td>\n",
       "      <td>4</td>\n",
       "      <td>1</td>\n",
       "      <td>3101295</td>\n",
       "      <td>39.6875</td>\n",
       "      <td>NaN</td>\n",
       "      <td>S</td>\n",
       "    </tr>\n",
       "    <tr>\n",
       "      <th>827</th>\n",
       "      <td>828</td>\n",
       "      <td>1</td>\n",
       "      <td>2</td>\n",
       "      <td>Mallet, Master. Andre</td>\n",
       "      <td>male</td>\n",
       "      <td>1.00</td>\n",
       "      <td>0</td>\n",
       "      <td>2</td>\n",
       "      <td>S.C./PARIS 2079</td>\n",
       "      <td>37.0042</td>\n",
       "      <td>NaN</td>\n",
       "      <td>C</td>\n",
       "    </tr>\n",
       "    <tr>\n",
       "      <th>831</th>\n",
       "      <td>832</td>\n",
       "      <td>1</td>\n",
       "      <td>2</td>\n",
       "      <td>Richards, Master. George Sibley</td>\n",
       "      <td>male</td>\n",
       "      <td>0.83</td>\n",
       "      <td>1</td>\n",
       "      <td>1</td>\n",
       "      <td>29106</td>\n",
       "      <td>18.7500</td>\n",
       "      <td>NaN</td>\n",
       "      <td>S</td>\n",
       "    </tr>\n",
       "  </tbody>\n",
       "</table>\n",
       "</div>"
      ],
      "text/plain": [
       "     PassengerId  Survived  Pclass                               Name     Sex  \\\n",
       "7              8         0       3     Palsson, Master. Gosta Leonard    male   \n",
       "16            17         0       3               Rice, Master. Eugene    male   \n",
       "78            79         1       2      Caldwell, Master. Alden Gates    male   \n",
       "119          120         0       3  Andersson, Miss. Ellis Anna Maria  female   \n",
       "164          165         0       3       Panula, Master. Eino Viljami    male   \n",
       "172          173         1       3       Johnson, Miss. Eleanor Ileen  female   \n",
       "183          184         1       2          Becker, Master. Richard F    male   \n",
       "205          206         0       3         Strom, Miss. Telma Matilda  female   \n",
       "297          298         0       1       Allison, Miss. Helen Loraine  female   \n",
       "305          306         1       1     Allison, Master. Hudson Trevor    male   \n",
       "340          341         1       2     Navratil, Master. Edmond Roger    male   \n",
       "381          382         1       3        Nakid, Miss. Maria (\"Mary\")  female   \n",
       "386          387         0       3    Goodwin, Master. Sidney Leonard    male   \n",
       "469          470         1       3      Baclini, Miss. Helene Barbara  female   \n",
       "479          480         1       3           Hirvonen, Miss. Hildur E  female   \n",
       "530          531         1       2           Quick, Miss. Phyllis May  female   \n",
       "642          643         0       3      Skoog, Miss. Margit Elizabeth  female   \n",
       "644          645         1       3             Baclini, Miss. Eugenie  female   \n",
       "755          756         1       2          Hamalainen, Master. Viljo    male   \n",
       "788          789         1       3         Dean, Master. Bertram Vere    male   \n",
       "803          804         1       3    Thomas, Master. Assad Alexander    male   \n",
       "824          825         0       3       Panula, Master. Urho Abraham    male   \n",
       "827          828         1       2              Mallet, Master. Andre    male   \n",
       "831          832         1       2    Richards, Master. George Sibley    male   \n",
       "\n",
       "      Age  SibSp  Parch           Ticket      Fare    Cabin Embarked  \n",
       "7    2.00      3      1           349909   21.0750      NaN        S  \n",
       "16   2.00      4      1           382652   29.1250      NaN        Q  \n",
       "78   0.83      0      2           248738   29.0000      NaN        S  \n",
       "119  2.00      4      2           347082   31.2750      NaN        S  \n",
       "164  1.00      4      1          3101295   39.6875      NaN        S  \n",
       "172  1.00      1      1           347742   11.1333      NaN        S  \n",
       "183  1.00      2      1           230136   39.0000       F4        S  \n",
       "205  2.00      0      1           347054   10.4625       G6        S  \n",
       "297  2.00      1      2           113781  151.5500  C22 C26        S  \n",
       "305  0.92      1      2           113781  151.5500  C22 C26        S  \n",
       "340  2.00      1      1           230080   26.0000       F2        S  \n",
       "381  1.00      0      2             2653   15.7417      NaN        C  \n",
       "386  1.00      5      2          CA 2144   46.9000      NaN        S  \n",
       "469  0.75      2      1             2666   19.2583      NaN        C  \n",
       "479  2.00      0      1          3101298   12.2875      NaN        S  \n",
       "530  2.00      1      1            26360   26.0000      NaN        S  \n",
       "642  2.00      3      2           347088   27.9000      NaN        S  \n",
       "644  0.75      2      1             2666   19.2583      NaN        C  \n",
       "755  0.67      1      1           250649   14.5000      NaN        S  \n",
       "788  1.00      1      2        C.A. 2315   20.5750      NaN        S  \n",
       "803  0.42      0      1             2625    8.5167      NaN        C  \n",
       "824  2.00      4      1          3101295   39.6875      NaN        S  \n",
       "827  1.00      0      2  S.C./PARIS 2079   37.0042      NaN        C  \n",
       "831  0.83      1      1            29106   18.7500      NaN        S  "
      ]
     },
     "execution_count": 24,
     "metadata": {},
     "output_type": "execute_result"
    }
   ],
   "source": [
    "data[data[\"Age\"]<l]"
   ]
  },
  {
   "cell_type": "code",
   "execution_count": 25,
   "id": "5e7401fa-4754-46fb-b093-b8693a7e9e34",
   "metadata": {},
   "outputs": [
    {
     "data": {
      "text/plain": [
       "Survived  Sex   \n",
       "0         male      468\n",
       "          female     81\n",
       "1         female    233\n",
       "          male      109\n",
       "Name: Sex, dtype: int64"
      ]
     },
     "execution_count": 25,
     "metadata": {},
     "output_type": "execute_result"
    }
   ],
   "source": [
    "data.groupby(\"Survived\")['Sex'].value_counts()"
   ]
  },
  {
   "cell_type": "code",
   "execution_count": 26,
   "id": "b34b1081-4217-4ced-b655-5cd57fefa807",
   "metadata": {},
   "outputs": [],
   "source": [
    "# value = {\"male\":0, \"female\":1}\n",
    "# data[\"Sex\"].replace(value, inplace=True)"
   ]
  },
  {
   "cell_type": "code",
   "execution_count": 27,
   "id": "20bf3a3d-44df-40d3-8547-45a36fd4b2f3",
   "metadata": {},
   "outputs": [],
   "source": [
    "# row_drop = np.where(data[\"Age\"]>65)\n",
    "# row_drop"
   ]
  },
  {
   "cell_type": "code",
   "execution_count": 28,
   "id": "d6adcd67-1ab9-4d7d-8ccf-ef02a7910f02",
   "metadata": {},
   "outputs": [
    {
     "data": {
      "text/html": [
       "<div>\n",
       "<style scoped>\n",
       "    .dataframe tbody tr th:only-of-type {\n",
       "        vertical-align: middle;\n",
       "    }\n",
       "\n",
       "    .dataframe tbody tr th {\n",
       "        vertical-align: top;\n",
       "    }\n",
       "\n",
       "    .dataframe thead th {\n",
       "        text-align: right;\n",
       "    }\n",
       "</style>\n",
       "<table border=\"1\" class=\"dataframe\">\n",
       "  <thead>\n",
       "    <tr style=\"text-align: right;\">\n",
       "      <th></th>\n",
       "      <th>PassengerId</th>\n",
       "      <th>Survived</th>\n",
       "      <th>Pclass</th>\n",
       "      <th>Name</th>\n",
       "      <th>Sex</th>\n",
       "      <th>Age</th>\n",
       "      <th>SibSp</th>\n",
       "      <th>Parch</th>\n",
       "      <th>Ticket</th>\n",
       "      <th>Fare</th>\n",
       "      <th>Cabin</th>\n",
       "      <th>Embarked</th>\n",
       "    </tr>\n",
       "  </thead>\n",
       "  <tbody>\n",
       "    <tr>\n",
       "      <th>0</th>\n",
       "      <td>1</td>\n",
       "      <td>0</td>\n",
       "      <td>3</td>\n",
       "      <td>Braund, Mr. Owen Harris</td>\n",
       "      <td>male</td>\n",
       "      <td>22.0</td>\n",
       "      <td>1</td>\n",
       "      <td>0</td>\n",
       "      <td>A/5 21171</td>\n",
       "      <td>7.2500</td>\n",
       "      <td>NaN</td>\n",
       "      <td>S</td>\n",
       "    </tr>\n",
       "    <tr>\n",
       "      <th>1</th>\n",
       "      <td>2</td>\n",
       "      <td>1</td>\n",
       "      <td>1</td>\n",
       "      <td>Cumings, Mrs. John Bradley (Florence Briggs Th...</td>\n",
       "      <td>female</td>\n",
       "      <td>38.0</td>\n",
       "      <td>1</td>\n",
       "      <td>0</td>\n",
       "      <td>PC 17599</td>\n",
       "      <td>71.2833</td>\n",
       "      <td>C85</td>\n",
       "      <td>C</td>\n",
       "    </tr>\n",
       "    <tr>\n",
       "      <th>2</th>\n",
       "      <td>3</td>\n",
       "      <td>1</td>\n",
       "      <td>3</td>\n",
       "      <td>Heikkinen, Miss. Laina</td>\n",
       "      <td>female</td>\n",
       "      <td>26.0</td>\n",
       "      <td>0</td>\n",
       "      <td>0</td>\n",
       "      <td>STON/O2. 3101282</td>\n",
       "      <td>7.9250</td>\n",
       "      <td>NaN</td>\n",
       "      <td>S</td>\n",
       "    </tr>\n",
       "    <tr>\n",
       "      <th>3</th>\n",
       "      <td>4</td>\n",
       "      <td>1</td>\n",
       "      <td>1</td>\n",
       "      <td>Futrelle, Mrs. Jacques Heath (Lily May Peel)</td>\n",
       "      <td>female</td>\n",
       "      <td>35.0</td>\n",
       "      <td>1</td>\n",
       "      <td>0</td>\n",
       "      <td>113803</td>\n",
       "      <td>53.1000</td>\n",
       "      <td>C123</td>\n",
       "      <td>S</td>\n",
       "    </tr>\n",
       "    <tr>\n",
       "      <th>4</th>\n",
       "      <td>5</td>\n",
       "      <td>0</td>\n",
       "      <td>3</td>\n",
       "      <td>Allen, Mr. William Henry</td>\n",
       "      <td>male</td>\n",
       "      <td>35.0</td>\n",
       "      <td>0</td>\n",
       "      <td>0</td>\n",
       "      <td>373450</td>\n",
       "      <td>8.0500</td>\n",
       "      <td>NaN</td>\n",
       "      <td>S</td>\n",
       "    </tr>\n",
       "  </tbody>\n",
       "</table>\n",
       "</div>"
      ],
      "text/plain": [
       "   PassengerId  Survived  Pclass  \\\n",
       "0            1         0       3   \n",
       "1            2         1       1   \n",
       "2            3         1       3   \n",
       "3            4         1       1   \n",
       "4            5         0       3   \n",
       "\n",
       "                                                Name     Sex   Age  SibSp  \\\n",
       "0                            Braund, Mr. Owen Harris    male  22.0      1   \n",
       "1  Cumings, Mrs. John Bradley (Florence Briggs Th...  female  38.0      1   \n",
       "2                             Heikkinen, Miss. Laina  female  26.0      0   \n",
       "3       Futrelle, Mrs. Jacques Heath (Lily May Peel)  female  35.0      1   \n",
       "4                           Allen, Mr. William Henry    male  35.0      0   \n",
       "\n",
       "   Parch            Ticket     Fare Cabin Embarked  \n",
       "0      0         A/5 21171   7.2500   NaN        S  \n",
       "1      0          PC 17599  71.2833   C85        C  \n",
       "2      0  STON/O2. 3101282   7.9250   NaN        S  \n",
       "3      0            113803  53.1000  C123        S  \n",
       "4      0            373450   8.0500   NaN        S  "
      ]
     },
     "execution_count": 28,
     "metadata": {},
     "output_type": "execute_result"
    }
   ],
   "source": [
    "data.head()"
   ]
  },
  {
   "cell_type": "code",
   "execution_count": null,
   "id": "a8cd5026-fee1-44a6-974c-439ffbb149f5",
   "metadata": {},
   "outputs": [],
   "source": []
  },
  {
   "cell_type": "code",
   "execution_count": 29,
   "id": "61f6aec4-a4f3-4b91-9f38-18394357e54e",
   "metadata": {},
   "outputs": [
    {
     "data": {
      "text/html": [
       "<div>\n",
       "<style scoped>\n",
       "    .dataframe tbody tr th:only-of-type {\n",
       "        vertical-align: middle;\n",
       "    }\n",
       "\n",
       "    .dataframe tbody tr th {\n",
       "        vertical-align: top;\n",
       "    }\n",
       "\n",
       "    .dataframe thead th {\n",
       "        text-align: right;\n",
       "    }\n",
       "</style>\n",
       "<table border=\"1\" class=\"dataframe\">\n",
       "  <thead>\n",
       "    <tr style=\"text-align: right;\">\n",
       "      <th></th>\n",
       "      <th>PassengerId</th>\n",
       "      <th>Survived</th>\n",
       "      <th>Pclass</th>\n",
       "      <th>Age</th>\n",
       "      <th>SibSp</th>\n",
       "      <th>Parch</th>\n",
       "      <th>Fare</th>\n",
       "    </tr>\n",
       "  </thead>\n",
       "  <tbody>\n",
       "    <tr>\n",
       "      <th>PassengerId</th>\n",
       "      <td>1.000000</td>\n",
       "      <td>-0.005007</td>\n",
       "      <td>-0.035144</td>\n",
       "      <td>0.033019</td>\n",
       "      <td>-0.057527</td>\n",
       "      <td>-0.001652</td>\n",
       "      <td>0.012658</td>\n",
       "    </tr>\n",
       "    <tr>\n",
       "      <th>Survived</th>\n",
       "      <td>-0.005007</td>\n",
       "      <td>1.000000</td>\n",
       "      <td>-0.338481</td>\n",
       "      <td>-0.070657</td>\n",
       "      <td>-0.035322</td>\n",
       "      <td>0.081629</td>\n",
       "      <td>0.257307</td>\n",
       "    </tr>\n",
       "    <tr>\n",
       "      <th>Pclass</th>\n",
       "      <td>-0.035144</td>\n",
       "      <td>-0.338481</td>\n",
       "      <td>1.000000</td>\n",
       "      <td>-0.329727</td>\n",
       "      <td>0.083081</td>\n",
       "      <td>0.018443</td>\n",
       "      <td>-0.549500</td>\n",
       "    </tr>\n",
       "    <tr>\n",
       "      <th>Age</th>\n",
       "      <td>0.033019</td>\n",
       "      <td>-0.070657</td>\n",
       "      <td>-0.329727</td>\n",
       "      <td>1.000000</td>\n",
       "      <td>-0.232440</td>\n",
       "      <td>-0.180330</td>\n",
       "      <td>0.090632</td>\n",
       "    </tr>\n",
       "    <tr>\n",
       "      <th>SibSp</th>\n",
       "      <td>-0.057527</td>\n",
       "      <td>-0.035322</td>\n",
       "      <td>0.083081</td>\n",
       "      <td>-0.232440</td>\n",
       "      <td>1.000000</td>\n",
       "      <td>0.414838</td>\n",
       "      <td>0.159651</td>\n",
       "    </tr>\n",
       "    <tr>\n",
       "      <th>Parch</th>\n",
       "      <td>-0.001652</td>\n",
       "      <td>0.081629</td>\n",
       "      <td>0.018443</td>\n",
       "      <td>-0.180330</td>\n",
       "      <td>0.414838</td>\n",
       "      <td>1.000000</td>\n",
       "      <td>0.216225</td>\n",
       "    </tr>\n",
       "    <tr>\n",
       "      <th>Fare</th>\n",
       "      <td>0.012658</td>\n",
       "      <td>0.257307</td>\n",
       "      <td>-0.549500</td>\n",
       "      <td>0.090632</td>\n",
       "      <td>0.159651</td>\n",
       "      <td>0.216225</td>\n",
       "      <td>1.000000</td>\n",
       "    </tr>\n",
       "  </tbody>\n",
       "</table>\n",
       "</div>"
      ],
      "text/plain": [
       "             PassengerId  Survived    Pclass       Age     SibSp     Parch  \\\n",
       "PassengerId     1.000000 -0.005007 -0.035144  0.033019 -0.057527 -0.001652   \n",
       "Survived       -0.005007  1.000000 -0.338481 -0.070657 -0.035322  0.081629   \n",
       "Pclass         -0.035144 -0.338481  1.000000 -0.329727  0.083081  0.018443   \n",
       "Age             0.033019 -0.070657 -0.329727  1.000000 -0.232440 -0.180330   \n",
       "SibSp          -0.057527 -0.035322  0.083081 -0.232440  1.000000  0.414838   \n",
       "Parch          -0.001652  0.081629  0.018443 -0.180330  0.414838  1.000000   \n",
       "Fare            0.012658  0.257307 -0.549500  0.090632  0.159651  0.216225   \n",
       "\n",
       "                 Fare  \n",
       "PassengerId  0.012658  \n",
       "Survived     0.257307  \n",
       "Pclass      -0.549500  \n",
       "Age          0.090632  \n",
       "SibSp        0.159651  \n",
       "Parch        0.216225  \n",
       "Fare         1.000000  "
      ]
     },
     "execution_count": 29,
     "metadata": {},
     "output_type": "execute_result"
    }
   ],
   "source": [
    "data.corr()"
   ]
  },
  {
   "cell_type": "code",
   "execution_count": 30,
   "id": "9f5316d6-864f-49e7-8a71-1b0be2c2353e",
   "metadata": {},
   "outputs": [
    {
     "data": {
      "text/plain": [
       "<AxesSubplot:xlabel='Fare', ylabel='Count'>"
      ]
     },
     "execution_count": 30,
     "metadata": {},
     "output_type": "execute_result"
    },
    {
     "data": {
      "image/png": "[encoded data removed]",
      "text/plain": [
       "<Figure size 864x360 with 1 Axes>"
      ]
     },
     "metadata": {
      "needs_background": "light"
     },
     "output_type": "display_data"
    }
   ],
   "source": [
    "plt.figure(figsize=(12,5))\n",
    "sns.histplot(data=train , x=\"Fare\",kde=True )"
   ]
  },
  {
   "cell_type": "code",
   "execution_count": 31,
   "id": "e27db1db-88d6-4050-bf76-f154f1ed33e1",
   "metadata": {},
   "outputs": [
    {
     "data": {
      "text/plain": [
       "Pclass\n",
       "1    84.154687\n",
       "2    20.662183\n",
       "3    13.675550\n",
       "Name: Fare, dtype: float64"
      ]
     },
     "execution_count": 31,
     "metadata": {},
     "output_type": "execute_result"
    }
   ],
   "source": [
    "data.groupby(\"Pclass\")[\"Fare\"].mean()"
   ]
  },
  {
   "cell_type": "code",
   "execution_count": 32,
   "id": "8f6a07d6-69ba-4ec2-be6c-16854dc52389",
   "metadata": {},
   "outputs": [],
   "source": [
    "data[\"Embarked\"].fillna(method=\"ffill\", inplace=True)"
   ]
  },
  {
   "cell_type": "code",
   "execution_count": 33,
   "id": "06b8591f-5049-4685-b0f2-126b4500de13",
   "metadata": {},
   "outputs": [
    {
     "data": {
      "text/plain": [
       "Embarked\n",
       "C     94\n",
       "Q     31\n",
       "S    217\n",
       "Name: Survived, dtype: int64"
      ]
     },
     "execution_count": 33,
     "metadata": {},
     "output_type": "execute_result"
    }
   ],
   "source": [
    "data.groupby(\"Embarked\")[\"Survived\"].sum()"
   ]
  },
  {
   "cell_type": "code",
   "execution_count": 34,
   "id": "22d5a770-3dc4-4412-b606-b5447a5ed33f",
   "metadata": {},
   "outputs": [
    {
     "data": {
      "text/plain": [
       "Pclass\n",
       "1    136\n",
       "2     87\n",
       "3    119\n",
       "Name: Survived, dtype: int64"
      ]
     },
     "execution_count": 34,
     "metadata": {},
     "output_type": "execute_result"
    }
   ],
   "source": [
    "data.groupby(\"Pclass\")[\"Survived\"].sum()"
   ]
  },
  {
   "cell_type": "code",
   "execution_count": 35,
   "id": "2cbf1021-1ce2-410b-82e2-37d981ab9b4c",
   "metadata": {},
   "outputs": [
    {
     "data": {
      "text/plain": [
       "SibSp  Survived\n",
       "0      0           398\n",
       "       1           210\n",
       "1      1           112\n",
       "       0            97\n",
       "2      0            15\n",
       "       1            13\n",
       "3      0            12\n",
       "       1             4\n",
       "4      0            15\n",
       "       1             3\n",
       "5      0             5\n",
       "8      0             7\n",
       "Name: Survived, dtype: int64"
      ]
     },
     "execution_count": 35,
     "metadata": {},
     "output_type": "execute_result"
    }
   ],
   "source": [
    "SibSp = data.groupby(\"SibSp\")[\"Survived\"].value_counts()\n",
    "SibSp\n",
    "# sns.countplot(x=\"SibSp\", data=data, hue=\"Survived\")"
   ]
  },
  {
   "cell_type": "code",
   "execution_count": 36,
   "id": "e5cc822a-848c-4723-b373-ae377a38f9b6",
   "metadata": {},
   "outputs": [
    {
     "data": {
      "text/plain": [
       "<AxesSubplot:xlabel='SibSp'>"
      ]
     },
     "execution_count": 36,
     "metadata": {},
     "output_type": "execute_result"
    },
    {
     "data": {
      "image/png": "[encoded data removed]",
      "text/plain": [
       "<Figure size 432x288 with 1 Axes>"
      ]
     },
     "metadata": {
      "needs_background": "light"
     },
     "output_type": "display_data"
    }
   ],
   "source": [
    "sns.barplot(x=\"SibSp\", data=data)"
   ]
  },
  {
   "cell_type": "code",
   "execution_count": 37,
   "id": "4a79f4e0-f4e0-4630-ac82-31bd818344cb",
   "metadata": {},
   "outputs": [
    {
     "data": {
      "text/plain": [
       "0    608\n",
       "1    209\n",
       "2     28\n",
       "4     18\n",
       "3     16\n",
       "8      7\n",
       "5      5\n",
       "Name: SibSp, dtype: int64"
      ]
     },
     "execution_count": 37,
     "metadata": {},
     "output_type": "execute_result"
    }
   ],
   "source": [
    "data.SibSp.value_counts()"
   ]
  },
  {
   "cell_type": "code",
   "execution_count": 38,
   "id": "7f1bbf6d-a966-4bd2-9236-d0cc38441935",
   "metadata": {},
   "outputs": [
    {
     "data": {
      "text/plain": [
       "PassengerId      0\n",
       "Survived         0\n",
       "Pclass           0\n",
       "Name             0\n",
       "Sex              0\n",
       "Age              0\n",
       "SibSp            0\n",
       "Parch            0\n",
       "Ticket           0\n",
       "Fare             0\n",
       "Cabin          687\n",
       "Embarked         0\n",
       "dtype: int64"
      ]
     },
     "execution_count": 38,
     "metadata": {},
     "output_type": "execute_result"
    }
   ],
   "source": [
    "data.isnull().sum()"
   ]
  },
  {
   "cell_type": "code",
   "execution_count": 39,
   "id": "139eef54-1b79-4998-b7db-4cea9cdbce6c",
   "metadata": {},
   "outputs": [],
   "source": [
    "# dropping unwanted column\n",
    "drop_cols = [\"Name\",\"Cabin\",\"PassengerId\",\"Ticket\"]\n",
    "data.drop(drop_cols, axis=1, inplace=True)"
   ]
  },
  {
   "cell_type": "code",
   "execution_count": 40,
   "id": "5df186df-37d5-4cfb-8e82-f2b8be820dca",
   "metadata": {},
   "outputs": [
    {
     "data": {
      "text/plain": [
       "array(['S', 'C', 'Q'], dtype=object)"
      ]
     },
     "execution_count": 40,
     "metadata": {},
     "output_type": "execute_result"
    }
   ],
   "source": [
    "data[\"Embarked\"].unique()"
   ]
  },
  {
   "cell_type": "code",
   "execution_count": 41,
   "id": "3760def7-a6a9-4499-9127-0eaab8b85415",
   "metadata": {},
   "outputs": [],
   "source": [
    "# # replacing and encoding values in the column\n",
    "# value = {\"S\":0, \"C\":1, \"Q\":2}\n",
    "# data[\"Embarked\"].replace(value, inplace=True)\n",
    "\n",
    "#using get dummies due to heirachy\n",
    "\n",
    "data2 = pd.get_dummies(data, columns=[\"Sex\",\"Embarked\"], drop_first=True)"
   ]
  },
  {
   "cell_type": "code",
   "execution_count": 42,
   "id": "fc700a86-f6ab-4046-b2c8-0bc66bab5e8b",
   "metadata": {},
   "outputs": [
    {
     "data": {
      "text/plain": [
       "<AxesSubplot:>"
      ]
     },
     "execution_count": 42,
     "metadata": {},
     "output_type": "execute_result"
    },
    {
     "data": {
      "image/png": "[encoded data removed]",
      "text/plain": [
       "<Figure size 864x360 with 2 Axes>"
      ]
     },
     "metadata": {
      "needs_background": "light"
     },
     "output_type": "display_data"
    }
   ],
   "source": [
    "# plotting heatmap of corr\n",
    "plt.figure(figsize=(12,5))\n",
    "sns.heatmap(data2.corr(), annot=True)"
   ]
  },
  {
   "cell_type": "code",
   "execution_count": 43,
   "id": "aa04b570-e17e-4278-9cd6-cb4c098c857d",
   "metadata": {},
   "outputs": [
    {
     "data": {
      "text/html": [
       "<div>\n",
       "<style scoped>\n",
       "    .dataframe tbody tr th:only-of-type {\n",
       "        vertical-align: middle;\n",
       "    }\n",
       "\n",
       "    .dataframe tbody tr th {\n",
       "        vertical-align: top;\n",
       "    }\n",
       "\n",
       "    .dataframe thead th {\n",
       "        text-align: right;\n",
       "    }\n",
       "</style>\n",
       "<table border=\"1\" class=\"dataframe\">\n",
       "  <thead>\n",
       "    <tr style=\"text-align: right;\">\n",
       "      <th></th>\n",
       "      <th>Survived</th>\n",
       "      <th>Pclass</th>\n",
       "      <th>Age</th>\n",
       "      <th>SibSp</th>\n",
       "      <th>Parch</th>\n",
       "      <th>Fare</th>\n",
       "      <th>Sex_male</th>\n",
       "      <th>Embarked_Q</th>\n",
       "      <th>Embarked_S</th>\n",
       "    </tr>\n",
       "  </thead>\n",
       "  <tbody>\n",
       "    <tr>\n",
       "      <th>0</th>\n",
       "      <td>0</td>\n",
       "      <td>3</td>\n",
       "      <td>22.0</td>\n",
       "      <td>1</td>\n",
       "      <td>0</td>\n",
       "      <td>7.2500</td>\n",
       "      <td>1</td>\n",
       "      <td>0</td>\n",
       "      <td>1</td>\n",
       "    </tr>\n",
       "    <tr>\n",
       "      <th>1</th>\n",
       "      <td>1</td>\n",
       "      <td>1</td>\n",
       "      <td>38.0</td>\n",
       "      <td>1</td>\n",
       "      <td>0</td>\n",
       "      <td>71.2833</td>\n",
       "      <td>0</td>\n",
       "      <td>0</td>\n",
       "      <td>0</td>\n",
       "    </tr>\n",
       "    <tr>\n",
       "      <th>2</th>\n",
       "      <td>1</td>\n",
       "      <td>3</td>\n",
       "      <td>26.0</td>\n",
       "      <td>0</td>\n",
       "      <td>0</td>\n",
       "      <td>7.9250</td>\n",
       "      <td>0</td>\n",
       "      <td>0</td>\n",
       "      <td>1</td>\n",
       "    </tr>\n",
       "    <tr>\n",
       "      <th>3</th>\n",
       "      <td>1</td>\n",
       "      <td>1</td>\n",
       "      <td>35.0</td>\n",
       "      <td>1</td>\n",
       "      <td>0</td>\n",
       "      <td>53.1000</td>\n",
       "      <td>0</td>\n",
       "      <td>0</td>\n",
       "      <td>1</td>\n",
       "    </tr>\n",
       "    <tr>\n",
       "      <th>4</th>\n",
       "      <td>0</td>\n",
       "      <td>3</td>\n",
       "      <td>35.0</td>\n",
       "      <td>0</td>\n",
       "      <td>0</td>\n",
       "      <td>8.0500</td>\n",
       "      <td>1</td>\n",
       "      <td>0</td>\n",
       "      <td>1</td>\n",
       "    </tr>\n",
       "  </tbody>\n",
       "</table>\n",
       "</div>"
      ],
      "text/plain": [
       "   Survived  Pclass   Age  SibSp  Parch     Fare  Sex_male  Embarked_Q  \\\n",
       "0         0       3  22.0      1      0   7.2500         1           0   \n",
       "1         1       1  38.0      1      0  71.2833         0           0   \n",
       "2         1       3  26.0      0      0   7.9250         0           0   \n",
       "3         1       1  35.0      1      0  53.1000         0           0   \n",
       "4         0       3  35.0      0      0   8.0500         1           0   \n",
       "\n",
       "   Embarked_S  \n",
       "0           1  \n",
       "1           0  \n",
       "2           1  \n",
       "3           1  \n",
       "4           1  "
      ]
     },
     "execution_count": 43,
     "metadata": {},
     "output_type": "execute_result"
    }
   ],
   "source": [
    "data2.head()"
   ]
  },
  {
   "cell_type": "markdown",
   "id": "d2bac537-6498-4559-805e-90c4153fa706",
   "metadata": {},
   "source": [
    "# Feature Selection"
   ]
  },
  {
   "cell_type": "code",
   "execution_count": 65,
   "id": "962290fe-789c-4961-b5bd-4ccf7923c2b1",
   "metadata": {},
   "outputs": [],
   "source": [
    "X = data2.drop(\"Survived\", axis=1 )\n",
    "y = data2.Survived\n",
    "\n",
    "X_train, X_test, y_train, y_test = train_test_split(X,y, test_size=0.2, random_state=11)"
   ]
  },
  {
   "cell_type": "code",
   "execution_count": 66,
   "id": "df109d2f-6404-4f5f-a4a8-b8e0c3656eaf",
   "metadata": {},
   "outputs": [
    {
     "name": "stdout",
     "output_type": "stream",
     "text": [
      "(712, 8)\n",
      "(712,)\n"
     ]
    }
   ],
   "source": [
    "print(X_train.shape)\n",
    "print(y_train.shape)"
   ]
  },
  {
   "cell_type": "markdown",
   "id": "9996e3f6-383f-4f9c-bd90-424dd02a5f1f",
   "metadata": {},
   "source": [
    "# Model Selection"
   ]
  },
  {
   "cell_type": "code",
   "execution_count": 67,
   "id": "7715d651-61d4-4567-adcc-594ccf62fd71",
   "metadata": {},
   "outputs": [],
   "source": [
    "model = LogisticRegression()"
   ]
  },
  {
   "cell_type": "code",
   "execution_count": 68,
   "id": "da247f2e-1903-431d-ac7f-5b04d650553a",
   "metadata": {},
   "outputs": [
    {
     "name": "stderr",
     "output_type": "stream",
     "text": [
      "C:\\Users\\user1\\anaconda3\\lib\\site-packages\\sklearn\\linear_model\\_logistic.py:763: ConvergenceWarning: lbfgs failed to converge (status=1):\n",
      "STOP: TOTAL NO. of ITERATIONS REACHED LIMIT.\n",
      "\n",
      "Increase the number of iterations (max_iter) or scale the data as shown in:\n",
      "    https://scikit-learn.org/stable/modules/preprocessing.html\n",
      "Please also refer to the documentation for alternative solver options:\n",
      "    https://scikit-learn.org/stable/modules/linear_model.html#logistic-regression\n",
      "  n_iter_i = _check_optimize_result(\n"
     ]
    },
    {
     "data": {
      "text/plain": [
       "LogisticRegression()"
      ]
     },
     "execution_count": 68,
     "metadata": {},
     "output_type": "execute_result"
    }
   ],
   "source": [
    "model.fit(X_train, y_train)\n"
   ]
  },
  {
   "cell_type": "code",
   "execution_count": 69,
   "id": "5c709700-77af-494c-a9db-e06b1bfe7af0",
   "metadata": {},
   "outputs": [],
   "source": [
    "y_pred = model.predict(X_test)"
   ]
  },
  {
   "cell_type": "code",
   "execution_count": 70,
   "id": "37b503e4-25db-47d7-8aff-48fc5cf42bf1",
   "metadata": {},
   "outputs": [
    {
     "name": "stdout",
     "output_type": "stream",
     "text": [
      "              precision    recall  f1-score   support\n",
      "\n",
      "           0       0.89      0.89      0.89       118\n",
      "           1       0.79      0.79      0.79        61\n",
      "\n",
      "    accuracy                           0.85       179\n",
      "   macro avg       0.84      0.84      0.84       179\n",
      "weighted avg       0.85      0.85      0.85       179\n",
      "\n"
     ]
    }
   ],
   "source": [
    "print(classification_report(y_test,y_pred))"
   ]
  },
  {
   "cell_type": "code",
   "execution_count": 71,
   "id": "ceeac292-765d-4ccf-a112-8290d4c24154",
   "metadata": {},
   "outputs": [
    {
     "name": "stdout",
     "output_type": "stream",
     "text": [
      "              precision    recall  f1-score   support\n",
      "\n",
      "           0       0.89      0.91      0.90       118\n",
      "           1       0.81      0.79      0.80        61\n",
      "\n",
      "    accuracy                           0.87       179\n",
      "   macro avg       0.85      0.85      0.85       179\n",
      "weighted avg       0.87      0.87      0.87       179\n",
      "\n"
     ]
    }
   ],
   "source": [
    "model1 = LogisticRegression(max_iter=1500)\n",
    "model1.fit(X_train, y_train)\n",
    "y_pred = model1.predict(X_test)\n",
    "print(classification_report(y_test,y_pred))"
   ]
  },
  {
   "cell_type": "code",
   "execution_count": 73,
   "id": "c49cc3c3-995b-4fc8-bb34-95ffac14da2b",
   "metadata": {},
   "outputs": [
    {
     "name": "stdout",
     "output_type": "stream",
     "text": [
      "              precision    recall  f1-score   support\n",
      "\n",
      "           0       0.81      0.84      0.83       431\n",
      "           1       0.74      0.71      0.72       281\n",
      "\n",
      "    accuracy                           0.79       712\n",
      "   macro avg       0.78      0.77      0.77       712\n",
      "weighted avg       0.79      0.79      0.79       712\n",
      "\n"
     ]
    },
    {
     "name": "stderr",
     "output_type": "stream",
     "text": [
      "C:\\Users\\user1\\anaconda3\\lib\\site-packages\\sklearn\\linear_model\\_logistic.py:763: ConvergenceWarning: lbfgs failed to converge (status=1):\n",
      "STOP: TOTAL NO. of ITERATIONS REACHED LIMIT.\n",
      "\n",
      "Increase the number of iterations (max_iter) or scale the data as shown in:\n",
      "    https://scikit-learn.org/stable/modules/preprocessing.html\n",
      "Please also refer to the documentation for alternative solver options:\n",
      "    https://scikit-learn.org/stable/modules/linear_model.html#logistic-regression\n",
      "  n_iter_i = _check_optimize_result(\n"
     ]
    }
   ],
   "source": [
    "model1 = LogisticRegression()\n",
    "model1.fit(X_train, y_train)\n",
    "yt_pred = model1.predict(X_train)\n",
    "print(classification_report(y_train,yt_pred))"
   ]
  },
  {
   "cell_type": "markdown",
   "id": "2fa4fdf3-06fe-40ad-9869-a702974569f2",
   "metadata": {},
   "source": [
    "# Feature Selection"
   ]
  },
  {
   "cell_type": "code",
   "execution_count": 88,
   "id": "84614cd9-6531-4cac-b0e6-191f7a1449e8",
   "metadata": {},
   "outputs": [],
   "source": [
    "X = data2.drop([\"Survived\",\"Parch\",\"Embarked_Q\",\"SibSp\"], axis=1 )\n",
    "y = data2.Survived\n",
    "\n",
    "X_train, X_test, y_train, y_test = train_test_split(X,y, test_size=0.2, random_state=11)"
   ]
  },
  {
   "cell_type": "code",
   "execution_count": 89,
   "id": "67a32d30-4009-497b-a60e-da4a98b802bd",
   "metadata": {},
   "outputs": [
    {
     "name": "stdout",
     "output_type": "stream",
     "text": [
      "              precision    recall  f1-score   support\n",
      "\n",
      "           0       0.88      0.89      0.89       118\n",
      "           1       0.78      0.77      0.78        61\n",
      "\n",
      "    accuracy                           0.85       179\n",
      "   macro avg       0.83      0.83      0.83       179\n",
      "weighted avg       0.85      0.85      0.85       179\n",
      "\n"
     ]
    }
   ],
   "source": [
    "model2 = LogisticRegression()\n",
    "model2.fit(X_train,y_train)\n",
    "y_pred = model2.predict(X_test)\n",
    "print(classification_report(y_test, y_pred))\n"
   ]
  },
  {
   "cell_type": "markdown",
   "id": "0f948531-4093-464f-aac3-b029ae4cdd2d",
   "metadata": {},
   "source": [
    "# Working on the test file"
   ]
  },
  {
   "cell_type": "code",
   "execution_count": 111,
   "id": "3cc10d78-b7c8-4442-8286-fb6bd040194b",
   "metadata": {},
   "outputs": [
    {
     "data": {
      "text/html": [
       "<div>\n",
       "<style scoped>\n",
       "    .dataframe tbody tr th:only-of-type {\n",
       "        vertical-align: middle;\n",
       "    }\n",
       "\n",
       "    .dataframe tbody tr th {\n",
       "        vertical-align: top;\n",
       "    }\n",
       "\n",
       "    .dataframe thead th {\n",
       "        text-align: right;\n",
       "    }\n",
       "</style>\n",
       "<table border=\"1\" class=\"dataframe\">\n",
       "  <thead>\n",
       "    <tr style=\"text-align: right;\">\n",
       "      <th></th>\n",
       "      <th>PassengerId</th>\n",
       "      <th>Pclass</th>\n",
       "      <th>Name</th>\n",
       "      <th>Sex</th>\n",
       "      <th>Age</th>\n",
       "      <th>SibSp</th>\n",
       "      <th>Parch</th>\n",
       "      <th>Ticket</th>\n",
       "      <th>Fare</th>\n",
       "      <th>Cabin</th>\n",
       "      <th>Embarked</th>\n",
       "    </tr>\n",
       "  </thead>\n",
       "  <tbody>\n",
       "    <tr>\n",
       "      <th>0</th>\n",
       "      <td>892</td>\n",
       "      <td>3</td>\n",
       "      <td>Kelly, Mr. James</td>\n",
       "      <td>male</td>\n",
       "      <td>34.5</td>\n",
       "      <td>0</td>\n",
       "      <td>0</td>\n",
       "      <td>330911</td>\n",
       "      <td>7.8292</td>\n",
       "      <td>NaN</td>\n",
       "      <td>Q</td>\n",
       "    </tr>\n",
       "    <tr>\n",
       "      <th>1</th>\n",
       "      <td>893</td>\n",
       "      <td>3</td>\n",
       "      <td>Wilkes, Mrs. James (Ellen Needs)</td>\n",
       "      <td>female</td>\n",
       "      <td>47.0</td>\n",
       "      <td>1</td>\n",
       "      <td>0</td>\n",
       "      <td>363272</td>\n",
       "      <td>7.0000</td>\n",
       "      <td>NaN</td>\n",
       "      <td>S</td>\n",
       "    </tr>\n",
       "    <tr>\n",
       "      <th>2</th>\n",
       "      <td>894</td>\n",
       "      <td>2</td>\n",
       "      <td>Myles, Mr. Thomas Francis</td>\n",
       "      <td>male</td>\n",
       "      <td>62.0</td>\n",
       "      <td>0</td>\n",
       "      <td>0</td>\n",
       "      <td>240276</td>\n",
       "      <td>9.6875</td>\n",
       "      <td>NaN</td>\n",
       "      <td>Q</td>\n",
       "    </tr>\n",
       "    <tr>\n",
       "      <th>3</th>\n",
       "      <td>895</td>\n",
       "      <td>3</td>\n",
       "      <td>Wirz, Mr. Albert</td>\n",
       "      <td>male</td>\n",
       "      <td>27.0</td>\n",
       "      <td>0</td>\n",
       "      <td>0</td>\n",
       "      <td>315154</td>\n",
       "      <td>8.6625</td>\n",
       "      <td>NaN</td>\n",
       "      <td>S</td>\n",
       "    </tr>\n",
       "    <tr>\n",
       "      <th>4</th>\n",
       "      <td>896</td>\n",
       "      <td>3</td>\n",
       "      <td>Hirvonen, Mrs. Alexander (Helga E Lindqvist)</td>\n",
       "      <td>female</td>\n",
       "      <td>22.0</td>\n",
       "      <td>1</td>\n",
       "      <td>1</td>\n",
       "      <td>3101298</td>\n",
       "      <td>12.2875</td>\n",
       "      <td>NaN</td>\n",
       "      <td>S</td>\n",
       "    </tr>\n",
       "  </tbody>\n",
       "</table>\n",
       "</div>"
      ],
      "text/plain": [
       "   PassengerId  Pclass                                          Name     Sex  \\\n",
       "0          892       3                              Kelly, Mr. James    male   \n",
       "1          893       3              Wilkes, Mrs. James (Ellen Needs)  female   \n",
       "2          894       2                     Myles, Mr. Thomas Francis    male   \n",
       "3          895       3                              Wirz, Mr. Albert    male   \n",
       "4          896       3  Hirvonen, Mrs. Alexander (Helga E Lindqvist)  female   \n",
       "\n",
       "    Age  SibSp  Parch   Ticket     Fare Cabin Embarked  \n",
       "0  34.5      0      0   330911   7.8292   NaN        Q  \n",
       "1  47.0      1      0   363272   7.0000   NaN        S  \n",
       "2  62.0      0      0   240276   9.6875   NaN        Q  \n",
       "3  27.0      0      0   315154   8.6625   NaN        S  \n",
       "4  22.0      1      1  3101298  12.2875   NaN        S  "
      ]
     },
     "execution_count": 111,
     "metadata": {},
     "output_type": "execute_result"
    }
   ],
   "source": [
    "test.head()"
   ]
  },
  {
   "cell_type": "code",
   "execution_count": 112,
   "id": "2a7eb210-edc9-4cef-acdf-b4efb083dd0b",
   "metadata": {},
   "outputs": [
    {
     "data": {
      "text/html": [
       "<div>\n",
       "<style scoped>\n",
       "    .dataframe tbody tr th:only-of-type {\n",
       "        vertical-align: middle;\n",
       "    }\n",
       "\n",
       "    .dataframe tbody tr th {\n",
       "        vertical-align: top;\n",
       "    }\n",
       "\n",
       "    .dataframe thead th {\n",
       "        text-align: right;\n",
       "    }\n",
       "</style>\n",
       "<table border=\"1\" class=\"dataframe\">\n",
       "  <thead>\n",
       "    <tr style=\"text-align: right;\">\n",
       "      <th></th>\n",
       "      <th>Pclass</th>\n",
       "      <th>Sex</th>\n",
       "      <th>Age</th>\n",
       "      <th>SibSp</th>\n",
       "      <th>Parch</th>\n",
       "      <th>Fare</th>\n",
       "      <th>Embarked</th>\n",
       "    </tr>\n",
       "  </thead>\n",
       "  <tbody>\n",
       "    <tr>\n",
       "      <th>0</th>\n",
       "      <td>3</td>\n",
       "      <td>male</td>\n",
       "      <td>34.5</td>\n",
       "      <td>0</td>\n",
       "      <td>0</td>\n",
       "      <td>7.8292</td>\n",
       "      <td>Q</td>\n",
       "    </tr>\n",
       "    <tr>\n",
       "      <th>1</th>\n",
       "      <td>3</td>\n",
       "      <td>female</td>\n",
       "      <td>47.0</td>\n",
       "      <td>1</td>\n",
       "      <td>0</td>\n",
       "      <td>7.0000</td>\n",
       "      <td>S</td>\n",
       "    </tr>\n",
       "    <tr>\n",
       "      <th>2</th>\n",
       "      <td>2</td>\n",
       "      <td>male</td>\n",
       "      <td>62.0</td>\n",
       "      <td>0</td>\n",
       "      <td>0</td>\n",
       "      <td>9.6875</td>\n",
       "      <td>Q</td>\n",
       "    </tr>\n",
       "    <tr>\n",
       "      <th>3</th>\n",
       "      <td>3</td>\n",
       "      <td>male</td>\n",
       "      <td>27.0</td>\n",
       "      <td>0</td>\n",
       "      <td>0</td>\n",
       "      <td>8.6625</td>\n",
       "      <td>S</td>\n",
       "    </tr>\n",
       "    <tr>\n",
       "      <th>4</th>\n",
       "      <td>3</td>\n",
       "      <td>female</td>\n",
       "      <td>22.0</td>\n",
       "      <td>1</td>\n",
       "      <td>1</td>\n",
       "      <td>12.2875</td>\n",
       "      <td>S</td>\n",
       "    </tr>\n",
       "  </tbody>\n",
       "</table>\n",
       "</div>"
      ],
      "text/plain": [
       "   Pclass     Sex   Age  SibSp  Parch     Fare Embarked\n",
       "0       3    male  34.5      0      0   7.8292        Q\n",
       "1       3  female  47.0      1      0   7.0000        S\n",
       "2       2    male  62.0      0      0   9.6875        Q\n",
       "3       3    male  27.0      0      0   8.6625        S\n",
       "4       3  female  22.0      1      1  12.2875        S"
      ]
     },
     "execution_count": 112,
     "metadata": {},
     "output_type": "execute_result"
    }
   ],
   "source": [
    "ntest = test.drop(drop_cols, axis=1)\n",
    "ntest.head()"
   ]
  },
  {
   "cell_type": "code",
   "execution_count": 113,
   "id": "1c544564-afa0-45f5-8e57-34d4eed98d22",
   "metadata": {},
   "outputs": [],
   "source": [
    "ntest[\"Age\"].fillna(age_mean, inplace=True)"
   ]
  },
  {
   "cell_type": "code",
   "execution_count": null,
   "id": "9f3c6260-3b36-4897-857a-23cd36806e7d",
   "metadata": {},
   "outputs": [],
   "source": []
  },
  {
   "cell_type": "code",
   "execution_count": 114,
   "id": "47f5e50e-d16a-47dc-87be-414307bc876a",
   "metadata": {},
   "outputs": [],
   "source": [
    "ntest[\"Fare\"].fillna(ntest[\"Fare\"].mean(), inplace=True)"
   ]
  },
  {
   "cell_type": "code",
   "execution_count": 115,
   "id": "2216556e-bf6f-4a0a-af93-89369dd072ba",
   "metadata": {},
   "outputs": [
    {
     "data": {
      "text/plain": [
       "Pclass      0\n",
       "Sex         0\n",
       "Age         0\n",
       "SibSp       0\n",
       "Parch       0\n",
       "Fare        0\n",
       "Embarked    0\n",
       "dtype: int64"
      ]
     },
     "execution_count": 115,
     "metadata": {},
     "output_type": "execute_result"
    }
   ],
   "source": [
    "ntest.isnull().sum()"
   ]
  },
  {
   "cell_type": "code",
   "execution_count": 116,
   "id": "3e391b8b-6c00-43bc-a230-7fddb844ec86",
   "metadata": {},
   "outputs": [],
   "source": [
    "ntest = pd.get_dummies(ntest,columns=[\"Sex\", \"Embarked\"], drop_first=True)"
   ]
  },
  {
   "cell_type": "code",
   "execution_count": 117,
   "id": "d829c7b7-abd6-44df-a07e-05580aecf920",
   "metadata": {},
   "outputs": [
    {
     "data": {
      "text/html": [
       "<div>\n",
       "<style scoped>\n",
       "    .dataframe tbody tr th:only-of-type {\n",
       "        vertical-align: middle;\n",
       "    }\n",
       "\n",
       "    .dataframe tbody tr th {\n",
       "        vertical-align: top;\n",
       "    }\n",
       "\n",
       "    .dataframe thead th {\n",
       "        text-align: right;\n",
       "    }\n",
       "</style>\n",
       "<table border=\"1\" class=\"dataframe\">\n",
       "  <thead>\n",
       "    <tr style=\"text-align: right;\">\n",
       "      <th></th>\n",
       "      <th>Pclass</th>\n",
       "      <th>Age</th>\n",
       "      <th>SibSp</th>\n",
       "      <th>Parch</th>\n",
       "      <th>Fare</th>\n",
       "      <th>Sex_male</th>\n",
       "      <th>Embarked_Q</th>\n",
       "      <th>Embarked_S</th>\n",
       "    </tr>\n",
       "  </thead>\n",
       "  <tbody>\n",
       "    <tr>\n",
       "      <th>0</th>\n",
       "      <td>3</td>\n",
       "      <td>34.5</td>\n",
       "      <td>0</td>\n",
       "      <td>0</td>\n",
       "      <td>7.8292</td>\n",
       "      <td>1</td>\n",
       "      <td>1</td>\n",
       "      <td>0</td>\n",
       "    </tr>\n",
       "  </tbody>\n",
       "</table>\n",
       "</div>"
      ],
      "text/plain": [
       "   Pclass   Age  SibSp  Parch    Fare  Sex_male  Embarked_Q  Embarked_S\n",
       "0       3  34.5      0      0  7.8292         1           1           0"
      ]
     },
     "execution_count": 117,
     "metadata": {},
     "output_type": "execute_result"
    }
   ],
   "source": [
    "ntest.head(1)"
   ]
  },
  {
   "cell_type": "code",
   "execution_count": 118,
   "id": "1898d3e8-0683-4668-9d98-b8be206355b5",
   "metadata": {},
   "outputs": [],
   "source": [
    "X_val = ntest.drop([\"Parch\",\"Embarked_Q\",\"SibSp\"], axis=1 )\n",
    "\n",
    "\n"
   ]
  },
  {
   "cell_type": "code",
   "execution_count": 119,
   "id": "05e2859d-1b3c-4b5c-bd90-6de2029bf47e",
   "metadata": {},
   "outputs": [
    {
     "data": {
      "text/html": [
       "<div>\n",
       "<style scoped>\n",
       "    .dataframe tbody tr th:only-of-type {\n",
       "        vertical-align: middle;\n",
       "    }\n",
       "\n",
       "    .dataframe tbody tr th {\n",
       "        vertical-align: top;\n",
       "    }\n",
       "\n",
       "    .dataframe thead th {\n",
       "        text-align: right;\n",
       "    }\n",
       "</style>\n",
       "<table border=\"1\" class=\"dataframe\">\n",
       "  <thead>\n",
       "    <tr style=\"text-align: right;\">\n",
       "      <th></th>\n",
       "      <th>Pclass</th>\n",
       "      <th>Age</th>\n",
       "      <th>Fare</th>\n",
       "      <th>Sex_male</th>\n",
       "      <th>Embarked_S</th>\n",
       "    </tr>\n",
       "  </thead>\n",
       "  <tbody>\n",
       "    <tr>\n",
       "      <th>0</th>\n",
       "      <td>3</td>\n",
       "      <td>34.5</td>\n",
       "      <td>7.8292</td>\n",
       "      <td>1</td>\n",
       "      <td>0</td>\n",
       "    </tr>\n",
       "  </tbody>\n",
       "</table>\n",
       "</div>"
      ],
      "text/plain": [
       "   Pclass   Age    Fare  Sex_male  Embarked_S\n",
       "0       3  34.5  7.8292         1           0"
      ]
     },
     "execution_count": 119,
     "metadata": {},
     "output_type": "execute_result"
    }
   ],
   "source": [
    "X_val.head(1)"
   ]
  },
  {
   "cell_type": "code",
   "execution_count": 120,
   "id": "52b501ba-52a3-4e0b-9431-b5694c5a7077",
   "metadata": {},
   "outputs": [
    {
     "data": {
      "text/html": [
       "<div>\n",
       "<style scoped>\n",
       "    .dataframe tbody tr th:only-of-type {\n",
       "        vertical-align: middle;\n",
       "    }\n",
       "\n",
       "    .dataframe tbody tr th {\n",
       "        vertical-align: top;\n",
       "    }\n",
       "\n",
       "    .dataframe thead th {\n",
       "        text-align: right;\n",
       "    }\n",
       "</style>\n",
       "<table border=\"1\" class=\"dataframe\">\n",
       "  <thead>\n",
       "    <tr style=\"text-align: right;\">\n",
       "      <th></th>\n",
       "      <th>Pclass</th>\n",
       "      <th>Age</th>\n",
       "      <th>Fare</th>\n",
       "      <th>Sex_male</th>\n",
       "      <th>Embarked_S</th>\n",
       "    </tr>\n",
       "  </thead>\n",
       "  <tbody>\n",
       "    <tr>\n",
       "      <th>333</th>\n",
       "      <td>3</td>\n",
       "      <td>16.0</td>\n",
       "      <td>18.0</td>\n",
       "      <td>1</td>\n",
       "      <td>1</td>\n",
       "    </tr>\n",
       "  </tbody>\n",
       "</table>\n",
       "</div>"
      ],
      "text/plain": [
       "     Pclass   Age  Fare  Sex_male  Embarked_S\n",
       "333       3  16.0  18.0         1           1"
      ]
     },
     "execution_count": 120,
     "metadata": {},
     "output_type": "execute_result"
    }
   ],
   "source": [
    "X_train.head(1)"
   ]
  },
  {
   "cell_type": "code",
   "execution_count": 122,
   "id": "42c917f8-84e6-4b63-aec7-470d64bf8008",
   "metadata": {},
   "outputs": [],
   "source": [
    "y_pred = model2.predict(X_val)\n",
    "# print(classification_report(X_val, X_pred))"
   ]
  },
  {
   "cell_type": "markdown",
   "id": "00c663d9-d920-44e3-acf7-7dd148bc0ba3",
   "metadata": {},
   "source": [
    "# Exporting to Kaggle"
   ]
  },
  {
   "cell_type": "code",
   "execution_count": 124,
   "id": "3f8b4aed-5e5e-4e5a-be46-4f0f1148eb95",
   "metadata": {},
   "outputs": [
    {
     "data": {
      "text/html": [
       "<div>\n",
       "<style scoped>\n",
       "    .dataframe tbody tr th:only-of-type {\n",
       "        vertical-align: middle;\n",
       "    }\n",
       "\n",
       "    .dataframe tbody tr th {\n",
       "        vertical-align: top;\n",
       "    }\n",
       "\n",
       "    .dataframe thead th {\n",
       "        text-align: right;\n",
       "    }\n",
       "</style>\n",
       "<table border=\"1\" class=\"dataframe\">\n",
       "  <thead>\n",
       "    <tr style=\"text-align: right;\">\n",
       "      <th></th>\n",
       "      <th>PassengerId</th>\n",
       "    </tr>\n",
       "  </thead>\n",
       "  <tbody>\n",
       "    <tr>\n",
       "      <th>0</th>\n",
       "      <td>892</td>\n",
       "    </tr>\n",
       "    <tr>\n",
       "      <th>1</th>\n",
       "      <td>893</td>\n",
       "    </tr>\n",
       "  </tbody>\n",
       "</table>\n",
       "</div>"
      ],
      "text/plain": [
       "   PassengerId\n",
       "0          892\n",
       "1          893"
      ]
     },
     "execution_count": 124,
     "metadata": {},
     "output_type": "execute_result"
    }
   ],
   "source": [
    "predictdf = test[[\"PassengerId\"]]\n",
    "predictdf.head(2)"
   ]
  },
  {
   "cell_type": "code",
   "execution_count": 126,
   "id": "32f4f619-bde4-4ff5-9c7c-e9e42cadb5c6",
   "metadata": {},
   "outputs": [
    {
     "name": "stderr",
     "output_type": "stream",
     "text": [
      "<ipython-input-126-1b71d8a2d1ab>:1: SettingWithCopyWarning: \n",
      "A value is trying to be set on a copy of a slice from a DataFrame.\n",
      "Try using .loc[row_indexer,col_indexer] = value instead\n",
      "\n",
      "See the caveats in the documentation: https://pandas.pydata.org/pandas-docs/stable/user_guide/indexing.html#returning-a-view-versus-a-copy\n",
      "  predictdf[\"Survived\"] = y_pred\n"
     ]
    }
   ],
   "source": [
    "predictdf[\"Survived\"] = y_pred"
   ]
  },
  {
   "cell_type": "code",
   "execution_count": 127,
   "id": "acd5e6c5-083e-4baf-b518-e01b0bc11d75",
   "metadata": {},
   "outputs": [
    {
     "data": {
      "text/html": [
       "<div>\n",
       "<style scoped>\n",
       "    .dataframe tbody tr th:only-of-type {\n",
       "        vertical-align: middle;\n",
       "    }\n",
       "\n",
       "    .dataframe tbody tr th {\n",
       "        vertical-align: top;\n",
       "    }\n",
       "\n",
       "    .dataframe thead th {\n",
       "        text-align: right;\n",
       "    }\n",
       "</style>\n",
       "<table border=\"1\" class=\"dataframe\">\n",
       "  <thead>\n",
       "    <tr style=\"text-align: right;\">\n",
       "      <th></th>\n",
       "      <th>PassengerId</th>\n",
       "      <th>Survived</th>\n",
       "    </tr>\n",
       "  </thead>\n",
       "  <tbody>\n",
       "    <tr>\n",
       "      <th>0</th>\n",
       "      <td>892</td>\n",
       "      <td>0</td>\n",
       "    </tr>\n",
       "    <tr>\n",
       "      <th>1</th>\n",
       "      <td>893</td>\n",
       "      <td>0</td>\n",
       "    </tr>\n",
       "    <tr>\n",
       "      <th>2</th>\n",
       "      <td>894</td>\n",
       "      <td>0</td>\n",
       "    </tr>\n",
       "    <tr>\n",
       "      <th>3</th>\n",
       "      <td>895</td>\n",
       "      <td>0</td>\n",
       "    </tr>\n",
       "    <tr>\n",
       "      <th>4</th>\n",
       "      <td>896</td>\n",
       "      <td>1</td>\n",
       "    </tr>\n",
       "    <tr>\n",
       "      <th>...</th>\n",
       "      <td>...</td>\n",
       "      <td>...</td>\n",
       "    </tr>\n",
       "    <tr>\n",
       "      <th>413</th>\n",
       "      <td>1305</td>\n",
       "      <td>0</td>\n",
       "    </tr>\n",
       "    <tr>\n",
       "      <th>414</th>\n",
       "      <td>1306</td>\n",
       "      <td>1</td>\n",
       "    </tr>\n",
       "    <tr>\n",
       "      <th>415</th>\n",
       "      <td>1307</td>\n",
       "      <td>0</td>\n",
       "    </tr>\n",
       "    <tr>\n",
       "      <th>416</th>\n",
       "      <td>1308</td>\n",
       "      <td>0</td>\n",
       "    </tr>\n",
       "    <tr>\n",
       "      <th>417</th>\n",
       "      <td>1309</td>\n",
       "      <td>0</td>\n",
       "    </tr>\n",
       "  </tbody>\n",
       "</table>\n",
       "<p>418 rows × 2 columns</p>\n",
       "</div>"
      ],
      "text/plain": [
       "     PassengerId  Survived\n",
       "0            892         0\n",
       "1            893         0\n",
       "2            894         0\n",
       "3            895         0\n",
       "4            896         1\n",
       "..           ...       ...\n",
       "413         1305         0\n",
       "414         1306         1\n",
       "415         1307         0\n",
       "416         1308         0\n",
       "417         1309         0\n",
       "\n",
       "[418 rows x 2 columns]"
      ]
     },
     "execution_count": 127,
     "metadata": {},
     "output_type": "execute_result"
    }
   ],
   "source": [
    "predictdf"
   ]
  },
  {
   "cell_type": "markdown",
   "id": "95ab99a7-3ddf-46d2-bfc0-c808fe607fb6",
   "metadata": {},
   "source": [
    "# converting to CSV"
   ]
  },
  {
   "cell_type": "code",
   "execution_count": 5,
   "id": "12330c65-9d3b-44b5-8cfa-0e8567a7df44",
   "metadata": {},
   "outputs": [
    {
     "ename": "NameError",
     "evalue": "name 'predictdf' is not defined",
     "output_type": "error",
     "traceback": [
      "\u001b[1;31m---------------------------------------------------------------------------\u001b[0m",
      "\u001b[1;31mNameError\u001b[0m                                 Traceback (most recent call last)",
      "\u001b[1;32m<ipython-input-5-31c4fc633a8b>\u001b[0m in \u001b[0;36m<module>\u001b[1;34m\u001b[0m\n\u001b[1;32m----> 1\u001b[1;33m \u001b[0mpredictdf\u001b[0m\u001b[1;33m.\u001b[0m\u001b[0mto_csv\u001b[0m\u001b[1;33m(\u001b[0m\u001b[1;34m\"titanic1.csv\"\u001b[0m\u001b[1;33m,\u001b[0m\u001b[0mindex\u001b[0m\u001b[1;33m=\u001b[0m\u001b[1;32mFalse\u001b[0m\u001b[1;33m)\u001b[0m\u001b[1;33m\u001b[0m\u001b[1;33m\u001b[0m\u001b[0m\n\u001b[0m",
      "\u001b[1;31mNameError\u001b[0m: name 'predictdf' is not defined"
     ]
    }
   ],
   "source": [
    "predictdf.to_csv(\"titanic1.csv\",index=False)"
   ]
  },
  {
   "cell_type": "code",
   "execution_count": 131,
   "id": "188c46bd-f5c6-4132-a8ba-e8272501fefd",
   "metadata": {},
   "outputs": [
    {
     "data": {
      "text/html": [
       "<div>\n",
       "<style scoped>\n",
       "    .dataframe tbody tr th:only-of-type {\n",
       "        vertical-align: middle;\n",
       "    }\n",
       "\n",
       "    .dataframe tbody tr th {\n",
       "        vertical-align: top;\n",
       "    }\n",
       "\n",
       "    .dataframe thead th {\n",
       "        text-align: right;\n",
       "    }\n",
       "</style>\n",
       "<table border=\"1\" class=\"dataframe\">\n",
       "  <thead>\n",
       "    <tr style=\"text-align: right;\">\n",
       "      <th></th>\n",
       "      <th>PassengerId</th>\n",
       "      <th>Survived</th>\n",
       "    </tr>\n",
       "  </thead>\n",
       "  <tbody>\n",
       "    <tr>\n",
       "      <th>0</th>\n",
       "      <td>892</td>\n",
       "      <td>0</td>\n",
       "    </tr>\n",
       "    <tr>\n",
       "      <th>1</th>\n",
       "      <td>893</td>\n",
       "      <td>0</td>\n",
       "    </tr>\n",
       "    <tr>\n",
       "      <th>2</th>\n",
       "      <td>894</td>\n",
       "      <td>0</td>\n",
       "    </tr>\n",
       "    <tr>\n",
       "      <th>3</th>\n",
       "      <td>895</td>\n",
       "      <td>0</td>\n",
       "    </tr>\n",
       "    <tr>\n",
       "      <th>4</th>\n",
       "      <td>896</td>\n",
       "      <td>1</td>\n",
       "    </tr>\n",
       "  </tbody>\n",
       "</table>\n",
       "</div>"
      ],
      "text/plain": [
       "   PassengerId  Survived\n",
       "0          892         0\n",
       "1          893         0\n",
       "2          894         0\n",
       "3          895         0\n",
       "4          896         1"
      ]
     },
     "execution_count": 131,
     "metadata": {},
     "output_type": "execute_result"
    }
   ],
   "source": [
    "pd.read_csv(\"titanic1.csv\").head()"
   ]
  },
  {
   "cell_type": "markdown",
   "id": "13a3b027-1d78-4b15-ad13-07c1f4c11193",
   "metadata": {},
   "source": [
    "# Using a different model - Random forrest"
   ]
  },
  {
   "cell_type": "code",
   "execution_count": 134,
   "id": "f5fb81b7-3355-44c8-9d59-c887d530ff8a",
   "metadata": {},
   "outputs": [],
   "source": [
    "model_forest = RandomForestClassifier()"
   ]
  },
  {
   "cell_type": "code",
   "execution_count": 135,
   "id": "20f2be05-6a74-402f-bbfc-c8923d069a00",
   "metadata": {},
   "outputs": [
    {
     "data": {
      "text/plain": [
       "RandomForestClassifier()"
      ]
     },
     "execution_count": 135,
     "metadata": {},
     "output_type": "execute_result"
    }
   ],
   "source": [
    "model_forest.fit(X_train, y_train)"
   ]
  },
  {
   "cell_type": "code",
   "execution_count": 136,
   "id": "23575be0-40ef-4dc4-958c-12a9b288c64f",
   "metadata": {},
   "outputs": [],
   "source": [
    "y_pred_new = model_forest.predict(X_test)"
   ]
  },
  {
   "cell_type": "code",
   "execution_count": 137,
   "id": "2bbdbe5e-d56a-40df-b9ee-c38bf140b272",
   "metadata": {},
   "outputs": [
    {
     "data": {
      "text/plain": [
       "array([1, 0, 0, 0, 0, 0, 0, 1, 0, 1, 0, 0, 0, 0, 0, 0, 0, 0, 1, 1, 0, 0,\n",
       "       0, 1, 0, 0, 0, 0, 0, 0, 1, 1, 1, 1, 0, 0, 0, 0, 0, 0, 0, 0, 1, 1,\n",
       "       1, 1, 1, 0, 1, 0, 0, 0, 0, 1, 0, 0, 0, 0, 0, 0, 0, 1, 1, 1, 0, 0,\n",
       "       0, 0, 1, 0, 0, 0, 0, 1, 0, 0, 1, 0, 1, 0, 1, 0, 1, 0, 1, 1, 0, 0,\n",
       "       1, 0, 0, 0, 0, 0, 1, 0, 1, 0, 0, 1, 0, 0, 1, 0, 1, 0, 0, 0, 0, 1,\n",
       "       0, 0, 1, 1, 0, 0, 0, 0, 1, 0, 0, 1, 0, 0, 0, 0, 0, 0, 1, 0, 1, 1,\n",
       "       0, 0, 1, 0, 1, 0, 0, 1, 1, 0, 0, 0, 0, 1, 0, 0, 1, 0, 0, 1, 0, 0,\n",
       "       1, 1, 0, 0, 0, 0, 0, 1, 0, 1, 0, 0, 1, 0, 0, 1, 0, 1, 0, 0, 0, 0,\n",
       "       0, 1, 0], dtype=int64)"
      ]
     },
     "execution_count": 137,
     "metadata": {},
     "output_type": "execute_result"
    }
   ],
   "source": [
    "y_pred_new"
   ]
  },
  {
   "cell_type": "code",
   "execution_count": 140,
   "id": "e02339c8-1dca-4b78-9e8c-4c712b697253",
   "metadata": {},
   "outputs": [
    {
     "name": "stdout",
     "output_type": "stream",
     "text": [
      "              precision    recall  f1-score   support\n",
      "\n",
      "           0       0.88      0.91      0.89       118\n",
      "           1       0.81      0.75      0.78        61\n",
      "\n",
      "    accuracy                           0.85       179\n",
      "   macro avg       0.84      0.83      0.84       179\n",
      "weighted avg       0.85      0.85      0.85       179\n",
      "\n"
     ]
    }
   ],
   "source": [
    "print(classification_report(y_test,y_pred_new))"
   ]
  },
  {
   "cell_type": "code",
   "execution_count": 144,
   "id": "18908567-5a04-4f7f-9cc3-73b45df459a2",
   "metadata": {},
   "outputs": [
    {
     "name": "stderr",
     "output_type": "stream",
     "text": [
      "C:\\Users\\user1\\anaconda3\\lib\\site-packages\\seaborn\\_decorators.py:36: FutureWarning: Pass the following variables as keyword args: x, y. From version 0.12, the only valid positional argument will be `data`, and passing other arguments without an explicit keyword will result in an error or misinterpretation.\n",
      "  warnings.warn(\n"
     ]
    },
    {
     "data": {
      "text/plain": [
       "<AxesSubplot:ylabel='Survived'>"
      ]
     },
     "execution_count": 144,
     "metadata": {},
     "output_type": "execute_result"
    },
    {
     "data": {
      "image/png": "[encoded data removed]",
      "text/plain": [
       "<Figure size 576x504 with 1 Axes>"
      ]
     },
     "metadata": {
      "needs_background": "light"
     },
     "output_type": "display_data"
    }
   ],
   "source": [
    "plt.figure(figsize=(8,7))\n",
    "sns.regplot(y_pred_new , y_test)"
   ]
  },
  {
   "cell_type": "markdown",
   "id": "08ef054f-4fcc-483e-bf6f-f247638d7794",
   "metadata": {},
   "source": [
    "### installing xgboost"
   ]
  },
  {
   "cell_type": "code",
   "execution_count": 147,
   "id": "9fbbf7da-6639-47ac-af59-c24f98c81fd1",
   "metadata": {},
   "outputs": [
    {
     "name": "stdout",
     "output_type": "stream",
     "text": [
      "Collecting xgboost\n",
      "  Downloading xgboost-1.6.1-py3-none-win_amd64.whl (125.4 MB)\n",
      "Requirement already satisfied: scipy in c:\\users\\user1\\anaconda3\\lib\\site-packages (from xgboost) (1.6.2)\n",
      "Requirement already satisfied: numpy in c:\\users\\user1\\anaconda3\\lib\\site-packages (from xgboost) (1.20.1)\n",
      "Installing collected packages: xgboost\n",
      "Successfully installed xgboost-1.6.1\n",
      "Note: you may need to restart the kernel to use updated packages.\n"
     ]
    }
   ],
   "source": [
    "pip install xgboost"
   ]
  },
  {
   "cell_type": "code",
   "execution_count": 148,
   "id": "3d5ef488-97cc-4817-b4c2-f248a35cf3db",
   "metadata": {},
   "outputs": [
    {
     "name": "stdout",
     "output_type": "stream",
     "text": [
      "1.6.1\n"
     ]
    }
   ],
   "source": [
    "# check xgboost version\n",
    "import xgboost\n",
    "print(xgboost.__version__)"
   ]
  },
  {
   "cell_type": "markdown",
   "id": "914f5ede-8faa-461e-939f-e106a32faf69",
   "metadata": {},
   "source": [
    " # Using xgboost"
   ]
  },
  {
   "cell_type": "code",
   "execution_count": 152,
   "id": "d6df2874-97d1-451d-8130-066989e990b4",
   "metadata": {},
   "outputs": [],
   "source": [
    "from xgboost import XGBClassifier"
   ]
  },
  {
   "cell_type": "code",
   "execution_count": 4,
   "id": "acaf113c-d1cf-45ff-994d-a05753cb9b60",
   "metadata": {},
   "outputs": [
    {
     "ename": "NameError",
     "evalue": "name 'XGBClassifier' is not defined",
     "output_type": "error",
     "traceback": [
      "\u001b[1;31m---------------------------------------------------------------------------\u001b[0m",
      "\u001b[1;31mNameError\u001b[0m                                 Traceback (most recent call last)",
      "\u001b[1;32m<ipython-input-4-df29ad9d39a0>\u001b[0m in \u001b[0;36m<module>\u001b[1;34m\u001b[0m\n\u001b[0;32m      1\u001b[0m \u001b[1;31m# fit model no training data\u001b[0m\u001b[1;33m\u001b[0m\u001b[1;33m\u001b[0m\u001b[1;33m\u001b[0m\u001b[0m\n\u001b[1;32m----> 2\u001b[1;33m \u001b[0mmodel_xgboost\u001b[0m \u001b[1;33m=\u001b[0m \u001b[0mXGBClassifier\u001b[0m\u001b[1;33m(\u001b[0m\u001b[1;33m)\u001b[0m\u001b[1;33m\u001b[0m\u001b[1;33m\u001b[0m\u001b[0m\n\u001b[0m\u001b[0;32m      3\u001b[0m \u001b[0mmodel_xgboost\u001b[0m\u001b[1;33m.\u001b[0m\u001b[0mfit\u001b[0m\u001b[1;33m(\u001b[0m\u001b[0mX_train\u001b[0m\u001b[1;33m,\u001b[0m \u001b[0my_train\u001b[0m\u001b[1;33m)\u001b[0m\u001b[1;33m\u001b[0m\u001b[1;33m\u001b[0m\u001b[0m\n",
      "\u001b[1;31mNameError\u001b[0m: name 'XGBClassifier' is not defined"
     ]
    }
   ],
   "source": [
    "# fit model no training data\n",
    "model_xgboost = XGBClassifier()\n",
    "model_xgboost.fit(X_train, y_train)"
   ]
  },
  {
   "cell_type": "code",
   "execution_count": 1,
   "id": "27710ac2-a07e-4911-92b2-171b0fe65d74",
   "metadata": {},
   "outputs": [
    {
     "ename": "NameError",
     "evalue": "name 'model_xgboost' is not defined",
     "output_type": "error",
     "traceback": [
      "\u001b[1;31m---------------------------------------------------------------------------\u001b[0m",
      "\u001b[1;31mNameError\u001b[0m                                 Traceback (most recent call last)",
      "\u001b[1;32m<ipython-input-1-86d045ce0524>\u001b[0m in \u001b[0;36m<module>\u001b[1;34m\u001b[0m\n\u001b[1;32m----> 1\u001b[1;33m \u001b[0mmodel_xgboost\u001b[0m\u001b[1;33m.\u001b[0m\u001b[0mfit\u001b[0m\u001b[1;33m(\u001b[0m\u001b[0mX_train\u001b[0m\u001b[1;33m,\u001b[0m \u001b[0my_train\u001b[0m\u001b[1;33m)\u001b[0m\u001b[1;33m\u001b[0m\u001b[1;33m\u001b[0m\u001b[0m\n\u001b[0m",
      "\u001b[1;31mNameError\u001b[0m: name 'model_xgboost' is not defined"
     ]
    }
   ],
   "source": [
    "model_xgboost.fit(X_train, y_train)"
   ]
  },
  {
   "cell_type": "code",
   "execution_count": 156,
   "id": "ac5652f5-7b14-48eb-8f6c-9eba91b7d485",
   "metadata": {},
   "outputs": [],
   "source": [
    "y_pred_xgboost = model_xgboost.predict(X_test)"
   ]
  },
  {
   "cell_type": "code",
   "execution_count": 158,
   "id": "1ff256dc-36cb-401f-810f-f08e898d8dba",
   "metadata": {},
   "outputs": [
    {
     "name": "stdout",
     "output_type": "stream",
     "text": [
      "              precision    recall  f1-score   support\n",
      "\n",
      "           0       0.88      0.92      0.90       118\n",
      "           1       0.82      0.75      0.79        61\n",
      "\n",
      "    accuracy                           0.86       179\n",
      "   macro avg       0.85      0.83      0.84       179\n",
      "weighted avg       0.86      0.86      0.86       179\n",
      "\n"
     ]
    }
   ],
   "source": [
    "print(classification_report(y_test,y_pred_xgboost))"
   ]
  },
  {
   "cell_type": "markdown",
   "id": "7fc79a70-2bec-4eaf-af53-46b464538d79",
   "metadata": {},
   "source": [
    "# importing Catboost"
   ]
  },
  {
   "cell_type": "code",
   "execution_count": 175,
   "id": "cfbf839e-a14c-4aa8-ab12-fb617979803c",
   "metadata": {},
   "outputs": [
    {
     "name": "stdout",
     "output_type": "stream",
     "text": [
      "Collecting catboost\n",
      "  Downloading catboost-1.0.6-cp38-none-win_amd64.whl (73.9 MB)\n",
      "Requirement already satisfied: numpy>=1.16.0 in c:\\users\\user1\\anaconda3\\lib\\site-packages (from catboost) (1.20.1)\n",
      "Requirement already satisfied: six in c:\\users\\user1\\anaconda3\\lib\\site-packages (from catboost) (1.15.0)\n",
      "Collecting plotly\n",
      "  Downloading plotly-5.9.0-py2.py3-none-any.whl (15.2 MB)\n",
      "Requirement already satisfied: pandas>=0.24.0 in c:\\users\\user1\\anaconda3\\lib\\site-packages (from catboost) (1.2.4)\n",
      "Requirement already satisfied: matplotlib in c:\\users\\user1\\anaconda3\\lib\\site-packages (from catboost) (3.3.4)\n",
      "Collecting graphviz\n",
      "  Downloading graphviz-0.20.1-py3-none-any.whl (47 kB)\n",
      "Requirement already satisfied: scipy in c:\\users\\user1\\anaconda3\\lib\\site-packages (from catboost) (1.6.2)\n",
      "Requirement already satisfied: python-dateutil>=2.7.3 in c:\\users\\user1\\anaconda3\\lib\\site-packages (from pandas>=0.24.0->catboost) (2.8.1)\n",
      "Requirement already satisfied: pytz>=2017.3 in c:\\users\\user1\\anaconda3\\lib\\site-packages (from pandas>=0.24.0->catboost) (2021.1)\n",
      "Requirement already satisfied: cycler>=0.10 in c:\\users\\user1\\anaconda3\\lib\\site-packages (from matplotlib->catboost) (0.10.0)\n",
      "Requirement already satisfied: pyparsing!=2.0.4,!=2.1.2,!=2.1.6,>=2.0.3 in c:\\users\\user1\\anaconda3\\lib\\site-packages (from matplotlib->catboost) (2.4.7)\n",
      "Requirement already satisfied: pillow>=6.2.0 in c:\\users\\user1\\anaconda3\\lib\\site-packages (from matplotlib->catboost) (8.2.0)\n",
      "Requirement already satisfied: kiwisolver>=1.0.1 in c:\\users\\user1\\anaconda3\\lib\\site-packages (from matplotlib->catboost) (1.3.1)\n",
      "Collecting tenacity>=6.2.0\n",
      "  Downloading tenacity-8.0.1-py3-none-any.whl (24 kB)\n",
      "Installing collected packages: tenacity, plotly, graphviz, catboost\n",
      "Successfully installed catboost-1.0.6 graphviz-0.20.1 plotly-5.9.0 tenacity-8.0.1\n",
      "Note: you may need to restart the kernel to use updated packages.\n"
     ]
    }
   ],
   "source": [
    "pip install catboost"
   ]
  },
  {
   "cell_type": "code",
   "execution_count": 185,
   "id": "260153e7-4c02-4bd9-b4f9-76e723fc5ad3",
   "metadata": {},
   "outputs": [],
   "source": [
    "from catboost import CatBoostClassifier"
   ]
  },
  {
   "cell_type": "markdown",
   "id": "c2bb99a6-26ce-4d80-96e3-3c7c520e1de6",
   "metadata": {},
   "source": [
    "# Using catboost"
   ]
  },
  {
   "cell_type": "code",
   "execution_count": 186,
   "id": "1fff643a-78ed-4cf9-a095-b6fcc8e0e418",
   "metadata": {},
   "outputs": [],
   "source": [
    "model_cat = CatBoostClassifier()"
   ]
  },
  {
   "cell_type": "code",
   "execution_count": 187,
   "id": "22b428b2-5726-40fa-b7e9-8de26d976794",
   "metadata": {
    "scrolled": true,
    "tags": []
   },
   "outputs": [
    {
     "name": "stdout",
     "output_type": "stream",
     "text": [
      "Learning rate set to 0.008911\n",
      "0:\tlearn: 0.6876840\ttotal: 20.1ms\tremaining: 20s\n",
      "1:\tlearn: 0.6833545\ttotal: 28.8ms\tremaining: 14.4s\n",
      "2:\tlearn: 0.6778819\ttotal: 36.6ms\tremaining: 12.2s\n",
      "3:\tlearn: 0.6731293\ttotal: 44.5ms\tremaining: 11.1s\n",
      "4:\tlearn: 0.6683617\ttotal: 48.8ms\tremaining: 9.71s\n",
      "5:\tlearn: 0.6631930\ttotal: 54.4ms\tremaining: 9.02s\n",
      "6:\tlearn: 0.6593012\ttotal: 59.7ms\tremaining: 8.47s\n",
      "7:\tlearn: 0.6539425\ttotal: 64.2ms\tremaining: 7.96s\n",
      "8:\tlearn: 0.6486688\ttotal: 68.6ms\tremaining: 7.56s\n",
      "9:\tlearn: 0.6436986\ttotal: 72ms\tremaining: 7.13s\n",
      "10:\tlearn: 0.6397055\ttotal: 74.1ms\tremaining: 6.66s\n",
      "11:\tlearn: 0.6354156\ttotal: 77.6ms\tremaining: 6.39s\n",
      "12:\tlearn: 0.6308895\ttotal: 81.6ms\tremaining: 6.2s\n",
      "13:\tlearn: 0.6272507\ttotal: 85.3ms\tremaining: 6s\n",
      "14:\tlearn: 0.6227670\ttotal: 88.9ms\tremaining: 5.84s\n",
      "15:\tlearn: 0.6190201\ttotal: 91.4ms\tremaining: 5.62s\n",
      "16:\tlearn: 0.6153588\ttotal: 93.7ms\tremaining: 5.42s\n",
      "17:\tlearn: 0.6116498\ttotal: 96.5ms\tremaining: 5.27s\n",
      "18:\tlearn: 0.6079000\ttotal: 99.8ms\tremaining: 5.15s\n",
      "19:\tlearn: 0.6045168\ttotal: 103ms\tremaining: 5.07s\n",
      "20:\tlearn: 0.6012884\ttotal: 106ms\tremaining: 4.92s\n",
      "21:\tlearn: 0.5971453\ttotal: 110ms\tremaining: 4.89s\n",
      "22:\tlearn: 0.5939680\ttotal: 113ms\tremaining: 4.81s\n",
      "23:\tlearn: 0.5901217\ttotal: 117ms\tremaining: 4.75s\n",
      "24:\tlearn: 0.5864356\ttotal: 122ms\tremaining: 4.77s\n",
      "25:\tlearn: 0.5832805\ttotal: 125ms\tremaining: 4.67s\n",
      "26:\tlearn: 0.5801552\ttotal: 128ms\tremaining: 4.62s\n",
      "27:\tlearn: 0.5763280\ttotal: 132ms\tremaining: 4.58s\n",
      "28:\tlearn: 0.5732525\ttotal: 136ms\tremaining: 4.55s\n",
      "29:\tlearn: 0.5703488\ttotal: 143ms\tremaining: 4.61s\n",
      "30:\tlearn: 0.5679425\ttotal: 149ms\tremaining: 4.67s\n",
      "31:\tlearn: 0.5649267\ttotal: 157ms\tremaining: 4.75s\n",
      "32:\tlearn: 0.5626243\ttotal: 165ms\tremaining: 4.82s\n",
      "33:\tlearn: 0.5596885\ttotal: 169ms\tremaining: 4.81s\n",
      "34:\tlearn: 0.5566353\ttotal: 176ms\tremaining: 4.84s\n",
      "35:\tlearn: 0.5541502\ttotal: 179ms\tremaining: 4.79s\n",
      "36:\tlearn: 0.5514767\ttotal: 185ms\tremaining: 4.81s\n",
      "37:\tlearn: 0.5490309\ttotal: 188ms\tremaining: 4.76s\n",
      "38:\tlearn: 0.5465467\ttotal: 195ms\tremaining: 4.79s\n",
      "39:\tlearn: 0.5444438\ttotal: 214ms\tremaining: 5.13s\n",
      "40:\tlearn: 0.5415301\ttotal: 253ms\tremaining: 5.93s\n",
      "41:\tlearn: 0.5388335\ttotal: 261ms\tremaining: 5.96s\n",
      "42:\tlearn: 0.5359521\ttotal: 267ms\tremaining: 5.95s\n",
      "43:\tlearn: 0.5339276\ttotal: 272ms\tremaining: 5.92s\n",
      "44:\tlearn: 0.5321549\ttotal: 278ms\tremaining: 5.9s\n",
      "45:\tlearn: 0.5297873\ttotal: 284ms\tremaining: 5.88s\n",
      "46:\tlearn: 0.5273831\ttotal: 288ms\tremaining: 5.84s\n",
      "47:\tlearn: 0.5248409\ttotal: 293ms\tremaining: 5.8s\n",
      "48:\tlearn: 0.5226534\ttotal: 297ms\tremaining: 5.76s\n",
      "49:\tlearn: 0.5207791\ttotal: 304ms\tremaining: 5.78s\n",
      "50:\tlearn: 0.5182078\ttotal: 308ms\tremaining: 5.74s\n",
      "51:\tlearn: 0.5159577\ttotal: 312ms\tremaining: 5.68s\n",
      "52:\tlearn: 0.5134715\ttotal: 318ms\tremaining: 5.68s\n",
      "53:\tlearn: 0.5120428\ttotal: 321ms\tremaining: 5.62s\n",
      "54:\tlearn: 0.5109279\ttotal: 324ms\tremaining: 5.57s\n",
      "55:\tlearn: 0.5090217\ttotal: 328ms\tremaining: 5.53s\n",
      "56:\tlearn: 0.5081618\ttotal: 330ms\tremaining: 5.46s\n",
      "57:\tlearn: 0.5064362\ttotal: 334ms\tremaining: 5.42s\n",
      "58:\tlearn: 0.5051200\ttotal: 336ms\tremaining: 5.36s\n",
      "59:\tlearn: 0.5036467\ttotal: 340ms\tremaining: 5.33s\n",
      "60:\tlearn: 0.5021935\ttotal: 344ms\tremaining: 5.3s\n",
      "61:\tlearn: 0.5002005\ttotal: 348ms\tremaining: 5.27s\n",
      "62:\tlearn: 0.4983787\ttotal: 352ms\tremaining: 5.23s\n",
      "63:\tlearn: 0.4963807\ttotal: 357ms\tremaining: 5.21s\n",
      "64:\tlearn: 0.4951385\ttotal: 361ms\tremaining: 5.19s\n",
      "65:\tlearn: 0.4940053\ttotal: 364ms\tremaining: 5.16s\n",
      "66:\tlearn: 0.4923357\ttotal: 369ms\tremaining: 5.14s\n",
      "67:\tlearn: 0.4914323\ttotal: 372ms\tremaining: 5.1s\n",
      "68:\tlearn: 0.4906293\ttotal: 374ms\tremaining: 5.05s\n",
      "69:\tlearn: 0.4890182\ttotal: 379ms\tremaining: 5.04s\n",
      "70:\tlearn: 0.4873914\ttotal: 384ms\tremaining: 5.02s\n",
      "71:\tlearn: 0.4857040\ttotal: 388ms\tremaining: 4.99s\n",
      "72:\tlearn: 0.4842404\ttotal: 393ms\tremaining: 4.99s\n",
      "73:\tlearn: 0.4836472\ttotal: 394ms\tremaining: 4.93s\n",
      "74:\tlearn: 0.4822840\ttotal: 399ms\tremaining: 4.92s\n",
      "75:\tlearn: 0.4815694\ttotal: 401ms\tremaining: 4.87s\n",
      "76:\tlearn: 0.4810115\ttotal: 402ms\tremaining: 4.82s\n",
      "77:\tlearn: 0.4791629\ttotal: 406ms\tremaining: 4.8s\n",
      "78:\tlearn: 0.4781219\ttotal: 409ms\tremaining: 4.77s\n",
      "79:\tlearn: 0.4764451\ttotal: 414ms\tremaining: 4.76s\n",
      "80:\tlearn: 0.4750129\ttotal: 418ms\tremaining: 4.74s\n",
      "81:\tlearn: 0.4737676\ttotal: 422ms\tremaining: 4.73s\n",
      "82:\tlearn: 0.4728329\ttotal: 425ms\tremaining: 4.7s\n",
      "83:\tlearn: 0.4712265\ttotal: 429ms\tremaining: 4.68s\n",
      "84:\tlearn: 0.4696659\ttotal: 434ms\tremaining: 4.68s\n",
      "85:\tlearn: 0.4686545\ttotal: 437ms\tremaining: 4.65s\n",
      "86:\tlearn: 0.4672984\ttotal: 441ms\tremaining: 4.63s\n",
      "87:\tlearn: 0.4663206\ttotal: 446ms\tremaining: 4.62s\n",
      "88:\tlearn: 0.4648711\ttotal: 450ms\tremaining: 4.61s\n",
      "89:\tlearn: 0.4634597\ttotal: 454ms\tremaining: 4.59s\n",
      "90:\tlearn: 0.4623361\ttotal: 458ms\tremaining: 4.58s\n",
      "91:\tlearn: 0.4614491\ttotal: 462ms\tremaining: 4.56s\n",
      "92:\tlearn: 0.4606231\ttotal: 466ms\tremaining: 4.54s\n",
      "93:\tlearn: 0.4594757\ttotal: 469ms\tremaining: 4.52s\n",
      "94:\tlearn: 0.4587213\ttotal: 472ms\tremaining: 4.49s\n",
      "95:\tlearn: 0.4573870\ttotal: 476ms\tremaining: 4.48s\n",
      "96:\tlearn: 0.4568975\ttotal: 478ms\tremaining: 4.45s\n",
      "97:\tlearn: 0.4559028\ttotal: 482ms\tremaining: 4.43s\n",
      "98:\tlearn: 0.4545982\ttotal: 485ms\tremaining: 4.42s\n",
      "99:\tlearn: 0.4535349\ttotal: 489ms\tremaining: 4.4s\n",
      "100:\tlearn: 0.4525212\ttotal: 493ms\tremaining: 4.39s\n",
      "101:\tlearn: 0.4517391\ttotal: 497ms\tremaining: 4.37s\n",
      "102:\tlearn: 0.4507211\ttotal: 501ms\tremaining: 4.36s\n",
      "103:\tlearn: 0.4500236\ttotal: 505ms\tremaining: 4.35s\n",
      "104:\tlearn: 0.4490070\ttotal: 511ms\tremaining: 4.35s\n",
      "105:\tlearn: 0.4478673\ttotal: 516ms\tremaining: 4.35s\n",
      "106:\tlearn: 0.4468399\ttotal: 520ms\tremaining: 4.34s\n",
      "107:\tlearn: 0.4460819\ttotal: 524ms\tremaining: 4.33s\n",
      "108:\tlearn: 0.4452780\ttotal: 530ms\tremaining: 4.33s\n",
      "109:\tlearn: 0.4443680\ttotal: 535ms\tremaining: 4.33s\n",
      "110:\tlearn: 0.4439497\ttotal: 537ms\tremaining: 4.3s\n",
      "111:\tlearn: 0.4432381\ttotal: 540ms\tremaining: 4.29s\n",
      "112:\tlearn: 0.4422984\ttotal: 545ms\tremaining: 4.28s\n",
      "113:\tlearn: 0.4415023\ttotal: 550ms\tremaining: 4.27s\n",
      "114:\tlearn: 0.4407750\ttotal: 554ms\tremaining: 4.26s\n",
      "115:\tlearn: 0.4399222\ttotal: 557ms\tremaining: 4.25s\n",
      "116:\tlearn: 0.4395799\ttotal: 559ms\tremaining: 4.22s\n",
      "117:\tlearn: 0.4393510\ttotal: 561ms\tremaining: 4.19s\n",
      "118:\tlearn: 0.4386868\ttotal: 565ms\tremaining: 4.18s\n",
      "119:\tlearn: 0.4376553\ttotal: 569ms\tremaining: 4.17s\n",
      "120:\tlearn: 0.4368009\ttotal: 573ms\tremaining: 4.16s\n",
      "121:\tlearn: 0.4361945\ttotal: 576ms\tremaining: 4.15s\n",
      "122:\tlearn: 0.4359883\ttotal: 578ms\tremaining: 4.12s\n",
      "123:\tlearn: 0.4354960\ttotal: 581ms\tremaining: 4.1s\n",
      "124:\tlearn: 0.4353792\ttotal: 583ms\tremaining: 4.08s\n",
      "125:\tlearn: 0.4350272\ttotal: 585ms\tremaining: 4.06s\n",
      "126:\tlearn: 0.4341316\ttotal: 590ms\tremaining: 4.05s\n",
      "127:\tlearn: 0.4331696\ttotal: 593ms\tremaining: 4.04s\n",
      "128:\tlearn: 0.4328429\ttotal: 595ms\tremaining: 4.02s\n",
      "129:\tlearn: 0.4325478\ttotal: 599ms\tremaining: 4.01s\n",
      "130:\tlearn: 0.4320770\ttotal: 603ms\tremaining: 4s\n",
      "131:\tlearn: 0.4315685\ttotal: 608ms\tremaining: 4s\n",
      "132:\tlearn: 0.4307662\ttotal: 611ms\tremaining: 3.98s\n",
      "133:\tlearn: 0.4304899\ttotal: 614ms\tremaining: 3.96s\n",
      "134:\tlearn: 0.4295894\ttotal: 617ms\tremaining: 3.96s\n",
      "135:\tlearn: 0.4291042\ttotal: 622ms\tremaining: 3.95s\n",
      "136:\tlearn: 0.4286399\ttotal: 627ms\tremaining: 3.95s\n",
      "137:\tlearn: 0.4281946\ttotal: 629ms\tremaining: 3.93s\n",
      "138:\tlearn: 0.4279436\ttotal: 631ms\tremaining: 3.91s\n",
      "139:\tlearn: 0.4272062\ttotal: 635ms\tremaining: 3.9s\n",
      "140:\tlearn: 0.4265780\ttotal: 639ms\tremaining: 3.89s\n",
      "141:\tlearn: 0.4261500\ttotal: 643ms\tremaining: 3.88s\n",
      "142:\tlearn: 0.4259200\ttotal: 646ms\tremaining: 3.87s\n",
      "143:\tlearn: 0.4254821\ttotal: 650ms\tremaining: 3.86s\n",
      "144:\tlearn: 0.4248602\ttotal: 654ms\tremaining: 3.85s\n",
      "145:\tlearn: 0.4242959\ttotal: 658ms\tremaining: 3.85s\n",
      "146:\tlearn: 0.4239113\ttotal: 661ms\tremaining: 3.84s\n",
      "147:\tlearn: 0.4233376\ttotal: 665ms\tremaining: 3.83s\n",
      "148:\tlearn: 0.4225224\ttotal: 669ms\tremaining: 3.82s\n",
      "149:\tlearn: 0.4219848\ttotal: 673ms\tremaining: 3.81s\n",
      "150:\tlearn: 0.4215363\ttotal: 678ms\tremaining: 3.81s\n",
      "151:\tlearn: 0.4210918\ttotal: 683ms\tremaining: 3.81s\n",
      "152:\tlearn: 0.4208285\ttotal: 687ms\tremaining: 3.8s\n",
      "153:\tlearn: 0.4203012\ttotal: 691ms\tremaining: 3.79s\n",
      "154:\tlearn: 0.4198867\ttotal: 694ms\tremaining: 3.78s\n",
      "155:\tlearn: 0.4194853\ttotal: 698ms\tremaining: 3.78s\n",
      "156:\tlearn: 0.4190299\ttotal: 702ms\tremaining: 3.77s\n",
      "157:\tlearn: 0.4188125\ttotal: 705ms\tremaining: 3.76s\n",
      "158:\tlearn: 0.4184115\ttotal: 709ms\tremaining: 3.75s\n",
      "159:\tlearn: 0.4181171\ttotal: 714ms\tremaining: 3.75s\n",
      "160:\tlearn: 0.4174516\ttotal: 718ms\tremaining: 3.74s\n",
      "161:\tlearn: 0.4170101\ttotal: 721ms\tremaining: 3.73s\n",
      "162:\tlearn: 0.4166059\ttotal: 727ms\tremaining: 3.73s\n",
      "163:\tlearn: 0.4159750\ttotal: 731ms\tremaining: 3.73s\n",
      "164:\tlearn: 0.4158818\ttotal: 733ms\tremaining: 3.71s\n",
      "165:\tlearn: 0.4155139\ttotal: 738ms\tremaining: 3.71s\n",
      "166:\tlearn: 0.4152730\ttotal: 741ms\tremaining: 3.7s\n",
      "167:\tlearn: 0.4149542\ttotal: 744ms\tremaining: 3.69s\n",
      "168:\tlearn: 0.4143053\ttotal: 748ms\tremaining: 3.68s\n",
      "169:\tlearn: 0.4141626\ttotal: 750ms\tremaining: 3.66s\n",
      "170:\tlearn: 0.4135580\ttotal: 755ms\tremaining: 3.66s\n",
      "171:\tlearn: 0.4130566\ttotal: 759ms\tremaining: 3.65s\n",
      "172:\tlearn: 0.4128165\ttotal: 764ms\tremaining: 3.65s\n",
      "173:\tlearn: 0.4123995\ttotal: 767ms\tremaining: 3.64s\n",
      "174:\tlearn: 0.4123218\ttotal: 769ms\tremaining: 3.63s\n",
      "175:\tlearn: 0.4118365\ttotal: 773ms\tremaining: 3.62s\n",
      "176:\tlearn: 0.4116351\ttotal: 777ms\tremaining: 3.61s\n",
      "177:\tlearn: 0.4115611\ttotal: 778ms\tremaining: 3.59s\n",
      "178:\tlearn: 0.4110508\ttotal: 782ms\tremaining: 3.59s\n",
      "179:\tlearn: 0.4105099\ttotal: 786ms\tremaining: 3.58s\n",
      "180:\tlearn: 0.4103137\ttotal: 790ms\tremaining: 3.58s\n",
      "181:\tlearn: 0.4099748\ttotal: 794ms\tremaining: 3.57s\n",
      "182:\tlearn: 0.4096696\ttotal: 797ms\tremaining: 3.56s\n",
      "183:\tlearn: 0.4093080\ttotal: 801ms\tremaining: 3.55s\n",
      "184:\tlearn: 0.4086352\ttotal: 806ms\tremaining: 3.55s\n",
      "185:\tlearn: 0.4081634\ttotal: 810ms\tremaining: 3.54s\n",
      "186:\tlearn: 0.4077493\ttotal: 814ms\tremaining: 3.54s\n",
      "187:\tlearn: 0.4073630\ttotal: 817ms\tremaining: 3.53s\n",
      "188:\tlearn: 0.4070399\ttotal: 821ms\tremaining: 3.52s\n",
      "189:\tlearn: 0.4067063\ttotal: 825ms\tremaining: 3.52s\n",
      "190:\tlearn: 0.4061651\ttotal: 829ms\tremaining: 3.51s\n",
      "191:\tlearn: 0.4057303\ttotal: 833ms\tremaining: 3.5s\n",
      "192:\tlearn: 0.4054157\ttotal: 836ms\tremaining: 3.5s\n",
      "193:\tlearn: 0.4050998\ttotal: 840ms\tremaining: 3.49s\n",
      "194:\tlearn: 0.4046330\ttotal: 845ms\tremaining: 3.49s\n",
      "195:\tlearn: 0.4042890\ttotal: 851ms\tremaining: 3.49s\n",
      "196:\tlearn: 0.4041694\ttotal: 856ms\tremaining: 3.49s\n",
      "197:\tlearn: 0.4038584\ttotal: 860ms\tremaining: 3.48s\n",
      "198:\tlearn: 0.4036248\ttotal: 864ms\tremaining: 3.48s\n",
      "199:\tlearn: 0.4034041\ttotal: 869ms\tremaining: 3.48s\n",
      "200:\tlearn: 0.4029216\ttotal: 874ms\tremaining: 3.47s\n",
      "201:\tlearn: 0.4026161\ttotal: 878ms\tremaining: 3.47s\n",
      "202:\tlearn: 0.4022777\ttotal: 882ms\tremaining: 3.46s\n",
      "203:\tlearn: 0.4018895\ttotal: 886ms\tremaining: 3.46s\n",
      "204:\tlearn: 0.4015471\ttotal: 891ms\tremaining: 3.45s\n",
      "205:\tlearn: 0.4012671\ttotal: 895ms\tremaining: 3.45s\n",
      "206:\tlearn: 0.4012430\ttotal: 897ms\tremaining: 3.44s\n",
      "207:\tlearn: 0.4008715\ttotal: 901ms\tremaining: 3.43s\n",
      "208:\tlearn: 0.4005194\ttotal: 905ms\tremaining: 3.42s\n",
      "209:\tlearn: 0.4001954\ttotal: 909ms\tremaining: 3.42s\n",
      "210:\tlearn: 0.4000019\ttotal: 912ms\tremaining: 3.41s\n",
      "211:\tlearn: 0.3997270\ttotal: 916ms\tremaining: 3.4s\n",
      "212:\tlearn: 0.3994131\ttotal: 920ms\tremaining: 3.4s\n",
      "213:\tlearn: 0.3992573\ttotal: 923ms\tremaining: 3.39s\n",
      "214:\tlearn: 0.3989224\ttotal: 927ms\tremaining: 3.38s\n",
      "215:\tlearn: 0.3986372\ttotal: 931ms\tremaining: 3.38s\n",
      "216:\tlearn: 0.3983826\ttotal: 935ms\tremaining: 3.37s\n",
      "217:\tlearn: 0.3981598\ttotal: 939ms\tremaining: 3.37s\n",
      "218:\tlearn: 0.3980512\ttotal: 941ms\tremaining: 3.35s\n",
      "219:\tlearn: 0.3979875\ttotal: 943ms\tremaining: 3.34s\n",
      "220:\tlearn: 0.3978048\ttotal: 946ms\tremaining: 3.33s\n",
      "221:\tlearn: 0.3974280\ttotal: 950ms\tremaining: 3.33s\n",
      "222:\tlearn: 0.3971893\ttotal: 955ms\tremaining: 3.33s\n",
      "223:\tlearn: 0.3970050\ttotal: 957ms\tremaining: 3.31s\n",
      "224:\tlearn: 0.3966836\ttotal: 961ms\tremaining: 3.31s\n",
      "225:\tlearn: 0.3962816\ttotal: 965ms\tremaining: 3.31s\n",
      "226:\tlearn: 0.3958726\ttotal: 970ms\tremaining: 3.3s\n",
      "227:\tlearn: 0.3955555\ttotal: 973ms\tremaining: 3.29s\n",
      "228:\tlearn: 0.3953526\ttotal: 977ms\tremaining: 3.29s\n",
      "229:\tlearn: 0.3950595\ttotal: 983ms\tremaining: 3.29s\n",
      "230:\tlearn: 0.3948286\ttotal: 987ms\tremaining: 3.29s\n",
      "231:\tlearn: 0.3943929\ttotal: 991ms\tremaining: 3.28s\n",
      "232:\tlearn: 0.3939464\ttotal: 994ms\tremaining: 3.27s\n",
      "233:\tlearn: 0.3937237\ttotal: 998ms\tremaining: 3.27s\n",
      "234:\tlearn: 0.3936307\ttotal: 1s\tremaining: 3.26s\n",
      "235:\tlearn: 0.3934332\ttotal: 1s\tremaining: 3.25s\n",
      "236:\tlearn: 0.3932992\ttotal: 1.01s\tremaining: 3.25s\n",
      "237:\tlearn: 0.3930628\ttotal: 1.01s\tremaining: 3.24s\n",
      "238:\tlearn: 0.3930162\ttotal: 1.01s\tremaining: 3.23s\n",
      "239:\tlearn: 0.3927670\ttotal: 1.02s\tremaining: 3.23s\n",
      "240:\tlearn: 0.3927134\ttotal: 1.02s\tremaining: 3.22s\n",
      "241:\tlearn: 0.3925457\ttotal: 1.03s\tremaining: 3.21s\n",
      "242:\tlearn: 0.3922679\ttotal: 1.03s\tremaining: 3.21s\n",
      "243:\tlearn: 0.3919471\ttotal: 1.03s\tremaining: 3.2s\n",
      "244:\tlearn: 0.3918028\ttotal: 1.04s\tremaining: 3.19s\n",
      "245:\tlearn: 0.3914055\ttotal: 1.04s\tremaining: 3.19s\n",
      "246:\tlearn: 0.3911378\ttotal: 1.05s\tremaining: 3.2s\n",
      "247:\tlearn: 0.3908997\ttotal: 1.06s\tremaining: 3.21s\n",
      "248:\tlearn: 0.3907149\ttotal: 1.06s\tremaining: 3.2s\n",
      "249:\tlearn: 0.3905120\ttotal: 1.06s\tremaining: 3.2s\n",
      "250:\tlearn: 0.3902785\ttotal: 1.07s\tremaining: 3.2s\n",
      "251:\tlearn: 0.3900511\ttotal: 1.08s\tremaining: 3.2s\n",
      "252:\tlearn: 0.3897373\ttotal: 1.08s\tremaining: 3.19s\n",
      "253:\tlearn: 0.3896454\ttotal: 1.08s\tremaining: 3.19s\n",
      "254:\tlearn: 0.3892499\ttotal: 1.09s\tremaining: 3.19s\n",
      "255:\tlearn: 0.3890571\ttotal: 1.1s\tremaining: 3.19s\n",
      "256:\tlearn: 0.3888406\ttotal: 1.11s\tremaining: 3.21s\n",
      "257:\tlearn: 0.3885975\ttotal: 1.15s\tremaining: 3.29s\n",
      "258:\tlearn: 0.3883300\ttotal: 1.15s\tremaining: 3.29s\n",
      "259:\tlearn: 0.3880289\ttotal: 1.15s\tremaining: 3.28s\n",
      "260:\tlearn: 0.3878281\ttotal: 1.16s\tremaining: 3.28s\n",
      "261:\tlearn: 0.3878112\ttotal: 1.16s\tremaining: 3.27s\n",
      "262:\tlearn: 0.3876296\ttotal: 1.16s\tremaining: 3.26s\n",
      "263:\tlearn: 0.3873979\ttotal: 1.17s\tremaining: 3.26s\n",
      "264:\tlearn: 0.3872972\ttotal: 1.18s\tremaining: 3.26s\n",
      "265:\tlearn: 0.3871805\ttotal: 1.18s\tremaining: 3.25s\n",
      "266:\tlearn: 0.3870339\ttotal: 1.18s\tremaining: 3.25s\n",
      "267:\tlearn: 0.3869101\ttotal: 1.19s\tremaining: 3.24s\n",
      "268:\tlearn: 0.3866803\ttotal: 1.19s\tremaining: 3.24s\n",
      "269:\tlearn: 0.3864020\ttotal: 1.2s\tremaining: 3.24s\n",
      "270:\tlearn: 0.3860957\ttotal: 1.2s\tremaining: 3.23s\n",
      "271:\tlearn: 0.3859444\ttotal: 1.2s\tremaining: 3.22s\n",
      "272:\tlearn: 0.3858213\ttotal: 1.21s\tremaining: 3.22s\n",
      "273:\tlearn: 0.3856884\ttotal: 1.21s\tremaining: 3.21s\n",
      "274:\tlearn: 0.3856058\ttotal: 1.22s\tremaining: 3.21s\n",
      "275:\tlearn: 0.3855063\ttotal: 1.22s\tremaining: 3.2s\n",
      "276:\tlearn: 0.3853558\ttotal: 1.22s\tremaining: 3.19s\n",
      "277:\tlearn: 0.3851212\ttotal: 1.23s\tremaining: 3.19s\n",
      "278:\tlearn: 0.3848991\ttotal: 1.23s\tremaining: 3.18s\n",
      "279:\tlearn: 0.3848790\ttotal: 1.23s\tremaining: 3.17s\n",
      "280:\tlearn: 0.3848356\ttotal: 1.24s\tremaining: 3.16s\n",
      "281:\tlearn: 0.3845425\ttotal: 1.24s\tremaining: 3.15s\n",
      "282:\tlearn: 0.3843757\ttotal: 1.24s\tremaining: 3.15s\n",
      "283:\tlearn: 0.3841189\ttotal: 1.25s\tremaining: 3.14s\n",
      "284:\tlearn: 0.3839118\ttotal: 1.25s\tremaining: 3.14s\n",
      "285:\tlearn: 0.3837381\ttotal: 1.26s\tremaining: 3.14s\n",
      "286:\tlearn: 0.3835926\ttotal: 1.26s\tremaining: 3.13s\n",
      "287:\tlearn: 0.3835372\ttotal: 1.26s\tremaining: 3.12s\n",
      "288:\tlearn: 0.3834318\ttotal: 1.26s\tremaining: 3.11s\n",
      "289:\tlearn: 0.3833078\ttotal: 1.27s\tremaining: 3.11s\n",
      "290:\tlearn: 0.3830926\ttotal: 1.27s\tremaining: 3.1s\n",
      "291:\tlearn: 0.3829201\ttotal: 1.28s\tremaining: 3.1s\n",
      "292:\tlearn: 0.3827536\ttotal: 1.28s\tremaining: 3.09s\n",
      "293:\tlearn: 0.3826232\ttotal: 1.28s\tremaining: 3.09s\n",
      "294:\tlearn: 0.3825569\ttotal: 1.29s\tremaining: 3.08s\n",
      "295:\tlearn: 0.3823508\ttotal: 1.29s\tremaining: 3.07s\n",
      "296:\tlearn: 0.3821225\ttotal: 1.3s\tremaining: 3.07s\n",
      "297:\tlearn: 0.3818839\ttotal: 1.3s\tremaining: 3.06s\n",
      "298:\tlearn: 0.3818390\ttotal: 1.3s\tremaining: 3.05s\n",
      "299:\tlearn: 0.3817102\ttotal: 1.31s\tremaining: 3.05s\n",
      "300:\tlearn: 0.3814642\ttotal: 1.31s\tremaining: 3.04s\n",
      "301:\tlearn: 0.3812753\ttotal: 1.31s\tremaining: 3.04s\n",
      "302:\tlearn: 0.3811065\ttotal: 1.32s\tremaining: 3.03s\n",
      "303:\tlearn: 0.3809572\ttotal: 1.32s\tremaining: 3.03s\n",
      "304:\tlearn: 0.3806824\ttotal: 1.32s\tremaining: 3.02s\n",
      "305:\tlearn: 0.3805442\ttotal: 1.33s\tremaining: 3.02s\n",
      "306:\tlearn: 0.3803545\ttotal: 1.33s\tremaining: 3.01s\n",
      "307:\tlearn: 0.3800637\ttotal: 1.34s\tremaining: 3.01s\n",
      "308:\tlearn: 0.3797308\ttotal: 1.34s\tremaining: 3s\n",
      "309:\tlearn: 0.3795094\ttotal: 1.35s\tremaining: 3s\n",
      "310:\tlearn: 0.3793840\ttotal: 1.35s\tremaining: 2.99s\n",
      "311:\tlearn: 0.3791940\ttotal: 1.35s\tremaining: 2.99s\n",
      "312:\tlearn: 0.3789814\ttotal: 1.36s\tremaining: 2.98s\n",
      "313:\tlearn: 0.3789061\ttotal: 1.36s\tremaining: 2.98s\n",
      "314:\tlearn: 0.3787268\ttotal: 1.37s\tremaining: 2.97s\n",
      "315:\tlearn: 0.3783884\ttotal: 1.37s\tremaining: 2.96s\n",
      "316:\tlearn: 0.3782685\ttotal: 1.38s\tremaining: 2.97s\n",
      "317:\tlearn: 0.3782032\ttotal: 1.38s\tremaining: 2.96s\n",
      "318:\tlearn: 0.3780462\ttotal: 1.39s\tremaining: 2.96s\n",
      "319:\tlearn: 0.3779239\ttotal: 1.39s\tremaining: 2.95s\n",
      "320:\tlearn: 0.3776921\ttotal: 1.4s\tremaining: 2.95s\n",
      "321:\tlearn: 0.3776510\ttotal: 1.4s\tremaining: 2.94s\n",
      "322:\tlearn: 0.3774097\ttotal: 1.4s\tremaining: 2.94s\n",
      "323:\tlearn: 0.3771914\ttotal: 1.41s\tremaining: 2.94s\n",
      "324:\tlearn: 0.3770971\ttotal: 1.41s\tremaining: 2.93s\n",
      "325:\tlearn: 0.3768184\ttotal: 1.41s\tremaining: 2.92s\n",
      "326:\tlearn: 0.3767686\ttotal: 1.42s\tremaining: 2.92s\n",
      "327:\tlearn: 0.3766528\ttotal: 1.42s\tremaining: 2.91s\n",
      "328:\tlearn: 0.3764573\ttotal: 1.42s\tremaining: 2.9s\n",
      "329:\tlearn: 0.3763228\ttotal: 1.43s\tremaining: 2.9s\n",
      "330:\tlearn: 0.3760922\ttotal: 1.43s\tremaining: 2.9s\n",
      "331:\tlearn: 0.3759400\ttotal: 1.44s\tremaining: 2.89s\n",
      "332:\tlearn: 0.3758725\ttotal: 1.44s\tremaining: 2.88s\n",
      "333:\tlearn: 0.3757451\ttotal: 1.44s\tremaining: 2.88s\n",
      "334:\tlearn: 0.3756134\ttotal: 1.45s\tremaining: 2.87s\n",
      "335:\tlearn: 0.3754254\ttotal: 1.45s\tremaining: 2.87s\n",
      "336:\tlearn: 0.3752846\ttotal: 1.46s\tremaining: 2.86s\n",
      "337:\tlearn: 0.3750603\ttotal: 1.46s\tremaining: 2.86s\n",
      "338:\tlearn: 0.3747543\ttotal: 1.46s\tremaining: 2.85s\n",
      "339:\tlearn: 0.3745748\ttotal: 1.47s\tremaining: 2.85s\n",
      "340:\tlearn: 0.3743683\ttotal: 1.47s\tremaining: 2.85s\n",
      "341:\tlearn: 0.3742455\ttotal: 1.48s\tremaining: 2.84s\n",
      "342:\tlearn: 0.3741636\ttotal: 1.48s\tremaining: 2.84s\n",
      "343:\tlearn: 0.3739275\ttotal: 1.49s\tremaining: 2.83s\n",
      "344:\tlearn: 0.3737921\ttotal: 1.49s\tremaining: 2.83s\n",
      "345:\tlearn: 0.3735505\ttotal: 1.5s\tremaining: 2.83s\n",
      "346:\tlearn: 0.3733735\ttotal: 1.5s\tremaining: 2.83s\n",
      "347:\tlearn: 0.3731668\ttotal: 1.51s\tremaining: 2.82s\n",
      "348:\tlearn: 0.3729462\ttotal: 1.51s\tremaining: 2.82s\n",
      "349:\tlearn: 0.3729424\ttotal: 1.51s\tremaining: 2.81s\n",
      "350:\tlearn: 0.3727393\ttotal: 1.52s\tremaining: 2.8s\n",
      "351:\tlearn: 0.3725866\ttotal: 1.52s\tremaining: 2.8s\n",
      "352:\tlearn: 0.3724073\ttotal: 1.52s\tremaining: 2.79s\n",
      "353:\tlearn: 0.3722190\ttotal: 1.53s\tremaining: 2.79s\n",
      "354:\tlearn: 0.3720638\ttotal: 1.53s\tremaining: 2.79s\n",
      "355:\tlearn: 0.3718283\ttotal: 1.54s\tremaining: 2.78s\n",
      "356:\tlearn: 0.3716799\ttotal: 1.54s\tremaining: 2.78s\n",
      "357:\tlearn: 0.3715639\ttotal: 1.55s\tremaining: 2.77s\n",
      "358:\tlearn: 0.3713421\ttotal: 1.55s\tremaining: 2.77s\n",
      "359:\tlearn: 0.3711658\ttotal: 1.55s\tremaining: 2.76s\n",
      "360:\tlearn: 0.3710847\ttotal: 1.56s\tremaining: 2.76s\n",
      "361:\tlearn: 0.3708040\ttotal: 1.56s\tremaining: 2.75s\n",
      "362:\tlearn: 0.3706472\ttotal: 1.57s\tremaining: 2.75s\n",
      "363:\tlearn: 0.3705472\ttotal: 1.57s\tremaining: 2.75s\n",
      "364:\tlearn: 0.3703907\ttotal: 1.58s\tremaining: 2.74s\n",
      "365:\tlearn: 0.3701193\ttotal: 1.58s\tremaining: 2.74s\n",
      "366:\tlearn: 0.3700011\ttotal: 1.58s\tremaining: 2.73s\n",
      "367:\tlearn: 0.3698414\ttotal: 1.59s\tremaining: 2.73s\n",
      "368:\tlearn: 0.3696940\ttotal: 1.59s\tremaining: 2.72s\n",
      "369:\tlearn: 0.3696827\ttotal: 1.6s\tremaining: 2.72s\n",
      "370:\tlearn: 0.3696339\ttotal: 1.6s\tremaining: 2.71s\n",
      "371:\tlearn: 0.3694223\ttotal: 1.6s\tremaining: 2.71s\n",
      "372:\tlearn: 0.3692620\ttotal: 1.61s\tremaining: 2.7s\n",
      "373:\tlearn: 0.3691192\ttotal: 1.61s\tremaining: 2.7s\n",
      "374:\tlearn: 0.3689877\ttotal: 1.61s\tremaining: 2.69s\n",
      "375:\tlearn: 0.3689000\ttotal: 1.62s\tremaining: 2.69s\n",
      "376:\tlearn: 0.3688127\ttotal: 1.62s\tremaining: 2.68s\n",
      "377:\tlearn: 0.3687410\ttotal: 1.63s\tremaining: 2.67s\n",
      "378:\tlearn: 0.3684950\ttotal: 1.63s\tremaining: 2.67s\n",
      "379:\tlearn: 0.3683654\ttotal: 1.63s\tremaining: 2.66s\n",
      "380:\tlearn: 0.3682853\ttotal: 1.64s\tremaining: 2.66s\n",
      "381:\tlearn: 0.3681449\ttotal: 1.64s\tremaining: 2.66s\n",
      "382:\tlearn: 0.3680900\ttotal: 1.65s\tremaining: 2.65s\n",
      "383:\tlearn: 0.3679791\ttotal: 1.65s\tremaining: 2.65s\n",
      "384:\tlearn: 0.3677200\ttotal: 1.65s\tremaining: 2.64s\n",
      "385:\tlearn: 0.3675502\ttotal: 1.66s\tremaining: 2.64s\n",
      "386:\tlearn: 0.3673271\ttotal: 1.66s\tremaining: 2.63s\n",
      "387:\tlearn: 0.3672330\ttotal: 1.67s\tremaining: 2.63s\n",
      "388:\tlearn: 0.3669839\ttotal: 1.67s\tremaining: 2.62s\n",
      "389:\tlearn: 0.3668456\ttotal: 1.67s\tremaining: 2.62s\n",
      "390:\tlearn: 0.3667604\ttotal: 1.68s\tremaining: 2.61s\n",
      "391:\tlearn: 0.3666474\ttotal: 1.68s\tremaining: 2.61s\n",
      "392:\tlearn: 0.3665560\ttotal: 1.69s\tremaining: 2.6s\n",
      "393:\tlearn: 0.3663737\ttotal: 1.69s\tremaining: 2.6s\n",
      "394:\tlearn: 0.3663526\ttotal: 1.69s\tremaining: 2.59s\n",
      "395:\tlearn: 0.3662098\ttotal: 1.7s\tremaining: 2.59s\n",
      "396:\tlearn: 0.3662067\ttotal: 1.7s\tremaining: 2.58s\n",
      "397:\tlearn: 0.3660679\ttotal: 1.7s\tremaining: 2.58s\n",
      "398:\tlearn: 0.3659790\ttotal: 1.71s\tremaining: 2.57s\n",
      "399:\tlearn: 0.3658671\ttotal: 1.71s\tremaining: 2.57s\n",
      "400:\tlearn: 0.3655898\ttotal: 1.71s\tremaining: 2.56s\n",
      "401:\tlearn: 0.3655426\ttotal: 1.72s\tremaining: 2.56s\n",
      "402:\tlearn: 0.3653572\ttotal: 1.72s\tremaining: 2.55s\n",
      "403:\tlearn: 0.3651669\ttotal: 1.73s\tremaining: 2.55s\n",
      "404:\tlearn: 0.3651324\ttotal: 1.73s\tremaining: 2.54s\n",
      "405:\tlearn: 0.3649827\ttotal: 1.74s\tremaining: 2.54s\n",
      "406:\tlearn: 0.3647578\ttotal: 1.74s\tremaining: 2.54s\n",
      "407:\tlearn: 0.3645863\ttotal: 1.74s\tremaining: 2.53s\n",
      "408:\tlearn: 0.3644644\ttotal: 1.75s\tremaining: 2.53s\n",
      "409:\tlearn: 0.3642840\ttotal: 1.75s\tremaining: 2.52s\n",
      "410:\tlearn: 0.3641711\ttotal: 1.77s\tremaining: 2.53s\n",
      "411:\tlearn: 0.3641463\ttotal: 1.77s\tremaining: 2.53s\n",
      "412:\tlearn: 0.3641173\ttotal: 1.77s\tremaining: 2.52s\n",
      "413:\tlearn: 0.3637365\ttotal: 1.78s\tremaining: 2.52s\n",
      "414:\tlearn: 0.3636021\ttotal: 1.79s\tremaining: 2.52s\n",
      "415:\tlearn: 0.3634263\ttotal: 1.79s\tremaining: 2.51s\n",
      "416:\tlearn: 0.3633111\ttotal: 1.79s\tremaining: 2.51s\n",
      "417:\tlearn: 0.3631741\ttotal: 1.8s\tremaining: 2.5s\n",
      "418:\tlearn: 0.3629419\ttotal: 1.8s\tremaining: 2.5s\n",
      "419:\tlearn: 0.3627552\ttotal: 1.81s\tremaining: 2.5s\n",
      "420:\tlearn: 0.3625661\ttotal: 1.81s\tremaining: 2.49s\n",
      "421:\tlearn: 0.3624155\ttotal: 1.82s\tremaining: 2.49s\n",
      "422:\tlearn: 0.3622620\ttotal: 1.82s\tremaining: 2.48s\n",
      "423:\tlearn: 0.3621316\ttotal: 1.82s\tremaining: 2.48s\n",
      "424:\tlearn: 0.3620390\ttotal: 1.83s\tremaining: 2.48s\n",
      "425:\tlearn: 0.3618382\ttotal: 1.83s\tremaining: 2.47s\n",
      "426:\tlearn: 0.3616456\ttotal: 1.84s\tremaining: 2.47s\n",
      "427:\tlearn: 0.3612526\ttotal: 1.84s\tremaining: 2.46s\n",
      "428:\tlearn: 0.3610855\ttotal: 1.84s\tremaining: 2.46s\n",
      "429:\tlearn: 0.3609167\ttotal: 1.85s\tremaining: 2.45s\n",
      "430:\tlearn: 0.3606471\ttotal: 1.85s\tremaining: 2.45s\n",
      "431:\tlearn: 0.3606453\ttotal: 1.85s\tremaining: 2.44s\n",
      "432:\tlearn: 0.3606319\ttotal: 1.86s\tremaining: 2.43s\n",
      "433:\tlearn: 0.3604715\ttotal: 1.86s\tremaining: 2.43s\n",
      "434:\tlearn: 0.3604344\ttotal: 1.87s\tremaining: 2.42s\n",
      "435:\tlearn: 0.3602847\ttotal: 1.87s\tremaining: 2.42s\n",
      "436:\tlearn: 0.3602085\ttotal: 1.88s\tremaining: 2.42s\n",
      "437:\tlearn: 0.3600687\ttotal: 1.88s\tremaining: 2.42s\n",
      "438:\tlearn: 0.3599248\ttotal: 1.89s\tremaining: 2.41s\n",
      "439:\tlearn: 0.3598538\ttotal: 1.89s\tremaining: 2.4s\n",
      "440:\tlearn: 0.3595958\ttotal: 1.89s\tremaining: 2.4s\n",
      "441:\tlearn: 0.3595144\ttotal: 1.9s\tremaining: 2.4s\n",
      "442:\tlearn: 0.3594513\ttotal: 1.9s\tremaining: 2.39s\n",
      "443:\tlearn: 0.3592583\ttotal: 1.91s\tremaining: 2.39s\n",
      "444:\tlearn: 0.3591228\ttotal: 1.91s\tremaining: 2.38s\n",
      "445:\tlearn: 0.3589040\ttotal: 1.92s\tremaining: 2.38s\n",
      "446:\tlearn: 0.3586974\ttotal: 1.92s\tremaining: 2.38s\n",
      "447:\tlearn: 0.3586724\ttotal: 1.93s\tremaining: 2.37s\n",
      "448:\tlearn: 0.3585317\ttotal: 1.93s\tremaining: 2.37s\n",
      "449:\tlearn: 0.3583315\ttotal: 1.94s\tremaining: 2.37s\n",
      "450:\tlearn: 0.3582657\ttotal: 1.94s\tremaining: 2.36s\n",
      "451:\tlearn: 0.3581350\ttotal: 1.94s\tremaining: 2.36s\n",
      "452:\tlearn: 0.3579327\ttotal: 1.95s\tremaining: 2.35s\n",
      "453:\tlearn: 0.3577799\ttotal: 1.97s\tremaining: 2.37s\n",
      "454:\tlearn: 0.3576298\ttotal: 2.01s\tremaining: 2.41s\n",
      "455:\tlearn: 0.3574147\ttotal: 2.02s\tremaining: 2.41s\n",
      "456:\tlearn: 0.3574049\ttotal: 2.05s\tremaining: 2.43s\n",
      "457:\tlearn: 0.3571397\ttotal: 2.06s\tremaining: 2.44s\n",
      "458:\tlearn: 0.3569351\ttotal: 2.07s\tremaining: 2.44s\n",
      "459:\tlearn: 0.3567641\ttotal: 2.07s\tremaining: 2.43s\n",
      "460:\tlearn: 0.3567467\ttotal: 2.07s\tremaining: 2.42s\n",
      "461:\tlearn: 0.3567312\ttotal: 2.08s\tremaining: 2.42s\n",
      "462:\tlearn: 0.3566800\ttotal: 2.08s\tremaining: 2.41s\n",
      "463:\tlearn: 0.3565484\ttotal: 2.08s\tremaining: 2.41s\n",
      "464:\tlearn: 0.3564877\ttotal: 2.09s\tremaining: 2.4s\n",
      "465:\tlearn: 0.3563837\ttotal: 2.09s\tremaining: 2.4s\n",
      "466:\tlearn: 0.3563071\ttotal: 2.1s\tremaining: 2.39s\n",
      "467:\tlearn: 0.3562675\ttotal: 2.1s\tremaining: 2.39s\n",
      "468:\tlearn: 0.3562580\ttotal: 2.1s\tremaining: 2.38s\n",
      "469:\tlearn: 0.3560841\ttotal: 2.11s\tremaining: 2.38s\n",
      "470:\tlearn: 0.3559593\ttotal: 2.11s\tremaining: 2.37s\n",
      "471:\tlearn: 0.3559260\ttotal: 2.11s\tremaining: 2.37s\n",
      "472:\tlearn: 0.3557517\ttotal: 2.12s\tremaining: 2.36s\n",
      "473:\tlearn: 0.3556224\ttotal: 2.12s\tremaining: 2.35s\n",
      "474:\tlearn: 0.3555162\ttotal: 2.13s\tremaining: 2.35s\n",
      "475:\tlearn: 0.3553358\ttotal: 2.13s\tremaining: 2.35s\n",
      "476:\tlearn: 0.3552142\ttotal: 2.14s\tremaining: 2.34s\n",
      "477:\tlearn: 0.3550493\ttotal: 2.14s\tremaining: 2.34s\n",
      "478:\tlearn: 0.3548002\ttotal: 2.15s\tremaining: 2.33s\n",
      "479:\tlearn: 0.3546959\ttotal: 2.15s\tremaining: 2.33s\n",
      "480:\tlearn: 0.3544813\ttotal: 2.17s\tremaining: 2.35s\n",
      "481:\tlearn: 0.3543138\ttotal: 2.18s\tremaining: 2.34s\n",
      "482:\tlearn: 0.3541709\ttotal: 2.19s\tremaining: 2.34s\n",
      "483:\tlearn: 0.3539787\ttotal: 2.19s\tremaining: 2.33s\n",
      "484:\tlearn: 0.3537018\ttotal: 2.19s\tremaining: 2.33s\n",
      "485:\tlearn: 0.3535725\ttotal: 2.2s\tremaining: 2.32s\n",
      "486:\tlearn: 0.3534521\ttotal: 2.2s\tremaining: 2.32s\n",
      "487:\tlearn: 0.3534196\ttotal: 2.2s\tremaining: 2.31s\n",
      "488:\tlearn: 0.3533021\ttotal: 2.21s\tremaining: 2.31s\n",
      "489:\tlearn: 0.3531457\ttotal: 2.21s\tremaining: 2.3s\n",
      "490:\tlearn: 0.3530161\ttotal: 2.21s\tremaining: 2.3s\n",
      "491:\tlearn: 0.3529979\ttotal: 2.22s\tremaining: 2.29s\n",
      "492:\tlearn: 0.3528463\ttotal: 2.22s\tremaining: 2.29s\n",
      "493:\tlearn: 0.3527165\ttotal: 2.23s\tremaining: 2.28s\n",
      "494:\tlearn: 0.3526977\ttotal: 2.23s\tremaining: 2.27s\n",
      "495:\tlearn: 0.3525099\ttotal: 2.23s\tremaining: 2.27s\n",
      "496:\tlearn: 0.3523309\ttotal: 2.24s\tremaining: 2.26s\n",
      "497:\tlearn: 0.3522019\ttotal: 2.24s\tremaining: 2.26s\n",
      "498:\tlearn: 0.3520271\ttotal: 2.24s\tremaining: 2.25s\n",
      "499:\tlearn: 0.3517790\ttotal: 2.25s\tremaining: 2.25s\n",
      "500:\tlearn: 0.3517760\ttotal: 2.25s\tremaining: 2.24s\n",
      "501:\tlearn: 0.3516937\ttotal: 2.25s\tremaining: 2.23s\n",
      "502:\tlearn: 0.3515420\ttotal: 2.26s\tremaining: 2.23s\n",
      "503:\tlearn: 0.3513894\ttotal: 2.26s\tremaining: 2.23s\n",
      "504:\tlearn: 0.3512331\ttotal: 2.27s\tremaining: 2.22s\n",
      "505:\tlearn: 0.3511635\ttotal: 2.27s\tremaining: 2.21s\n",
      "506:\tlearn: 0.3510379\ttotal: 2.27s\tremaining: 2.21s\n",
      "507:\tlearn: 0.3509638\ttotal: 2.28s\tremaining: 2.2s\n",
      "508:\tlearn: 0.3507228\ttotal: 2.28s\tremaining: 2.2s\n",
      "509:\tlearn: 0.3506518\ttotal: 2.28s\tremaining: 2.19s\n",
      "510:\tlearn: 0.3506066\ttotal: 2.29s\tremaining: 2.19s\n",
      "511:\tlearn: 0.3505012\ttotal: 2.29s\tremaining: 2.19s\n",
      "512:\tlearn: 0.3504183\ttotal: 2.3s\tremaining: 2.18s\n",
      "513:\tlearn: 0.3502248\ttotal: 2.3s\tremaining: 2.18s\n",
      "514:\tlearn: 0.3501187\ttotal: 2.31s\tremaining: 2.17s\n",
      "515:\tlearn: 0.3500000\ttotal: 2.31s\tremaining: 2.17s\n",
      "516:\tlearn: 0.3499896\ttotal: 2.31s\tremaining: 2.16s\n",
      "517:\tlearn: 0.3499240\ttotal: 2.32s\tremaining: 2.16s\n",
      "518:\tlearn: 0.3499229\ttotal: 2.32s\tremaining: 2.15s\n",
      "519:\tlearn: 0.3499028\ttotal: 2.32s\tremaining: 2.14s\n",
      "520:\tlearn: 0.3498580\ttotal: 2.33s\tremaining: 2.14s\n",
      "521:\tlearn: 0.3495889\ttotal: 2.33s\tremaining: 2.13s\n",
      "522:\tlearn: 0.3495032\ttotal: 2.33s\tremaining: 2.13s\n",
      "523:\tlearn: 0.3492975\ttotal: 2.34s\tremaining: 2.12s\n",
      "524:\tlearn: 0.3492156\ttotal: 2.34s\tremaining: 2.12s\n",
      "525:\tlearn: 0.3491936\ttotal: 2.35s\tremaining: 2.11s\n",
      "526:\tlearn: 0.3490433\ttotal: 2.35s\tremaining: 2.11s\n",
      "527:\tlearn: 0.3489124\ttotal: 2.35s\tremaining: 2.1s\n",
      "528:\tlearn: 0.3488312\ttotal: 2.36s\tremaining: 2.1s\n",
      "529:\tlearn: 0.3487307\ttotal: 2.37s\tremaining: 2.1s\n",
      "530:\tlearn: 0.3484977\ttotal: 2.37s\tremaining: 2.09s\n",
      "531:\tlearn: 0.3484974\ttotal: 2.37s\tremaining: 2.08s\n",
      "532:\tlearn: 0.3484340\ttotal: 2.37s\tremaining: 2.08s\n",
      "533:\tlearn: 0.3482566\ttotal: 2.38s\tremaining: 2.08s\n",
      "534:\tlearn: 0.3482094\ttotal: 2.38s\tremaining: 2.07s\n",
      "535:\tlearn: 0.3478190\ttotal: 2.38s\tremaining: 2.06s\n",
      "536:\tlearn: 0.3476541\ttotal: 2.39s\tremaining: 2.06s\n",
      "537:\tlearn: 0.3475039\ttotal: 2.39s\tremaining: 2.06s\n",
      "538:\tlearn: 0.3474379\ttotal: 2.4s\tremaining: 2.05s\n",
      "539:\tlearn: 0.3472426\ttotal: 2.4s\tremaining: 2.04s\n",
      "540:\tlearn: 0.3471337\ttotal: 2.4s\tremaining: 2.04s\n",
      "541:\tlearn: 0.3469595\ttotal: 2.41s\tremaining: 2.04s\n",
      "542:\tlearn: 0.3468749\ttotal: 2.41s\tremaining: 2.03s\n",
      "543:\tlearn: 0.3466793\ttotal: 2.42s\tremaining: 2.02s\n",
      "544:\tlearn: 0.3466658\ttotal: 2.42s\tremaining: 2.02s\n",
      "545:\tlearn: 0.3465956\ttotal: 2.42s\tremaining: 2.01s\n",
      "546:\tlearn: 0.3464147\ttotal: 2.42s\tremaining: 2.01s\n",
      "547:\tlearn: 0.3462776\ttotal: 2.43s\tremaining: 2s\n",
      "548:\tlearn: 0.3460724\ttotal: 2.44s\tremaining: 2s\n",
      "549:\tlearn: 0.3458552\ttotal: 2.44s\tremaining: 2s\n",
      "550:\tlearn: 0.3457254\ttotal: 2.44s\tremaining: 1.99s\n",
      "551:\tlearn: 0.3455828\ttotal: 2.45s\tremaining: 1.99s\n",
      "552:\tlearn: 0.3455739\ttotal: 2.45s\tremaining: 1.98s\n",
      "553:\tlearn: 0.3455439\ttotal: 2.45s\tremaining: 1.98s\n",
      "554:\tlearn: 0.3454197\ttotal: 2.46s\tremaining: 1.97s\n",
      "555:\tlearn: 0.3451836\ttotal: 2.46s\tremaining: 1.97s\n",
      "556:\tlearn: 0.3450123\ttotal: 2.47s\tremaining: 1.96s\n",
      "557:\tlearn: 0.3449037\ttotal: 2.48s\tremaining: 1.96s\n",
      "558:\tlearn: 0.3448197\ttotal: 2.48s\tremaining: 1.96s\n",
      "559:\tlearn: 0.3447541\ttotal: 2.48s\tremaining: 1.95s\n",
      "560:\tlearn: 0.3445608\ttotal: 2.49s\tremaining: 1.95s\n",
      "561:\tlearn: 0.3443821\ttotal: 2.49s\tremaining: 1.94s\n",
      "562:\tlearn: 0.3443799\ttotal: 2.5s\tremaining: 1.94s\n",
      "563:\tlearn: 0.3442481\ttotal: 2.5s\tremaining: 1.93s\n",
      "564:\tlearn: 0.3441418\ttotal: 2.5s\tremaining: 1.93s\n",
      "565:\tlearn: 0.3440079\ttotal: 2.51s\tremaining: 1.92s\n",
      "566:\tlearn: 0.3439509\ttotal: 2.51s\tremaining: 1.92s\n",
      "567:\tlearn: 0.3439117\ttotal: 2.52s\tremaining: 1.91s\n",
      "568:\tlearn: 0.3435998\ttotal: 2.52s\tremaining: 1.91s\n",
      "569:\tlearn: 0.3434809\ttotal: 2.52s\tremaining: 1.9s\n",
      "570:\tlearn: 0.3432519\ttotal: 2.53s\tremaining: 1.9s\n",
      "571:\tlearn: 0.3432476\ttotal: 2.53s\tremaining: 1.89s\n",
      "572:\tlearn: 0.3431509\ttotal: 2.53s\tremaining: 1.89s\n",
      "573:\tlearn: 0.3429944\ttotal: 2.54s\tremaining: 1.88s\n",
      "574:\tlearn: 0.3427354\ttotal: 2.54s\tremaining: 1.88s\n",
      "575:\tlearn: 0.3426129\ttotal: 2.54s\tremaining: 1.87s\n",
      "576:\tlearn: 0.3425391\ttotal: 2.55s\tremaining: 1.87s\n",
      "577:\tlearn: 0.3424642\ttotal: 2.55s\tremaining: 1.86s\n",
      "578:\tlearn: 0.3424555\ttotal: 2.56s\tremaining: 1.86s\n",
      "579:\tlearn: 0.3423378\ttotal: 2.56s\tremaining: 1.85s\n",
      "580:\tlearn: 0.3423252\ttotal: 2.56s\tremaining: 1.85s\n",
      "581:\tlearn: 0.3422030\ttotal: 2.57s\tremaining: 1.84s\n",
      "582:\tlearn: 0.3421235\ttotal: 2.57s\tremaining: 1.84s\n",
      "583:\tlearn: 0.3419586\ttotal: 2.58s\tremaining: 1.83s\n",
      "584:\tlearn: 0.3418943\ttotal: 2.58s\tremaining: 1.83s\n",
      "585:\tlearn: 0.3417765\ttotal: 2.58s\tremaining: 1.82s\n",
      "586:\tlearn: 0.3416582\ttotal: 2.59s\tremaining: 1.82s\n",
      "587:\tlearn: 0.3415746\ttotal: 2.59s\tremaining: 1.82s\n",
      "588:\tlearn: 0.3413200\ttotal: 2.6s\tremaining: 1.81s\n",
      "589:\tlearn: 0.3412152\ttotal: 2.6s\tremaining: 1.81s\n",
      "590:\tlearn: 0.3411870\ttotal: 2.6s\tremaining: 1.8s\n",
      "591:\tlearn: 0.3411609\ttotal: 2.61s\tremaining: 1.8s\n",
      "592:\tlearn: 0.3410198\ttotal: 2.61s\tremaining: 1.79s\n",
      "593:\tlearn: 0.3409349\ttotal: 2.61s\tremaining: 1.79s\n",
      "594:\tlearn: 0.3408166\ttotal: 2.62s\tremaining: 1.78s\n",
      "595:\tlearn: 0.3406868\ttotal: 2.63s\tremaining: 1.78s\n",
      "596:\tlearn: 0.3406732\ttotal: 2.63s\tremaining: 1.77s\n",
      "597:\tlearn: 0.3405194\ttotal: 2.63s\tremaining: 1.77s\n",
      "598:\tlearn: 0.3403316\ttotal: 2.63s\tremaining: 1.76s\n",
      "599:\tlearn: 0.3401756\ttotal: 2.64s\tremaining: 1.76s\n",
      "600:\tlearn: 0.3401347\ttotal: 2.64s\tremaining: 1.75s\n",
      "601:\tlearn: 0.3400311\ttotal: 2.65s\tremaining: 1.75s\n",
      "602:\tlearn: 0.3399720\ttotal: 2.65s\tremaining: 1.75s\n",
      "603:\tlearn: 0.3398098\ttotal: 2.65s\tremaining: 1.74s\n",
      "604:\tlearn: 0.3397409\ttotal: 2.66s\tremaining: 1.74s\n",
      "605:\tlearn: 0.3395997\ttotal: 2.66s\tremaining: 1.73s\n",
      "606:\tlearn: 0.3394268\ttotal: 2.67s\tremaining: 1.73s\n",
      "607:\tlearn: 0.3392876\ttotal: 2.67s\tremaining: 1.72s\n",
      "608:\tlearn: 0.3392787\ttotal: 2.67s\tremaining: 1.72s\n",
      "609:\tlearn: 0.3390879\ttotal: 2.68s\tremaining: 1.71s\n",
      "610:\tlearn: 0.3389512\ttotal: 2.68s\tremaining: 1.71s\n",
      "611:\tlearn: 0.3388134\ttotal: 2.69s\tremaining: 1.7s\n",
      "612:\tlearn: 0.3387399\ttotal: 2.69s\tremaining: 1.7s\n",
      "613:\tlearn: 0.3386330\ttotal: 2.69s\tremaining: 1.69s\n",
      "614:\tlearn: 0.3384890\ttotal: 2.7s\tremaining: 1.69s\n",
      "615:\tlearn: 0.3382618\ttotal: 2.7s\tremaining: 1.69s\n",
      "616:\tlearn: 0.3381188\ttotal: 2.71s\tremaining: 1.68s\n",
      "617:\tlearn: 0.3380698\ttotal: 2.71s\tremaining: 1.68s\n",
      "618:\tlearn: 0.3380527\ttotal: 2.71s\tremaining: 1.67s\n",
      "619:\tlearn: 0.3380459\ttotal: 2.71s\tremaining: 1.66s\n",
      "620:\tlearn: 0.3378974\ttotal: 2.72s\tremaining: 1.66s\n",
      "621:\tlearn: 0.3377462\ttotal: 2.72s\tremaining: 1.65s\n",
      "622:\tlearn: 0.3376725\ttotal: 2.73s\tremaining: 1.65s\n",
      "623:\tlearn: 0.3375779\ttotal: 2.73s\tremaining: 1.65s\n",
      "624:\tlearn: 0.3373958\ttotal: 2.73s\tremaining: 1.64s\n",
      "625:\tlearn: 0.3373063\ttotal: 2.74s\tremaining: 1.64s\n",
      "626:\tlearn: 0.3372277\ttotal: 2.74s\tremaining: 1.63s\n",
      "627:\tlearn: 0.3371273\ttotal: 2.75s\tremaining: 1.63s\n",
      "628:\tlearn: 0.3370060\ttotal: 2.75s\tremaining: 1.62s\n",
      "629:\tlearn: 0.3368946\ttotal: 2.75s\tremaining: 1.62s\n",
      "630:\tlearn: 0.3366661\ttotal: 2.76s\tremaining: 1.61s\n",
      "631:\tlearn: 0.3364015\ttotal: 2.76s\tremaining: 1.61s\n",
      "632:\tlearn: 0.3362640\ttotal: 2.77s\tremaining: 1.6s\n",
      "633:\tlearn: 0.3361104\ttotal: 2.77s\tremaining: 1.6s\n",
      "634:\tlearn: 0.3360049\ttotal: 2.77s\tremaining: 1.59s\n",
      "635:\tlearn: 0.3359442\ttotal: 2.78s\tremaining: 1.59s\n",
      "636:\tlearn: 0.3358060\ttotal: 2.78s\tremaining: 1.58s\n",
      "637:\tlearn: 0.3357059\ttotal: 2.78s\tremaining: 1.58s\n",
      "638:\tlearn: 0.3355841\ttotal: 2.79s\tremaining: 1.57s\n",
      "639:\tlearn: 0.3354779\ttotal: 2.79s\tremaining: 1.57s\n",
      "640:\tlearn: 0.3354070\ttotal: 2.79s\tremaining: 1.56s\n",
      "641:\tlearn: 0.3353300\ttotal: 2.8s\tremaining: 1.56s\n",
      "642:\tlearn: 0.3352350\ttotal: 2.8s\tremaining: 1.56s\n",
      "643:\tlearn: 0.3351026\ttotal: 2.81s\tremaining: 1.55s\n",
      "644:\tlearn: 0.3350079\ttotal: 2.81s\tremaining: 1.55s\n",
      "645:\tlearn: 0.3349504\ttotal: 2.81s\tremaining: 1.54s\n",
      "646:\tlearn: 0.3349183\ttotal: 2.82s\tremaining: 1.54s\n",
      "647:\tlearn: 0.3348526\ttotal: 2.82s\tremaining: 1.53s\n",
      "648:\tlearn: 0.3347191\ttotal: 2.83s\tremaining: 1.53s\n",
      "649:\tlearn: 0.3345245\ttotal: 2.83s\tremaining: 1.52s\n",
      "650:\tlearn: 0.3344390\ttotal: 2.83s\tremaining: 1.52s\n",
      "651:\tlearn: 0.3343041\ttotal: 2.84s\tremaining: 1.51s\n",
      "652:\tlearn: 0.3341688\ttotal: 2.84s\tremaining: 1.51s\n",
      "653:\tlearn: 0.3341568\ttotal: 2.84s\tremaining: 1.5s\n",
      "654:\tlearn: 0.3340182\ttotal: 2.85s\tremaining: 1.5s\n",
      "655:\tlearn: 0.3339018\ttotal: 2.85s\tremaining: 1.49s\n",
      "656:\tlearn: 0.3336547\ttotal: 2.85s\tremaining: 1.49s\n",
      "657:\tlearn: 0.3335628\ttotal: 2.88s\tremaining: 1.5s\n",
      "658:\tlearn: 0.3334962\ttotal: 2.89s\tremaining: 1.49s\n",
      "659:\tlearn: 0.3332957\ttotal: 2.89s\tremaining: 1.49s\n",
      "660:\tlearn: 0.3330037\ttotal: 2.9s\tremaining: 1.49s\n",
      "661:\tlearn: 0.3328705\ttotal: 2.9s\tremaining: 1.48s\n",
      "662:\tlearn: 0.3326029\ttotal: 2.92s\tremaining: 1.48s\n",
      "663:\tlearn: 0.3324489\ttotal: 2.93s\tremaining: 1.48s\n",
      "664:\tlearn: 0.3323114\ttotal: 2.93s\tremaining: 1.48s\n",
      "665:\tlearn: 0.3321918\ttotal: 2.94s\tremaining: 1.47s\n",
      "666:\tlearn: 0.3321690\ttotal: 2.94s\tremaining: 1.47s\n",
      "667:\tlearn: 0.3320096\ttotal: 2.94s\tremaining: 1.46s\n",
      "668:\tlearn: 0.3319268\ttotal: 2.95s\tremaining: 1.46s\n",
      "669:\tlearn: 0.3317980\ttotal: 2.95s\tremaining: 1.45s\n",
      "670:\tlearn: 0.3315982\ttotal: 2.96s\tremaining: 1.45s\n",
      "671:\tlearn: 0.3315519\ttotal: 2.96s\tremaining: 1.45s\n",
      "672:\tlearn: 0.3314721\ttotal: 2.97s\tremaining: 1.44s\n",
      "673:\tlearn: 0.3312124\ttotal: 2.97s\tremaining: 1.44s\n",
      "674:\tlearn: 0.3311568\ttotal: 2.98s\tremaining: 1.43s\n",
      "675:\tlearn: 0.3310780\ttotal: 2.98s\tremaining: 1.43s\n",
      "676:\tlearn: 0.3309004\ttotal: 2.99s\tremaining: 1.43s\n",
      "677:\tlearn: 0.3307946\ttotal: 2.99s\tremaining: 1.42s\n",
      "678:\tlearn: 0.3306051\ttotal: 3s\tremaining: 1.42s\n",
      "679:\tlearn: 0.3304896\ttotal: 3s\tremaining: 1.41s\n",
      "680:\tlearn: 0.3304085\ttotal: 3.01s\tremaining: 1.41s\n",
      "681:\tlearn: 0.3303018\ttotal: 3.01s\tremaining: 1.4s\n",
      "682:\tlearn: 0.3302275\ttotal: 3.02s\tremaining: 1.4s\n",
      "683:\tlearn: 0.3302218\ttotal: 3.02s\tremaining: 1.39s\n",
      "684:\tlearn: 0.3301027\ttotal: 3.02s\tremaining: 1.39s\n",
      "685:\tlearn: 0.3299559\ttotal: 3.03s\tremaining: 1.39s\n",
      "686:\tlearn: 0.3298913\ttotal: 3.03s\tremaining: 1.38s\n",
      "687:\tlearn: 0.3297876\ttotal: 3.04s\tremaining: 1.38s\n",
      "688:\tlearn: 0.3296510\ttotal: 3.04s\tremaining: 1.37s\n",
      "689:\tlearn: 0.3296089\ttotal: 3.05s\tremaining: 1.37s\n",
      "690:\tlearn: 0.3294888\ttotal: 3.05s\tremaining: 1.36s\n",
      "691:\tlearn: 0.3294413\ttotal: 3.05s\tremaining: 1.36s\n",
      "692:\tlearn: 0.3293632\ttotal: 3.06s\tremaining: 1.35s\n",
      "693:\tlearn: 0.3292252\ttotal: 3.06s\tremaining: 1.35s\n",
      "694:\tlearn: 0.3291084\ttotal: 3.06s\tremaining: 1.34s\n",
      "695:\tlearn: 0.3290910\ttotal: 3.07s\tremaining: 1.34s\n",
      "696:\tlearn: 0.3288641\ttotal: 3.07s\tremaining: 1.33s\n",
      "697:\tlearn: 0.3287316\ttotal: 3.08s\tremaining: 1.33s\n",
      "698:\tlearn: 0.3286783\ttotal: 3.08s\tremaining: 1.33s\n",
      "699:\tlearn: 0.3286617\ttotal: 3.08s\tremaining: 1.32s\n",
      "700:\tlearn: 0.3285976\ttotal: 3.08s\tremaining: 1.32s\n",
      "701:\tlearn: 0.3284663\ttotal: 3.09s\tremaining: 1.31s\n",
      "702:\tlearn: 0.3283948\ttotal: 3.09s\tremaining: 1.31s\n",
      "703:\tlearn: 0.3282118\ttotal: 3.1s\tremaining: 1.3s\n",
      "704:\tlearn: 0.3281118\ttotal: 3.1s\tremaining: 1.3s\n",
      "705:\tlearn: 0.3280408\ttotal: 3.1s\tremaining: 1.29s\n",
      "706:\tlearn: 0.3279574\ttotal: 3.11s\tremaining: 1.29s\n",
      "707:\tlearn: 0.3279270\ttotal: 3.11s\tremaining: 1.28s\n",
      "708:\tlearn: 0.3277830\ttotal: 3.12s\tremaining: 1.28s\n",
      "709:\tlearn: 0.3276654\ttotal: 3.12s\tremaining: 1.27s\n",
      "710:\tlearn: 0.3275535\ttotal: 3.12s\tremaining: 1.27s\n",
      "711:\tlearn: 0.3274847\ttotal: 3.13s\tremaining: 1.26s\n",
      "712:\tlearn: 0.3273898\ttotal: 3.13s\tremaining: 1.26s\n",
      "713:\tlearn: 0.3271981\ttotal: 3.14s\tremaining: 1.26s\n",
      "714:\tlearn: 0.3271162\ttotal: 3.14s\tremaining: 1.25s\n",
      "715:\tlearn: 0.3270584\ttotal: 3.14s\tremaining: 1.25s\n",
      "716:\tlearn: 0.3270013\ttotal: 3.15s\tremaining: 1.24s\n",
      "717:\tlearn: 0.3269400\ttotal: 3.15s\tremaining: 1.24s\n",
      "718:\tlearn: 0.3268469\ttotal: 3.15s\tremaining: 1.23s\n",
      "719:\tlearn: 0.3267517\ttotal: 3.16s\tremaining: 1.23s\n",
      "720:\tlearn: 0.3266620\ttotal: 3.16s\tremaining: 1.22s\n",
      "721:\tlearn: 0.3266525\ttotal: 3.17s\tremaining: 1.22s\n",
      "722:\tlearn: 0.3265577\ttotal: 3.17s\tremaining: 1.21s\n",
      "723:\tlearn: 0.3264960\ttotal: 3.17s\tremaining: 1.21s\n",
      "724:\tlearn: 0.3264140\ttotal: 3.18s\tremaining: 1.21s\n",
      "725:\tlearn: 0.3263149\ttotal: 3.18s\tremaining: 1.2s\n",
      "726:\tlearn: 0.3259963\ttotal: 3.19s\tremaining: 1.2s\n",
      "727:\tlearn: 0.3258631\ttotal: 3.19s\tremaining: 1.19s\n",
      "728:\tlearn: 0.3257727\ttotal: 3.19s\tremaining: 1.19s\n",
      "729:\tlearn: 0.3257140\ttotal: 3.22s\tremaining: 1.19s\n",
      "730:\tlearn: 0.3255602\ttotal: 3.22s\tremaining: 1.19s\n",
      "731:\tlearn: 0.3254634\ttotal: 3.23s\tremaining: 1.18s\n",
      "732:\tlearn: 0.3253166\ttotal: 3.23s\tremaining: 1.18s\n",
      "733:\tlearn: 0.3253123\ttotal: 3.23s\tremaining: 1.17s\n",
      "734:\tlearn: 0.3251922\ttotal: 3.24s\tremaining: 1.17s\n",
      "735:\tlearn: 0.3251107\ttotal: 3.24s\tremaining: 1.16s\n",
      "736:\tlearn: 0.3250004\ttotal: 3.25s\tremaining: 1.16s\n",
      "737:\tlearn: 0.3249537\ttotal: 3.25s\tremaining: 1.15s\n",
      "738:\tlearn: 0.3249141\ttotal: 3.25s\tremaining: 1.15s\n",
      "739:\tlearn: 0.3248066\ttotal: 3.25s\tremaining: 1.14s\n",
      "740:\tlearn: 0.3246682\ttotal: 3.26s\tremaining: 1.14s\n",
      "741:\tlearn: 0.3245531\ttotal: 3.26s\tremaining: 1.14s\n",
      "742:\tlearn: 0.3244375\ttotal: 3.27s\tremaining: 1.13s\n",
      "743:\tlearn: 0.3243413\ttotal: 3.27s\tremaining: 1.13s\n",
      "744:\tlearn: 0.3242337\ttotal: 3.28s\tremaining: 1.12s\n",
      "745:\tlearn: 0.3241041\ttotal: 3.28s\tremaining: 1.12s\n",
      "746:\tlearn: 0.3240572\ttotal: 3.29s\tremaining: 1.11s\n",
      "747:\tlearn: 0.3239689\ttotal: 3.29s\tremaining: 1.11s\n",
      "748:\tlearn: 0.3239627\ttotal: 3.29s\tremaining: 1.1s\n",
      "749:\tlearn: 0.3239543\ttotal: 3.3s\tremaining: 1.1s\n",
      "750:\tlearn: 0.3238194\ttotal: 3.3s\tremaining: 1.09s\n",
      "751:\tlearn: 0.3236414\ttotal: 3.31s\tremaining: 1.09s\n",
      "752:\tlearn: 0.3235516\ttotal: 3.31s\tremaining: 1.09s\n",
      "753:\tlearn: 0.3234284\ttotal: 3.32s\tremaining: 1.08s\n",
      "754:\tlearn: 0.3233156\ttotal: 3.32s\tremaining: 1.08s\n",
      "755:\tlearn: 0.3232016\ttotal: 3.32s\tremaining: 1.07s\n",
      "756:\tlearn: 0.3231563\ttotal: 3.33s\tremaining: 1.07s\n",
      "757:\tlearn: 0.3230596\ttotal: 3.33s\tremaining: 1.06s\n",
      "758:\tlearn: 0.3230343\ttotal: 3.34s\tremaining: 1.06s\n",
      "759:\tlearn: 0.3229737\ttotal: 3.34s\tremaining: 1.05s\n",
      "760:\tlearn: 0.3228322\ttotal: 3.35s\tremaining: 1.05s\n",
      "761:\tlearn: 0.3227590\ttotal: 3.35s\tremaining: 1.05s\n",
      "762:\tlearn: 0.3226918\ttotal: 3.35s\tremaining: 1.04s\n",
      "763:\tlearn: 0.3226503\ttotal: 3.36s\tremaining: 1.04s\n",
      "764:\tlearn: 0.3225100\ttotal: 3.36s\tremaining: 1.03s\n",
      "765:\tlearn: 0.3224513\ttotal: 3.36s\tremaining: 1.03s\n",
      "766:\tlearn: 0.3223879\ttotal: 3.37s\tremaining: 1.02s\n",
      "767:\tlearn: 0.3222902\ttotal: 3.37s\tremaining: 1.02s\n",
      "768:\tlearn: 0.3221823\ttotal: 3.38s\tremaining: 1.01s\n",
      "769:\tlearn: 0.3220436\ttotal: 3.38s\tremaining: 1.01s\n",
      "770:\tlearn: 0.3220397\ttotal: 3.38s\tremaining: 1s\n",
      "771:\tlearn: 0.3218041\ttotal: 3.39s\tremaining: 1s\n",
      "772:\tlearn: 0.3216769\ttotal: 3.39s\tremaining: 996ms\n",
      "773:\tlearn: 0.3215981\ttotal: 3.4s\tremaining: 992ms\n",
      "774:\tlearn: 0.3214348\ttotal: 3.4s\tremaining: 987ms\n",
      "775:\tlearn: 0.3213699\ttotal: 3.4s\tremaining: 983ms\n",
      "776:\tlearn: 0.3213460\ttotal: 3.41s\tremaining: 978ms\n",
      "777:\tlearn: 0.3213405\ttotal: 3.41s\tremaining: 973ms\n",
      "778:\tlearn: 0.3212394\ttotal: 3.41s\tremaining: 969ms\n",
      "779:\tlearn: 0.3211427\ttotal: 3.42s\tremaining: 964ms\n",
      "780:\tlearn: 0.3210598\ttotal: 3.42s\tremaining: 960ms\n",
      "781:\tlearn: 0.3209906\ttotal: 3.43s\tremaining: 955ms\n",
      "782:\tlearn: 0.3208744\ttotal: 3.43s\tremaining: 951ms\n",
      "783:\tlearn: 0.3208031\ttotal: 3.44s\tremaining: 946ms\n",
      "784:\tlearn: 0.3207827\ttotal: 3.44s\tremaining: 942ms\n",
      "785:\tlearn: 0.3206975\ttotal: 3.44s\tremaining: 937ms\n",
      "786:\tlearn: 0.3205796\ttotal: 3.44s\tremaining: 932ms\n",
      "787:\tlearn: 0.3205561\ttotal: 3.45s\tremaining: 928ms\n",
      "788:\tlearn: 0.3204893\ttotal: 3.45s\tremaining: 923ms\n",
      "789:\tlearn: 0.3203442\ttotal: 3.46s\tremaining: 919ms\n",
      "790:\tlearn: 0.3202241\ttotal: 3.46s\tremaining: 914ms\n",
      "791:\tlearn: 0.3201674\ttotal: 3.46s\tremaining: 910ms\n",
      "792:\tlearn: 0.3199595\ttotal: 3.47s\tremaining: 905ms\n",
      "793:\tlearn: 0.3198380\ttotal: 3.47s\tremaining: 901ms\n",
      "794:\tlearn: 0.3196541\ttotal: 3.48s\tremaining: 896ms\n",
      "795:\tlearn: 0.3195228\ttotal: 3.48s\tremaining: 892ms\n",
      "796:\tlearn: 0.3194154\ttotal: 3.48s\tremaining: 887ms\n",
      "797:\tlearn: 0.3192781\ttotal: 3.49s\tremaining: 883ms\n",
      "798:\tlearn: 0.3191940\ttotal: 3.49s\tremaining: 879ms\n",
      "799:\tlearn: 0.3190912\ttotal: 3.5s\tremaining: 875ms\n",
      "800:\tlearn: 0.3189976\ttotal: 3.5s\tremaining: 870ms\n",
      "801:\tlearn: 0.3188911\ttotal: 3.51s\tremaining: 866ms\n",
      "802:\tlearn: 0.3187829\ttotal: 3.51s\tremaining: 861ms\n",
      "803:\tlearn: 0.3187126\ttotal: 3.52s\tremaining: 857ms\n",
      "804:\tlearn: 0.3186332\ttotal: 3.52s\tremaining: 852ms\n",
      "805:\tlearn: 0.3185533\ttotal: 3.52s\tremaining: 848ms\n",
      "806:\tlearn: 0.3184269\ttotal: 3.53s\tremaining: 843ms\n",
      "807:\tlearn: 0.3183726\ttotal: 3.53s\tremaining: 839ms\n",
      "808:\tlearn: 0.3183200\ttotal: 3.54s\tremaining: 835ms\n",
      "809:\tlearn: 0.3182553\ttotal: 3.54s\tremaining: 830ms\n",
      "810:\tlearn: 0.3181962\ttotal: 3.54s\tremaining: 826ms\n",
      "811:\tlearn: 0.3181043\ttotal: 3.55s\tremaining: 822ms\n",
      "812:\tlearn: 0.3179964\ttotal: 3.55s\tremaining: 817ms\n",
      "813:\tlearn: 0.3179336\ttotal: 3.56s\tremaining: 813ms\n",
      "814:\tlearn: 0.3178607\ttotal: 3.56s\tremaining: 808ms\n",
      "815:\tlearn: 0.3177939\ttotal: 3.57s\tremaining: 804ms\n",
      "816:\tlearn: 0.3176640\ttotal: 3.57s\tremaining: 800ms\n",
      "817:\tlearn: 0.3175462\ttotal: 3.58s\tremaining: 796ms\n",
      "818:\tlearn: 0.3174790\ttotal: 3.58s\tremaining: 791ms\n",
      "819:\tlearn: 0.3172156\ttotal: 3.58s\tremaining: 787ms\n",
      "820:\tlearn: 0.3171066\ttotal: 3.59s\tremaining: 782ms\n",
      "821:\tlearn: 0.3168955\ttotal: 3.59s\tremaining: 778ms\n",
      "822:\tlearn: 0.3168358\ttotal: 3.6s\tremaining: 774ms\n",
      "823:\tlearn: 0.3167193\ttotal: 3.6s\tremaining: 769ms\n",
      "824:\tlearn: 0.3165412\ttotal: 3.61s\tremaining: 765ms\n",
      "825:\tlearn: 0.3163593\ttotal: 3.61s\tremaining: 761ms\n",
      "826:\tlearn: 0.3163001\ttotal: 3.62s\tremaining: 756ms\n",
      "827:\tlearn: 0.3160793\ttotal: 3.62s\tremaining: 752ms\n",
      "828:\tlearn: 0.3160462\ttotal: 3.62s\tremaining: 747ms\n",
      "829:\tlearn: 0.3159018\ttotal: 3.63s\tremaining: 743ms\n",
      "830:\tlearn: 0.3157490\ttotal: 3.63s\tremaining: 739ms\n",
      "831:\tlearn: 0.3155138\ttotal: 3.64s\tremaining: 734ms\n",
      "832:\tlearn: 0.3153126\ttotal: 3.64s\tremaining: 730ms\n",
      "833:\tlearn: 0.3151738\ttotal: 3.65s\tremaining: 726ms\n",
      "834:\tlearn: 0.3150736\ttotal: 3.65s\tremaining: 721ms\n",
      "835:\tlearn: 0.3148803\ttotal: 3.65s\tremaining: 717ms\n",
      "836:\tlearn: 0.3148352\ttotal: 3.66s\tremaining: 712ms\n",
      "837:\tlearn: 0.3147882\ttotal: 3.66s\tremaining: 707ms\n",
      "838:\tlearn: 0.3146667\ttotal: 3.66s\tremaining: 703ms\n",
      "839:\tlearn: 0.3145961\ttotal: 3.67s\tremaining: 698ms\n",
      "840:\tlearn: 0.3145298\ttotal: 3.67s\tremaining: 694ms\n",
      "841:\tlearn: 0.3144238\ttotal: 3.68s\tremaining: 690ms\n",
      "842:\tlearn: 0.3143178\ttotal: 3.68s\tremaining: 685ms\n",
      "843:\tlearn: 0.3142578\ttotal: 3.68s\tremaining: 681ms\n",
      "844:\tlearn: 0.3142048\ttotal: 3.69s\tremaining: 677ms\n",
      "845:\tlearn: 0.3141504\ttotal: 3.69s\tremaining: 672ms\n",
      "846:\tlearn: 0.3141089\ttotal: 3.7s\tremaining: 668ms\n",
      "847:\tlearn: 0.3140008\ttotal: 3.7s\tremaining: 663ms\n",
      "848:\tlearn: 0.3139025\ttotal: 3.7s\tremaining: 659ms\n",
      "849:\tlearn: 0.3138066\ttotal: 3.71s\tremaining: 655ms\n",
      "850:\tlearn: 0.3137430\ttotal: 3.71s\tremaining: 650ms\n",
      "851:\tlearn: 0.3135971\ttotal: 3.72s\tremaining: 646ms\n",
      "852:\tlearn: 0.3134525\ttotal: 3.72s\tremaining: 641ms\n",
      "853:\tlearn: 0.3133773\ttotal: 3.73s\tremaining: 637ms\n",
      "854:\tlearn: 0.3133292\ttotal: 3.73s\tremaining: 633ms\n",
      "855:\tlearn: 0.3132104\ttotal: 3.73s\tremaining: 628ms\n",
      "856:\tlearn: 0.3131253\ttotal: 3.74s\tremaining: 624ms\n",
      "857:\tlearn: 0.3130646\ttotal: 3.74s\tremaining: 619ms\n",
      "858:\tlearn: 0.3129418\ttotal: 3.75s\tremaining: 615ms\n",
      "859:\tlearn: 0.3128681\ttotal: 3.75s\tremaining: 611ms\n",
      "860:\tlearn: 0.3127679\ttotal: 3.76s\tremaining: 606ms\n",
      "861:\tlearn: 0.3126106\ttotal: 3.76s\tremaining: 602ms\n",
      "862:\tlearn: 0.3124549\ttotal: 3.77s\tremaining: 598ms\n",
      "863:\tlearn: 0.3122631\ttotal: 3.78s\tremaining: 595ms\n",
      "864:\tlearn: 0.3121920\ttotal: 3.79s\tremaining: 592ms\n",
      "865:\tlearn: 0.3121118\ttotal: 3.79s\tremaining: 587ms\n",
      "866:\tlearn: 0.3120514\ttotal: 3.8s\tremaining: 583ms\n",
      "867:\tlearn: 0.3119469\ttotal: 3.81s\tremaining: 579ms\n",
      "868:\tlearn: 0.3118476\ttotal: 3.81s\tremaining: 574ms\n",
      "869:\tlearn: 0.3117205\ttotal: 3.82s\tremaining: 571ms\n",
      "870:\tlearn: 0.3116779\ttotal: 3.82s\tremaining: 566ms\n",
      "871:\tlearn: 0.3116683\ttotal: 3.83s\tremaining: 562ms\n",
      "872:\tlearn: 0.3115432\ttotal: 3.83s\tremaining: 558ms\n",
      "873:\tlearn: 0.3114046\ttotal: 3.84s\tremaining: 553ms\n",
      "874:\tlearn: 0.3113322\ttotal: 3.84s\tremaining: 549ms\n",
      "875:\tlearn: 0.3112323\ttotal: 3.84s\tremaining: 544ms\n",
      "876:\tlearn: 0.3111425\ttotal: 3.85s\tremaining: 540ms\n",
      "877:\tlearn: 0.3110852\ttotal: 3.85s\tremaining: 535ms\n",
      "878:\tlearn: 0.3109553\ttotal: 3.86s\tremaining: 531ms\n",
      "879:\tlearn: 0.3108052\ttotal: 3.86s\tremaining: 527ms\n",
      "880:\tlearn: 0.3106710\ttotal: 3.87s\tremaining: 522ms\n",
      "881:\tlearn: 0.3106299\ttotal: 3.87s\tremaining: 518ms\n",
      "882:\tlearn: 0.3105563\ttotal: 3.88s\tremaining: 514ms\n",
      "883:\tlearn: 0.3104897\ttotal: 3.89s\tremaining: 510ms\n",
      "884:\tlearn: 0.3103236\ttotal: 3.9s\tremaining: 506ms\n",
      "885:\tlearn: 0.3102774\ttotal: 3.9s\tremaining: 502ms\n",
      "886:\tlearn: 0.3101652\ttotal: 3.9s\tremaining: 498ms\n",
      "887:\tlearn: 0.3100951\ttotal: 3.91s\tremaining: 493ms\n",
      "888:\tlearn: 0.3100497\ttotal: 3.91s\tremaining: 489ms\n",
      "889:\tlearn: 0.3099989\ttotal: 3.92s\tremaining: 484ms\n",
      "890:\tlearn: 0.3097794\ttotal: 3.92s\tremaining: 480ms\n",
      "891:\tlearn: 0.3095400\ttotal: 3.93s\tremaining: 476ms\n",
      "892:\tlearn: 0.3094016\ttotal: 3.93s\tremaining: 471ms\n",
      "893:\tlearn: 0.3092794\ttotal: 3.94s\tremaining: 467ms\n",
      "894:\tlearn: 0.3092132\ttotal: 3.94s\tremaining: 462ms\n",
      "895:\tlearn: 0.3090941\ttotal: 3.95s\tremaining: 459ms\n",
      "896:\tlearn: 0.3089857\ttotal: 3.96s\tremaining: 454ms\n",
      "897:\tlearn: 0.3089087\ttotal: 3.96s\tremaining: 450ms\n",
      "898:\tlearn: 0.3088642\ttotal: 3.97s\tremaining: 446ms\n",
      "899:\tlearn: 0.3088034\ttotal: 3.97s\tremaining: 442ms\n",
      "900:\tlearn: 0.3087183\ttotal: 3.98s\tremaining: 437ms\n",
      "901:\tlearn: 0.3086449\ttotal: 3.99s\tremaining: 433ms\n",
      "902:\tlearn: 0.3085890\ttotal: 4s\tremaining: 430ms\n",
      "903:\tlearn: 0.3084786\ttotal: 4.01s\tremaining: 426ms\n",
      "904:\tlearn: 0.3083068\ttotal: 4.02s\tremaining: 422ms\n",
      "905:\tlearn: 0.3082193\ttotal: 4.02s\tremaining: 417ms\n",
      "906:\tlearn: 0.3081038\ttotal: 4.03s\tremaining: 413ms\n",
      "907:\tlearn: 0.3080185\ttotal: 4.03s\tremaining: 408ms\n",
      "908:\tlearn: 0.3079442\ttotal: 4.04s\tremaining: 404ms\n",
      "909:\tlearn: 0.3078319\ttotal: 4.04s\tremaining: 400ms\n",
      "910:\tlearn: 0.3077434\ttotal: 4.05s\tremaining: 396ms\n",
      "911:\tlearn: 0.3075798\ttotal: 4.05s\tremaining: 391ms\n",
      "912:\tlearn: 0.3074996\ttotal: 4.06s\tremaining: 387ms\n",
      "913:\tlearn: 0.3072249\ttotal: 4.06s\tremaining: 382ms\n",
      "914:\tlearn: 0.3071815\ttotal: 4.07s\tremaining: 378ms\n",
      "915:\tlearn: 0.3071299\ttotal: 4.07s\tremaining: 373ms\n",
      "916:\tlearn: 0.3070714\ttotal: 4.08s\tremaining: 369ms\n",
      "917:\tlearn: 0.3070075\ttotal: 4.08s\tremaining: 364ms\n",
      "918:\tlearn: 0.3069034\ttotal: 4.09s\tremaining: 360ms\n",
      "919:\tlearn: 0.3068318\ttotal: 4.09s\tremaining: 356ms\n",
      "920:\tlearn: 0.3067408\ttotal: 4.1s\tremaining: 351ms\n",
      "921:\tlearn: 0.3066072\ttotal: 4.1s\tremaining: 347ms\n",
      "922:\tlearn: 0.3065739\ttotal: 4.11s\tremaining: 343ms\n",
      "923:\tlearn: 0.3064893\ttotal: 4.12s\tremaining: 339ms\n",
      "924:\tlearn: 0.3063568\ttotal: 4.12s\tremaining: 334ms\n",
      "925:\tlearn: 0.3062351\ttotal: 4.13s\tremaining: 330ms\n",
      "926:\tlearn: 0.3061673\ttotal: 4.14s\tremaining: 326ms\n",
      "927:\tlearn: 0.3061368\ttotal: 4.14s\tremaining: 322ms\n",
      "928:\tlearn: 0.3059809\ttotal: 4.15s\tremaining: 317ms\n",
      "929:\tlearn: 0.3058319\ttotal: 4.15s\tremaining: 313ms\n",
      "930:\tlearn: 0.3057658\ttotal: 4.16s\tremaining: 308ms\n",
      "931:\tlearn: 0.3056323\ttotal: 4.16s\tremaining: 304ms\n",
      "932:\tlearn: 0.3054759\ttotal: 4.17s\tremaining: 300ms\n",
      "933:\tlearn: 0.3053600\ttotal: 4.19s\tremaining: 296ms\n",
      "934:\tlearn: 0.3053104\ttotal: 4.23s\tremaining: 294ms\n",
      "935:\tlearn: 0.3052645\ttotal: 4.23s\tremaining: 289ms\n",
      "936:\tlearn: 0.3051903\ttotal: 4.24s\tremaining: 285ms\n",
      "937:\tlearn: 0.3050743\ttotal: 4.24s\tremaining: 280ms\n",
      "938:\tlearn: 0.3049673\ttotal: 4.25s\tremaining: 276ms\n",
      "939:\tlearn: 0.3048577\ttotal: 4.25s\tremaining: 271ms\n",
      "940:\tlearn: 0.3048092\ttotal: 4.26s\tremaining: 267ms\n",
      "941:\tlearn: 0.3046635\ttotal: 4.26s\tremaining: 262ms\n",
      "942:\tlearn: 0.3045411\ttotal: 4.27s\tremaining: 258ms\n",
      "943:\tlearn: 0.3045121\ttotal: 4.27s\tremaining: 253ms\n",
      "944:\tlearn: 0.3042308\ttotal: 4.27s\tremaining: 249ms\n",
      "945:\tlearn: 0.3041313\ttotal: 4.29s\tremaining: 245ms\n",
      "946:\tlearn: 0.3040808\ttotal: 4.3s\tremaining: 241ms\n",
      "947:\tlearn: 0.3040187\ttotal: 4.3s\tremaining: 236ms\n",
      "948:\tlearn: 0.3039542\ttotal: 4.31s\tremaining: 232ms\n",
      "949:\tlearn: 0.3038566\ttotal: 4.31s\tremaining: 227ms\n",
      "950:\tlearn: 0.3037373\ttotal: 4.32s\tremaining: 222ms\n",
      "951:\tlearn: 0.3036396\ttotal: 4.32s\tremaining: 218ms\n",
      "952:\tlearn: 0.3035282\ttotal: 4.33s\tremaining: 213ms\n",
      "953:\tlearn: 0.3035013\ttotal: 4.33s\tremaining: 209ms\n",
      "954:\tlearn: 0.3034465\ttotal: 4.33s\tremaining: 204ms\n",
      "955:\tlearn: 0.3032996\ttotal: 4.34s\tremaining: 200ms\n",
      "956:\tlearn: 0.3032275\ttotal: 4.34s\tremaining: 195ms\n",
      "957:\tlearn: 0.3029416\ttotal: 4.34s\tremaining: 190ms\n",
      "958:\tlearn: 0.3028794\ttotal: 4.35s\tremaining: 186ms\n",
      "959:\tlearn: 0.3027621\ttotal: 4.35s\tremaining: 181ms\n",
      "960:\tlearn: 0.3026740\ttotal: 4.36s\tremaining: 177ms\n",
      "961:\tlearn: 0.3026370\ttotal: 4.36s\tremaining: 172ms\n",
      "962:\tlearn: 0.3025943\ttotal: 4.36s\tremaining: 168ms\n",
      "963:\tlearn: 0.3025056\ttotal: 4.37s\tremaining: 163ms\n",
      "964:\tlearn: 0.3022913\ttotal: 4.37s\tremaining: 159ms\n",
      "965:\tlearn: 0.3022279\ttotal: 4.38s\tremaining: 154ms\n",
      "966:\tlearn: 0.3020314\ttotal: 4.38s\tremaining: 149ms\n",
      "967:\tlearn: 0.3017716\ttotal: 4.38s\tremaining: 145ms\n",
      "968:\tlearn: 0.3016746\ttotal: 4.39s\tremaining: 140ms\n",
      "969:\tlearn: 0.3015974\ttotal: 4.39s\tremaining: 136ms\n",
      "970:\tlearn: 0.3014778\ttotal: 4.4s\tremaining: 131ms\n",
      "971:\tlearn: 0.3012757\ttotal: 4.4s\tremaining: 127ms\n",
      "972:\tlearn: 0.3011887\ttotal: 4.41s\tremaining: 122ms\n",
      "973:\tlearn: 0.3011372\ttotal: 4.42s\tremaining: 118ms\n",
      "974:\tlearn: 0.3011152\ttotal: 4.43s\tremaining: 114ms\n",
      "975:\tlearn: 0.3010564\ttotal: 4.43s\tremaining: 109ms\n",
      "976:\tlearn: 0.3009413\ttotal: 4.44s\tremaining: 105ms\n",
      "977:\tlearn: 0.3008723\ttotal: 4.44s\tremaining: 100ms\n",
      "978:\tlearn: 0.3007869\ttotal: 4.45s\tremaining: 95.5ms\n",
      "979:\tlearn: 0.3006888\ttotal: 4.46s\tremaining: 91ms\n",
      "980:\tlearn: 0.3005269\ttotal: 4.46s\tremaining: 86.4ms\n",
      "981:\tlearn: 0.3004298\ttotal: 4.46s\tremaining: 81.9ms\n",
      "982:\tlearn: 0.3003791\ttotal: 4.47s\tremaining: 77.3ms\n",
      "983:\tlearn: 0.3002864\ttotal: 4.47s\tremaining: 72.7ms\n",
      "984:\tlearn: 0.3001805\ttotal: 4.48s\tremaining: 68.2ms\n",
      "985:\tlearn: 0.3000654\ttotal: 4.48s\tremaining: 63.6ms\n",
      "986:\tlearn: 0.2999720\ttotal: 4.5s\tremaining: 59.2ms\n",
      "987:\tlearn: 0.2999318\ttotal: 4.5s\tremaining: 54.7ms\n",
      "988:\tlearn: 0.2998853\ttotal: 4.5s\tremaining: 50.1ms\n",
      "989:\tlearn: 0.2998197\ttotal: 4.51s\tremaining: 45.5ms\n",
      "990:\tlearn: 0.2997420\ttotal: 4.51s\tremaining: 41ms\n",
      "991:\tlearn: 0.2996812\ttotal: 4.52s\tremaining: 36.4ms\n",
      "992:\tlearn: 0.2996357\ttotal: 4.52s\tremaining: 31.9ms\n",
      "993:\tlearn: 0.2995741\ttotal: 4.53s\tremaining: 27.4ms\n",
      "994:\tlearn: 0.2995044\ttotal: 4.54s\tremaining: 22.8ms\n",
      "995:\tlearn: 0.2992189\ttotal: 4.54s\tremaining: 18.2ms\n",
      "996:\tlearn: 0.2991502\ttotal: 4.54s\tremaining: 13.7ms\n",
      "997:\tlearn: 0.2990849\ttotal: 4.55s\tremaining: 9.12ms\n",
      "998:\tlearn: 0.2990483\ttotal: 4.55s\tremaining: 4.56ms\n",
      "999:\tlearn: 0.2989227\ttotal: 4.56s\tremaining: 0us\n"
     ]
    },
    {
     "data": {
      "text/plain": [
       "<catboost.core.CatBoostClassifier at 0x20090984760>"
      ]
     },
     "execution_count": 187,
     "metadata": {},
     "output_type": "execute_result"
    }
   ],
   "source": [
    "model_cat.fit(X_train, y_train)"
   ]
  },
  {
   "cell_type": "code",
   "execution_count": 188,
   "id": "23c86d65-9883-478f-9a4b-7b2c0272adb3",
   "metadata": {},
   "outputs": [],
   "source": [
    "y_pred_cat = model_cat.predict(X_test)"
   ]
  },
  {
   "cell_type": "code",
   "execution_count": 189,
   "id": "d01d4170-bae6-47e3-b7af-f67da71741e1",
   "metadata": {},
   "outputs": [
    {
     "data": {
      "text/plain": [
       "array([0, 0, 0, 0, 0, 0, 0, 1, 0, 1, 0, 0, 0, 0, 0, 0, 0, 0, 1, 1, 0, 0,\n",
       "       0, 0, 0, 0, 0, 0, 0, 0, 1, 1, 0, 1, 0, 0, 0, 0, 0, 0, 0, 0, 1, 1,\n",
       "       1, 1, 1, 0, 1, 0, 0, 0, 0, 1, 0, 0, 0, 0, 0, 0, 0, 0, 0, 0, 0, 0,\n",
       "       0, 0, 1, 0, 0, 0, 0, 1, 0, 0, 1, 0, 1, 0, 1, 1, 1, 0, 1, 1, 0, 0,\n",
       "       1, 0, 0, 0, 0, 0, 1, 0, 1, 0, 0, 1, 0, 0, 1, 0, 0, 0, 0, 0, 0, 0,\n",
       "       0, 0, 1, 1, 0, 0, 0, 0, 1, 0, 0, 0, 0, 0, 0, 0, 0, 0, 0, 0, 1, 1,\n",
       "       1, 0, 1, 0, 1, 0, 0, 1, 1, 0, 0, 0, 0, 1, 0, 0, 1, 0, 0, 0, 0, 0,\n",
       "       1, 1, 0, 0, 1, 1, 0, 1, 0, 1, 0, 0, 1, 0, 0, 1, 0, 1, 0, 0, 0, 0,\n",
       "       0, 1, 0], dtype=int64)"
      ]
     },
     "execution_count": 189,
     "metadata": {},
     "output_type": "execute_result"
    }
   ],
   "source": [
    "# print(classification_report(y_test,y_pred_cat))\n",
    "y_pred_cat"
   ]
  },
  {
   "cell_type": "code",
   "execution_count": 190,
   "id": "469a1222-0d9d-4ce1-8086-dc32295cf53f",
   "metadata": {},
   "outputs": [
    {
     "name": "stdout",
     "output_type": "stream",
     "text": [
      "              precision    recall  f1-score   support\n",
      "\n",
      "           0       0.87      0.95      0.91       118\n",
      "           1       0.88      0.72      0.79        61\n",
      "\n",
      "    accuracy                           0.87       179\n",
      "   macro avg       0.87      0.84      0.85       179\n",
      "weighted avg       0.87      0.87      0.87       179\n",
      "\n"
     ]
    }
   ],
   "source": [
    "print(classification_report(y_test,y_pred_cat))"
   ]
  },
  {
   "cell_type": "code",
   "execution_count": 218,
   "id": "92e1d9ff-2bc0-420b-95bd-da2d702f40d6",
   "metadata": {},
   "outputs": [],
   "source": [
    "X = data2.drop([\"Survived\",\"Parch\",\"Embarked_Q\",\"SibSp\"], axis=1 )\n",
    "y = data2.Survived\n",
    "\n",
    "X_traina, X_testa, y_traina, y_testa = train_test_split(X,y, test_size=0.3, random_state=75)"
   ]
  },
  {
   "cell_type": "markdown",
   "id": "23961267-214d-43bc-92a3-bc6b9a4ddee6",
   "metadata": {},
   "source": [
    "# Using a function for KNN and SVC"
   ]
  },
  {
   "cell_type": "markdown",
   "id": "b5954f76-9758-4600-8944-cc2c2f08f374",
   "metadata": {},
   "source": [
    "# calling "
   ]
  },
  {
   "cell_type": "code",
   "execution_count": 219,
   "id": "db4855eb-e660-48f3-b533-8ca5f9c78ebc",
   "metadata": {},
   "outputs": [],
   "source": [
    "s_model = SVC()\n",
    "k_model = KNeighborsClassifier()"
   ]
  },
  {
   "cell_type": "code",
   "execution_count": 220,
   "id": "3399a552-053a-491f-a6cd-b32971221a25",
   "metadata": {},
   "outputs": [],
   "source": [
    "def model_fun (model, X_traina=X_traina, y_traina=y_traina, X_testa=X_testa):\n",
    "    model.fit(X_traina, y_traina)\n",
    "    y_preda = model.predict(X_testa)\n",
    "    return y_preda\n",
    "    "
   ]
  },
  {
   "cell_type": "code",
   "execution_count": 221,
   "id": "126016fa-c180-4ac7-84e5-97bd6b4c1130",
   "metadata": {},
   "outputs": [
    {
     "name": "stdout",
     "output_type": "stream",
     "text": [
      "              precision    recall  f1-score   support\n",
      "\n",
      "           0       0.71      0.87      0.78       175\n",
      "           1       0.57      0.31      0.40        93\n",
      "\n",
      "    accuracy                           0.68       268\n",
      "   macro avg       0.64      0.59      0.59       268\n",
      "weighted avg       0.66      0.68      0.65       268\n",
      "\n"
     ]
    }
   ],
   "source": [
    "s_pred = model_fun(s_model)\n",
    "print(classification_report(y_testa, s_pred))"
   ]
  },
  {
   "cell_type": "code",
   "execution_count": 222,
   "id": "e43d9514-5ef2-4879-a110-19c9f7b05658",
   "metadata": {},
   "outputs": [
    {
     "name": "stdout",
     "output_type": "stream",
     "text": [
      "              precision    recall  f1-score   support\n",
      "\n",
      "           0       0.77      0.78      0.77       175\n",
      "           1       0.57      0.55      0.56        93\n",
      "\n",
      "    accuracy                           0.70       268\n",
      "   macro avg       0.67      0.67      0.67       268\n",
      "weighted avg       0.70      0.70      0.70       268\n",
      "\n"
     ]
    }
   ],
   "source": [
    "k_pred = model_fun(k_model)\n",
    "print(classification_report(y_testa, k_pred))"
   ]
  },
  {
   "cell_type": "code",
   "execution_count": 225,
   "id": "7d8004e1-4de9-4c14-acda-80e1439cb59d",
   "metadata": {},
   "outputs": [],
   "source": [
    "error_rate = []\n",
    "for i in range(1, 30):\n",
    "    K_model = KNeighborsClassifier(n_neighbors=i)\n",
    "    k_model.fit(X_train, y_train)\n",
    "    k_pred = k_model.predict(X_test)\n",
    "    error_rate.append(np.mean(k_pred != y_test))"
   ]
  },
  {
   "cell_type": "code",
   "execution_count": 226,
   "id": "92a0a290-cc44-4d8f-befa-2bc6eb6a9aae",
   "metadata": {},
   "outputs": [
    {
     "data": {
      "text/plain": [
       "Text(0, 0.5, 'Error_Rate')"
      ]
     },
     "execution_count": 226,
     "metadata": {},
     "output_type": "execute_result"
    },
    {
     "data": {
      "image/png": "[encoded data removed]",
      "text/plain": [
       "<Figure size 720x432 with 1 Axes>"
      ]
     },
     "metadata": {
      "needs_background": "light"
     },
     "output_type": "display_data"
    }
   ],
   "source": [
    "plt.figure(figsize=(10,6))\n",
    "plt.plot(range(1,30), error_rate, color=\"blue\", linestyle=\"dashed\", marker='o',\n",
    "        markerfacecolor=\"red\", markersize=10)\n",
    "plt.title(\"Error_Rate vs k value\")\n",
    "plt.xlabel(\"K\")\n",
    "plt.ylabel(\"Error_Rate\")"
   ]
  },
  {
   "cell_type": "code",
   "execution_count": null,
   "id": "3def0b4e-d12f-4896-84eb-9105d163ccc7",
   "metadata": {},
   "outputs": [],
   "source": []
  }
 ],
 "metadata": {
  "kernelspec": {
   "display_name": "Python 3",
   "language": "python",
   "name": "python3"
  },
  "language_info": {
   "codemirror_mode": {
    "name": "ipython",
    "version": 3
   },
   "file_extension": ".py",
   "mimetype": "text/x-python",
   "name": "python",
   "nbconvert_exporter": "python",
   "pygments_lexer": "ipython3",
   "version": "3.8.8"
  }
 },
 "nbformat": 4,
 "nbformat_minor": 5
}
